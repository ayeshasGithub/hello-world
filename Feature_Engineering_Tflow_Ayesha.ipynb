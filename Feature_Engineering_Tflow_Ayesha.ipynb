{
  "nbformat": 4,
  "nbformat_minor": 0,
  "metadata": {
    "colab": {
      "name": "Feature_Engineering_Tflow_Ayesha.ipynb",
      "provenance": [],
      "collapsed_sections": [],
      "mount_file_id": "1AlqTWn1Z4ncMEAqcb1ODfhcpR_vLfncS",
      "authorship_tag": "ABX9TyPXvrP5u2nXOaAwpwi3cklU",
      "include_colab_link": true
    },
    "kernelspec": {
      "name": "python3",
      "display_name": "Python 3"
    },
    "accelerator": "GPU"
  },
  "cells": [
    {
      "cell_type": "markdown",
      "metadata": {
        "id": "view-in-github",
        "colab_type": "text"
      },
      "source": [
        "<a href=\"https://colab.research.google.com/github/ayeshasGithub/hello-world/blob/master/Feature_Engineering_Tflow_Ayesha.ipynb\" target=\"_parent\"><img src=\"https://colab.research.google.com/assets/colab-badge.svg\" alt=\"Open In Colab\"/></a>"
      ]
    },
    {
      "cell_type": "markdown",
      "metadata": {
        "id": "qFswDa_Jwa8h",
        "colab_type": "text"
      },
      "source": [
        "# Feature Engineering"
      ]
    },
    {
      "cell_type": "code",
      "metadata": {
        "id": "PQyXSxMVJkT3",
        "colab_type": "code",
        "colab": {
          "base_uri": "https://localhost:8080/",
          "height": 71
        },
        "outputId": "a4666114-50ab-4e73-a191-cdfef162d6e4"
      },
      "source": [
        "import pandas as pd\n",
        "df = pd.read_csv('/content/drive/My Drive/Colab Notebooks/Data/LMK_WoolSales_SaleSummary.csv', encoding= 'unicode_escape')\n",
        "df_big=df\n",
        "df_small=df.sample(frac=0.01, random_state=1)#subset of df\n",
        "#fig = X_train.groupby(['Cabin_ordered'])['Survived'].mean().plot() #group by\n",
        "#df.shape #how many rows and columns\n",
        "#df['Brand'].head(5)\n",
        "#df.columns #see column names\n",
        "#df.isna().sum() #which column has how many null values"
      ],
      "execution_count": null,
      "outputs": [
        {
          "output_type": "stream",
          "text": [
            "/usr/local/lib/python3.6/dist-packages/IPython/core/interactiveshell.py:2718: DtypeWarning: Columns (2) have mixed types.Specify dtype option on import or set low_memory=False.\n",
            "  interactivity=interactivity, compiler=compiler, result=result)\n"
          ],
          "name": "stderr"
        }
      ]
    },
    {
      "cell_type": "markdown",
      "metadata": {
        "id": "9_woybNZueJv",
        "colab_type": "text"
      },
      "source": [
        "### Selected variables:\n",
        "We have selected 27 variables after data analysis. <br>\n",
        "====> From the date related variables we have extracted month info and applied label encoder\n",
        " \n",
        "====> The weight related variables are all numerical variables, we have normalized those variables between 0 and 1. <br>\n",
        "\n",
        "====> The seller related variables are all categorical variables and also have missing values. We have \n",
        "* Adopted technique to fill those missing variables\n",
        "* Applied Mean encoding and other encoding techniques (Other techniques yet to be applied)\n",
        "\n",
        "====> The quality related variables are all numerical variables, we have standardized those variables with mean 0 and standard deviation 1. <br>\n",
        "\n",
        "\n",
        "\n",
        "We have listed the variable names and appropriate encoding techniques applied on those variables below:<br>\n",
        "* Weight related variables: 'NetWeight' -> <font color='blue'> Encoding Technique: Normalization<br></font>\n",
        "* Date related variables: 'SaleDate' -> <font color='blue'> Encoding Technique: Label encoder</font><br>\n",
        "* Seller variables: 'SaleNbrSellingCntr', 'Brand','StandardBaleDesc', 'Region','Division', 'Branch','WAM','Agent' -> <font color='blue'> Encoding Technique: Mean encoder</font><br>\n",
        "* Quatility variables: 'Micron','Curvature','VMB','Yield1','FolioProceed','FDMean','FDCOEfficient','FDComfort', 'StapleLength','StapleLengthCV',StapleStrength','StapleStrengthLowest25', 'TheoreticalHauteur', 'TheoreticalHauteurCV', 'PositionofBreakTip','PositionofBreakMiddle',PositionofBreakBase' -> <font color='blue'>Encoding technique: Standardization </font><br>"
      ]
    },
    {
      "cell_type": "code",
      "metadata": {
        "id": "wfS3TNQeE753",
        "colab_type": "code",
        "colab": {}
      },
      "source": [
        "#weight variables:\n",
        "features_w=['NetWeight']#from all the weights only using net weight since others are correlated\n",
        "\n",
        "#date variables:\n",
        "features_d=['SaleDate']\n",
        "\n",
        "\n",
        "#seller variables:\n",
        "features_c_1=['SaleNbrSellingCntr', 'Brand','StandardBaleDesc']\n",
        "features_c_2=['Region','Division','Branch','WAM','Agent']\n",
        "\n",
        "#quality variables: \n",
        "features_q_1 = ['Micron','Curvature','VMB','Yield1','FolioProceed']\n",
        "features_q_2=['FDMean','FDCOEfficient','FDComfort']\n",
        "features_q_3=['StapleLength','StapleLengthCV','StapleStrength','StapleStrengthLowest25']\n",
        "features_q_4=['TheoreticalHauteur','TheoreticalHauteurCV']\n",
        "features_q_5=['PositionofBreakTip','PositionofBreakMiddle','PositionofBreakBase']\n",
        "\n",
        "#result variables(sold or not sold?):\n",
        "features_r=['SaleOutcome']\n",
        "\n",
        "#target variable:\n",
        "label=['SalePrice']\n",
        "target=['SalePrice']\n",
        "\n",
        "#X = df[features]\n",
        "#y=df[label]\n",
        "\n"
      ],
      "execution_count": null,
      "outputs": []
    },
    {
      "cell_type": "markdown",
      "metadata": {
        "id": "Bfxpu-l8GY12",
        "colab_type": "text"
      },
      "source": [
        "### Weight variable"
      ]
    },
    {
      "cell_type": "code",
      "metadata": {
        "id": "QRQJ1QB4FjTd",
        "colab_type": "code",
        "colab": {
          "base_uri": "https://localhost:8080/",
          "height": 255
        },
        "outputId": "4887ac9b-8188-4922-99be-65cb454ca5b8"
      },
      "source": [
        "features_w=['NetWeight']\n",
        "\n",
        "#create dataframe\n",
        "df_w=df.loc[:,features_w]\n",
        "\n",
        "#import libraries\n",
        "import pandas as pd\n",
        "from sklearn import preprocessing\n",
        "\n",
        "#normalization function\n",
        "def scaleColumns(df, cols_to_scale):\n",
        "    min_max_scaler = preprocessing.MinMaxScaler()\n",
        "    for col in cols_to_scale:\n",
        "        \n",
        "        df[col] = pd.DataFrame(min_max_scaler.fit_transform(pd.DataFrame(df[col])),columns=[col])\n",
        "    return df\n",
        "\n",
        "\n",
        "\n",
        "#apply normalization\n",
        "df_w=scaleColumns(df_w,features_w)\n",
        "print(df_w)"
      ],
      "execution_count": null,
      "outputs": [
        {
          "output_type": "stream",
          "text": [
            "        NetWeight\n",
            "0        0.101094\n",
            "1        0.065628\n",
            "2        0.086178\n",
            "3        0.070103\n",
            "4        0.047232\n",
            "...           ...\n",
            "632966   0.225721\n",
            "632967   0.212794\n",
            "632968   0.079881\n",
            "632969   0.330295\n",
            "632970   0.169042\n",
            "\n",
            "[632971 rows x 1 columns]\n"
          ],
          "name": "stdout"
        }
      ]
    },
    {
      "cell_type": "markdown",
      "metadata": {
        "id": "_EtBREPEIe41",
        "colab_type": "text"
      },
      "source": [
        "### Date variable"
      ]
    },
    {
      "cell_type": "code",
      "metadata": {
        "id": "RLyjFiU9IliR",
        "colab_type": "code",
        "colab": {
          "base_uri": "https://localhost:8080/",
          "height": 221
        },
        "outputId": "1ec848ea-14ae-40c5-b17c-12d9963444b5"
      },
      "source": [
        "features_d=['SaleDate']\n",
        "\n",
        "#create view\n",
        "df_date=df.loc[:,features_d]\n",
        "\n",
        "\n",
        "\n",
        "#import libraries\n",
        "import pandas as pd\n",
        "from sklearn import preprocessing\n",
        "import datetime\n",
        "\n",
        "#extract month column\n",
        "df_date = df_date.astype(\"datetime64\")\n",
        "df_date['Month']=df_date['SaleDate'].dt.month\n",
        "print(df_date.head())\n",
        "\n",
        "\n",
        "#apply label encoder: deal month as a categorical variable, if only the number is used then the model would give the most importance to 12\n",
        "le = preprocessing.LabelEncoder()\n",
        "encoded=le.fit_transform(df_date['Month'].astype(str))\n",
        "#print(type(encoded))\n",
        "df_date['Month_enc'] = pd.DataFrame({'Month_enc': encoded})\n",
        "print(df_date.head(5))\n",
        "#'''\n"
      ],
      "execution_count": null,
      "outputs": [
        {
          "output_type": "stream",
          "text": [
            "    SaleDate  Month\n",
            "0 2019-10-31     10\n",
            "1 2019-10-31     10\n",
            "2 2019-10-31     10\n",
            "3 2019-10-31     10\n",
            "4 2019-10-31     10\n",
            "    SaleDate  Month  Month_enc\n",
            "0 2019-10-31     10          1\n",
            "1 2019-10-31     10          1\n",
            "2 2019-10-31     10          1\n",
            "3 2019-10-31     10          1\n",
            "4 2019-10-31     10          1\n"
          ],
          "name": "stdout"
        }
      ]
    },
    {
      "cell_type": "markdown",
      "metadata": {
        "id": "e85DFfp8b1jl",
        "colab_type": "text"
      },
      "source": [
        "### Seller variables (Categorical and with missing rows)"
      ]
    },
    {
      "cell_type": "code",
      "metadata": {
        "id": "-jL1GBjTcDnY",
        "colab_type": "code",
        "colab": {
          "base_uri": "https://localhost:8080/",
          "height": 419
        },
        "outputId": "4ffe4323-d2ac-4c81-edb4-6401ec488af0"
      },
      "source": [
        "features_c_1=['SaleNbrSellingCntr','StandardBaleDesc']\n",
        "features_c_2=['Brand','Region','Division','Branch','WAM','Agent']\n",
        "features_c=features_c_1+features_c_2\n",
        "\n",
        "#create view\n",
        "df_c=df.loc[:,features_c]\n",
        "\n",
        "#import libraries\n",
        "import pandas as pd\n",
        "from sklearn import preprocessing\n",
        "\n",
        "\n",
        "#replace missing values\n",
        "#replace Brand\n",
        "df_c['Brand'].fillna('DAL/A')#replaced missing values with most frequent one\n",
        "#replace Region,Division,Branch,WAM,Agent\n",
        "df_c.fillna('Any')#replaced missing values with any\n",
        "\n",
        "\n",
        "#ENCODING TECHNIQUES TO BE APPLIED\n",
        "\n",
        "\n"
      ],
      "execution_count": null,
      "outputs": [
        {
          "output_type": "execute_result",
          "data": {
            "text/html": [
              "<div>\n",
              "<style scoped>\n",
              "    .dataframe tbody tr th:only-of-type {\n",
              "        vertical-align: middle;\n",
              "    }\n",
              "\n",
              "    .dataframe tbody tr th {\n",
              "        vertical-align: top;\n",
              "    }\n",
              "\n",
              "    .dataframe thead th {\n",
              "        text-align: right;\n",
              "    }\n",
              "</style>\n",
              "<table border=\"1\" class=\"dataframe\">\n",
              "  <thead>\n",
              "    <tr style=\"text-align: right;\">\n",
              "      <th></th>\n",
              "      <th>SaleNbrSellingCntr</th>\n",
              "      <th>StandardBaleDesc</th>\n",
              "      <th>Brand</th>\n",
              "      <th>Region</th>\n",
              "      <th>Division</th>\n",
              "      <th>Branch</th>\n",
              "      <th>WAM</th>\n",
              "      <th>Agent</th>\n",
              "    </tr>\n",
              "  </thead>\n",
              "  <tbody>\n",
              "    <tr>\n",
              "      <th>0</th>\n",
              "      <td>S</td>\n",
              "      <td>AAAM</td>\n",
              "      <td>YARRAFORD</td>\n",
              "      <td>NE</td>\n",
              "      <td>CNSW</td>\n",
              "      <td>Glen Innes</td>\n",
              "      <td>NICKY  SYMONS</td>\n",
              "      <td>BP24-BRAD NEWSOME</td>\n",
              "    </tr>\n",
              "    <tr>\n",
              "      <th>1</th>\n",
              "      <td>S</td>\n",
              "      <td>MBKN</td>\n",
              "      <td>YARRAFORD</td>\n",
              "      <td>NE</td>\n",
              "      <td>CNSW</td>\n",
              "      <td>Glen Innes</td>\n",
              "      <td>NICKY  SYMONS</td>\n",
              "      <td>BP24-BRAD NEWSOME</td>\n",
              "    </tr>\n",
              "    <tr>\n",
              "      <th>2</th>\n",
              "      <td>S</td>\n",
              "      <td>AAM</td>\n",
              "      <td>YARRAFORD</td>\n",
              "      <td>NE</td>\n",
              "      <td>CNSW</td>\n",
              "      <td>Glen Innes</td>\n",
              "      <td>NICKY  SYMONS</td>\n",
              "      <td>BP24-BRAD NEWSOME</td>\n",
              "    </tr>\n",
              "    <tr>\n",
              "      <th>3</th>\n",
              "      <td>S</td>\n",
              "      <td>AAAM</td>\n",
              "      <td>YARRAFORD</td>\n",
              "      <td>NE</td>\n",
              "      <td>CNSW</td>\n",
              "      <td>Glen Innes</td>\n",
              "      <td>NICKY  SYMONS</td>\n",
              "      <td>BP24-BRAD NEWSOME</td>\n",
              "    </tr>\n",
              "    <tr>\n",
              "      <th>4</th>\n",
              "      <td>S</td>\n",
              "      <td>AAAM</td>\n",
              "      <td>YARRAFORD</td>\n",
              "      <td>NE</td>\n",
              "      <td>CNSW</td>\n",
              "      <td>Glen Innes</td>\n",
              "      <td>NICKY  SYMONS</td>\n",
              "      <td>BP24-BRAD NEWSOME</td>\n",
              "    </tr>\n",
              "    <tr>\n",
              "      <th>...</th>\n",
              "      <td>...</td>\n",
              "      <td>...</td>\n",
              "      <td>...</td>\n",
              "      <td>...</td>\n",
              "      <td>...</td>\n",
              "      <td>...</td>\n",
              "      <td>...</td>\n",
              "      <td>...</td>\n",
              "    </tr>\n",
              "    <tr>\n",
              "      <th>632966</th>\n",
              "      <td>F</td>\n",
              "      <td>AAAM</td>\n",
              "      <td>KWINANA</td>\n",
              "      <td>WA</td>\n",
              "      <td>WAS</td>\n",
              "      <td>Katanning</td>\n",
              "      <td>Warren  HOLT</td>\n",
              "      <td>Any</td>\n",
              "    </tr>\n",
              "    <tr>\n",
              "      <th>632967</th>\n",
              "      <td>F</td>\n",
              "      <td>AAAM</td>\n",
              "      <td>KWINANA</td>\n",
              "      <td>WA</td>\n",
              "      <td>WAS</td>\n",
              "      <td>Katanning</td>\n",
              "      <td>Warren  HOLT</td>\n",
              "      <td>Any</td>\n",
              "    </tr>\n",
              "    <tr>\n",
              "      <th>632968</th>\n",
              "      <td>F</td>\n",
              "      <td>AAAM</td>\n",
              "      <td>KWINANA</td>\n",
              "      <td>WA</td>\n",
              "      <td>WAS</td>\n",
              "      <td>Katanning</td>\n",
              "      <td>Warren  HOLT</td>\n",
              "      <td>Any</td>\n",
              "    </tr>\n",
              "    <tr>\n",
              "      <th>632969</th>\n",
              "      <td>F</td>\n",
              "      <td>AAAM</td>\n",
              "      <td>KWINANA</td>\n",
              "      <td>WA</td>\n",
              "      <td>WAS</td>\n",
              "      <td>Katanning</td>\n",
              "      <td>Warren  HOLT</td>\n",
              "      <td>Any</td>\n",
              "    </tr>\n",
              "    <tr>\n",
              "      <th>632970</th>\n",
              "      <td>F</td>\n",
              "      <td>AAAM</td>\n",
              "      <td>KWINANA</td>\n",
              "      <td>WA</td>\n",
              "      <td>WAS</td>\n",
              "      <td>Katanning</td>\n",
              "      <td>Warren  HOLT</td>\n",
              "      <td>Any</td>\n",
              "    </tr>\n",
              "  </tbody>\n",
              "</table>\n",
              "<p>632971 rows × 8 columns</p>\n",
              "</div>"
            ],
            "text/plain": [
              "       SaleNbrSellingCntr StandardBaleDesc  ...            WAM              Agent\n",
              "0                       S             AAAM  ...  NICKY  SYMONS  BP24-BRAD NEWSOME\n",
              "1                       S             MBKN  ...  NICKY  SYMONS  BP24-BRAD NEWSOME\n",
              "2                       S              AAM  ...  NICKY  SYMONS  BP24-BRAD NEWSOME\n",
              "3                       S             AAAM  ...  NICKY  SYMONS  BP24-BRAD NEWSOME\n",
              "4                       S             AAAM  ...  NICKY  SYMONS  BP24-BRAD NEWSOME\n",
              "...                   ...              ...  ...            ...                ...\n",
              "632966                  F             AAAM  ...   Warren  HOLT                Any\n",
              "632967                  F             AAAM  ...   Warren  HOLT                Any\n",
              "632968                  F             AAAM  ...   Warren  HOLT                Any\n",
              "632969                  F             AAAM  ...   Warren  HOLT                Any\n",
              "632970                  F             AAAM  ...   Warren  HOLT                Any\n",
              "\n",
              "[632971 rows x 8 columns]"
            ]
          },
          "metadata": {
            "tags": []
          },
          "execution_count": 35
        }
      ]
    },
    {
      "cell_type": "markdown",
      "metadata": {
        "id": "dpZfhxTvNYF9",
        "colab_type": "text"
      },
      "source": [
        "### Quality variables (Numerical)"
      ]
    },
    {
      "cell_type": "code",
      "metadata": {
        "id": "T4Im2eekOVq4",
        "colab_type": "code",
        "colab": {
          "base_uri": "https://localhost:8080/",
          "height": 170
        },
        "outputId": "d1cb75da-f74a-48d0-c3b0-f5f07af15fa7"
      },
      "source": [
        "features_q_1 = ['Micron','Curvature','VMB','Yield1','FolioProceeds']\n",
        "features_q_2=['FDMean','FDCOEfficient','FDComfort']\n",
        "features_q_3=['StapleLength','StapleLengthCV','StapleStrength','StapleStrengthLowest25']\n",
        "features_q_4=['TheoreticalHauteur','TheoreticalHauteurCV']\n",
        "features_q_5=['PositionofBreakTip','PositionofBreakMiddle','PositionofBreakBase']\n",
        "\n",
        "features_q=features_q_1+features_q_2+features_q_3+features_q_4+features_q_5\n",
        "\n",
        "\n",
        "#create view\n",
        "df_q=df.loc[:,features_q]\n",
        "\n",
        "\n",
        "\n",
        "#import libraries\n",
        "import pandas as pd\n",
        "from sklearn.preprocessing import StandardScaler\n",
        "\n",
        "\n",
        "#standardization function\n",
        "def standardColumns(df, cols_to_scale):\n",
        "    scaler=StandardScaler()\n",
        "    for col in cols_to_scale:\n",
        "        \n",
        "        df[col] = pd.DataFrame(scaler.fit_transform(pd.DataFrame(df[col])),columns=[col])\n",
        "    return df\n",
        "\n",
        "\n",
        "#apply standardization technique\n",
        "df_q=standardColumns(df_q,features_q)\n",
        "\n",
        "print(df_q.head(6))\n"
      ],
      "execution_count": null,
      "outputs": [
        {
          "output_type": "stream",
          "text": [
            "     Micron  Curvature  ...  PositionofBreakMiddle  PositionofBreakBase\n",
            "0 -0.006821   0.965250  ...               0.486539             1.652904\n",
            "1 -0.006821   1.073006  ...               0.621664             0.418474\n",
            "2 -0.006821   1.073006  ...              -1.067393            -0.724517\n",
            "3 -0.006821   1.611789  ...               2.040471            -0.724517\n",
            "4 -0.006821   1.073006  ...               1.195943             0.281315\n",
            "5 -0.006821   1.073006  ...               0.520320             1.195707\n",
            "\n",
            "[6 rows x 17 columns]\n"
          ],
          "name": "stdout"
        }
      ]
    }
  ]
}