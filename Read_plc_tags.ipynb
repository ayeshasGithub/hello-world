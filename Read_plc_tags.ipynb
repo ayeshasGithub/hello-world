{
  "nbformat": 4,
  "nbformat_minor": 0,
  "metadata": {
    "colab": {
      "name": "Read_plc_tags.ipynb",
      "provenance": [],
      "collapsed_sections": [],
      "authorship_tag": "ABX9TyON8vvlrWRjH3OMPcbAbkgf",
      "include_colab_link": true
    },
    "kernelspec": {
      "name": "python3",
      "display_name": "Python 3"
    }
  },
  "cells": [
    {
      "cell_type": "markdown",
      "metadata": {
        "id": "view-in-github",
        "colab_type": "text"
      },
      "source": [
        "<a href=\"https://colab.research.google.com/github/ayeshasGithub/hello-world/blob/master/Read_plc_tags.ipynb\" target=\"_parent\"><img src=\"https://colab.research.google.com/assets/colab-badge.svg\" alt=\"Open In Colab\"/></a>"
      ]
    },
    {
      "cell_type": "markdown",
      "metadata": {
        "id": "jaKfyv1AydXN",
        "colab_type": "text"
      },
      "source": [
        "# Install Kafka depedencies"
      ]
    },
    {
      "cell_type": "code",
      "metadata": {
        "id": "hLu3IwqZZpW8",
        "colab_type": "code",
        "colab": {}
      },
      "source": [
        "#new 3\n",
        "import json \n",
        "from kafka import KafkaConsumer\n",
        "import redis\n",
        "import time\n",
        "import sys\n",
        "\n",
        "topic_name = 'magnaPlcTagData'\n",
        "b_server=['10.0.1.96:9092']\n",
        "\n",
        "\n",
        "#redis host\n",
        "redis_host=\"192.168.2.11\"\n",
        "redis_port = 6379\n",
        "redis_password = \"\"\n",
        "r=redis.Redis(host=\"192.168.2.11\", port=6379, db=0)\n",
        "\n",
        "#key conversion: {'line': 'rw43', 'zone': 'zone01', 'station': '-1', 'asset': '-1', 'tag_name': 'Zone01_Shift_1', \n",
        "#                   'tag_value': '1', 'tag_datetime':'2020-05-28T11:31:05.89'} \n",
        "key_conversion={'root.LaneID':'line','root.ZoneID':'zone','root.TagID':'tag_name','root.StationID':'station',\n",
        "                \n",
        "                        'root.EquipmentID':'asset','root.TagValue':'tag_value','root.TagDateTime':'tag_datetime'}\n",
        "\n",
        "msg_count=0\n",
        "#plc_tag_hash={}#dic of dic\n",
        "plc_tag_msg={}\n",
        "\n",
        "consumer = KafkaConsumer(topic_name, bootstrap_servers=b_server,auto_offset_reset='earliest',\n",
        "                         session_timeout_ms=10000, \n",
        "                          enable_auto_commit=False, auto_commit_interval_ms=5000,\n",
        "                         reconnect_backoff_ms=30000, reconnect_backoff_max_ms=60000,\n",
        "                         max_poll_records=50, max_poll_interval_ms=300000,                        \n",
        "                         group_id=None, value_deserializer=lambda x: loads(x.decode('utf-8')))\n",
        "\n",
        "\n",
        "for msg in consumer:\n",
        "    msg_count=msg_count+1\n",
        "    #if msg_count<= 30000:\n",
        "    #    continue\n",
        "    msg = msg.value\n",
        "    \n",
        "    #print('{}'.format(msg))\n",
        "  \n",
        "    #parse tag from msg\n",
        "    dic_msg=msg[0]#type(msg)=list, type(msg[0])=dic\\n\",\n",
        "    res=json.loads(dic_msg['FeedData'])#type(dic_msg['FeedData'])=str, type(dic_msg['FeedData'][0])=type(res)=list\\n\",\n",
        "    new_dic=res[0]#type(new_dic)=dic\\n\",\n",
        "    name_list=new_dic['NAMES']#type(new_dic['NAMES'])=list\\n\",\n",
        "    \n",
        "    len_value=len(new_dic['VALUES'])\n",
        "    print('number of values',len_value)\n",
        "    \n",
        "    for i in range(len_value):\n",
        "        \n",
        "        value_list=new_dic['VALUES'][i]#type(new_dic['Values'])=list of list\\n\",\n",
        "        #value_list=new_dic['VALUES'][0]#type(new_dic['Values'])=list of list\\n\",\n",
        "    \n",
        "         \n",
        "        #make one dic from one parsed msg => tag\n",
        "        plc_dic={}\n",
        "        for name,value in zip(name_list,value_list):\n",
        "            #print(name,':',value)\n",
        "            if value is None:\n",
        "                value=str(-1)\n",
        "            plc_dic[key_conversion[name]]=str(value).lower()\n",
        "        \n",
        "        #print(plc_dic)\n",
        "    \n",
        "        #make primary key for the tag\n",
        "        pk_tag=plc_dic['line']+'.'+plc_dic['zone']+'.'+plc_dic['station']+'.'+plc_dic['asset']+'.'+plc_dic['tag_name']\n",
        "        pk_tag=pk_tag.replace('.-1','')\n",
        "        #print(pk_tag)\n",
        "    \n",
        "        plc_tag_msg[pk_tag]=plc_dic\n",
        "    \n",
        "    \n",
        "        #redis write    \n",
        "        r_val=json.dumps(plc_tag_msg)\n",
        "        #r.set('plc_tag_hash',r_val)#UNCOMMENT\n",
        "        #r.hset('plc_tag_experiment',pk_tag,json.dumps(plc_dic))#UNCOMMENT\n",
        "    \n",
        "        #redis read\n",
        "        '''\n",
        "        r_had=r.get('plc_tag_hash')\n",
        "        plc_tag=json.loads(r_had)\n",
        "        #print('from redis read: ',plc_tag)\n",
        "        #'''    \n",
        "    \n",
        "    \n",
        "    \n",
        "        #print(plc_dic)\n",
        "        print('tag_name: ',plc_dic['tag_name'])\n",
        "        #print('tag_value: ',plc_dic['tag_value'])\n",
        "    \n",
        "    if msg_count%500==0:\n",
        "        print(msg_count,end=' ')\n",
        "    if msg_count==3:#0001:\n",
        "        print('done')\n",
        "        break\n",
        "    #break"
      ],
      "execution_count": null,
      "outputs": []
    },
    {
      "cell_type": "code",
      "metadata": {
        "id": "UPPf05WjtPzg",
        "colab_type": "code",
        "colab": {}
      },
      "source": [
        "#redis experiment\n",
        "\n",
        "#initialize dic\n",
        "new_dic={}\n",
        "\n",
        "new_dic[0]='we'\n",
        "new_dic['1']='he'\n",
        "\n",
        "print(new_dic)\n",
        "\n",
        "\n",
        "#redis host\n",
        "redis_host=\"192.168.2.11\"\n",
        "redis_port = 6379\n",
        "redis_password = \"\"\n",
        "r=redis.StrictRedis(host=\"192.168.2.11\", port=6379, db=0)\n",
        "#'''\n",
        "\n",
        "\n",
        "key='any'\n",
        "#redis write    \n",
        "#r_val=json.dumps(plc_tag_msg)\n",
        "r.hset('plc_tag_experiment',key,json.dumps(new_dic))#UNCOMMENT\n",
        "    \n",
        "#redis read\n",
        "r_haddy=r.hgetall('plc_tag_experiment')\n",
        "print('from redis read: ',r_haddy)\n",
        "#'''    \n",
        "    "
      ],
      "execution_count": null,
      "outputs": []
    },
    {
      "cell_type": "code",
      "metadata": {
        "id": "otEPAL3_tS4A",
        "colab_type": "code",
        "colab": {}
      },
      "source": [
        "#Experiment kafka\n",
        "import json \n",
        "from kafka import KafkaConsumer\n",
        "import redis\n",
        "import time\n",
        "import sys\n",
        "\n",
        "topic_name = 'magnaPlcTagData'\n",
        "b_server=['10.0.1.96:9092']\n",
        "\n",
        "\n",
        "msg_count=0\n",
        "\n",
        "consumer = KafkaConsumer(topic_name, bootstrap_servers=b_server,auto_offset_reset='latest',\n",
        "                         session_timeout_ms=10000, \n",
        "                          enable_auto_commit=False, auto_commit_interval_ms=5000,\n",
        "                         reconnect_backoff_ms=30000, reconnect_backoff_max_ms=60000,\n",
        "                         max_poll_records=50, max_poll_interval_ms=300000,\n",
        "                         \n",
        "                         group_id=None, value_deserializer=lambda x: loads(x.decode('utf-8')))\n",
        "for msg in consumer:\n",
        "    msg_count=msg_count+1\n",
        "    msg = msg.value\n",
        "    \n",
        "    if msg_count==5:\n",
        "        print(msg_count)\n",
        "        break"
      ],
      "execution_count": null,
      "outputs": []
    },
    {
      "cell_type": "code",
      "metadata": {
        "id": "RXQeJvjLtVDa",
        "colab_type": "code",
        "colab": {}
      },
      "source": [
        "#Redis\n",
        "import the Redis client\n",
        "import redis\n",
        "\n",
        "\n",
        "# Create a redis client\n",
        "redisClient = redis.StrictRedis(host='localhost', port=6379, db=0)\n",
        "\n",
        "# Add key value pairs to the Redis hash\n",
        "hashName = \"Dessert\"\n",
        "redisClient.hset(hashName, 'line', \"Cheesecake\")\n",
        "redisClient.hset(hashName, 'zone', \"zone01\")\n",
        "redisClient.hset(hashName, 'station', \"-1\")\n",
        "redisClient.hset(hashName, 'asset', \"-1\")\n",
        "redisClient.hset(hashName, 'tag_name', \"Zone01_Shift_1\")\n",
        "redisClient.hset(hashName, 'tag_value', \"1\")\n",
        "\n",
        "# Print the hash\n",
        "print(redisClient.hgetall(hashName))pl\n",
        "\n",
        "# Remove a key\n",
        "redisClient.hdel(hashName, 1)\n",
        " \n",
        "\n",
        "# Print the hash after removing a key\n",
        "print(redisClient.hgetall(hashName))\n",
        "\n",
        "{'line': 'rw43',\n",
        " 'zone': 'zone01',\n",
        " 'station': '-1',\n",
        " 'asset': '-1',\n",
        " 'tag_name': 'Zone01_Shift_1',\n",
        " 'tag_value': '1'\n",
        "} \n",
        "\n"
      ],
      "execution_count": null,
      "outputs": []
    },
    {
      "cell_type": "code",
      "metadata": {
        "id": "djyB8j_2QxpP",
        "colab_type": "code",
        "colab": {
          "base_uri": "https://localhost:8080/",
          "height": 379
        },
        "outputId": "5563840b-16f7-45f6-c2b0-6060d4ce39a1"
      },
      "source": [
        "#new 1\n",
        "import json \n",
        "from kafka import KafkaConsumer\n",
        "import redis\n",
        "import time\n",
        "import sys\n",
        "\n",
        "topic_name = 'magnaPlcTagData'\n",
        "b_server=['10.0.1.96:9092']\n",
        "\n",
        "\n",
        "#redis host\n",
        "redis_host=\"192.168.2.11\"\n",
        "redis_port = 6379\n",
        "redis_password = \"\"\n",
        "r=redis.Redis(host=\"192.168.2.11\", port=6379, db=0)\n",
        "\n",
        "#key conversion: {'line': 'rw43', 'zone': 'zone01', 'station': '-1', 'asset': '-1', 'tag_name': 'Zone01_Shift_1', \n",
        "#                   'tag_value': '1', 'tag_datetime':'2020-05-28T11:31:05.89'} \n",
        "key_conversion={'root.LaneID':'line','root.ZoneID':'zone','root.TagID':'tag_name','root.StationID':'station',\n",
        "                \n",
        "                        'root.EquipmentID':'asset','root.TagValue':'tag_value','root.TagDateTime':'tag_datetime'}\n",
        "\n",
        "msg_count=0\n",
        "plc_tag_hash={}#dic of dic\n",
        "plc_tag_msg={}\n",
        "consumer = KafkaConsumer(topic_name, bootstrap_servers=b_server,auto_offset_reset='earliest',\n",
        "                          enable_auto_commit=True, value_deserializer=lambda x: loads(x.decode('utf-8')))\n",
        "for msg in consumer:\n",
        "    msg_count=msg_count+1\n",
        "    msg = msg.value\n",
        "    \n",
        "    #print('\\n')\n",
        "    sys.stdout.write('%d'%msg_count)\n",
        "    #print(msg_count)\n",
        "    sys.stdout.flush()\n",
        "    #time.sleep(0.1)\n",
        "    \n",
        "    #print('{}'.format(msg))\n",
        "  \n",
        "    #parse tag from msg\n",
        "    dic_msg=msg[0]#type(msg)=list, type(msg[0])=dic\\n\",\n",
        "    res=json.loads(dic_msg['FeedData'])#type(dic_msg['FeedData'])=str, type(dic_msg['FeedData'][0])=type(res)=list\\n\",\n",
        "    new_dic=res[0]#type(new_dic)=dic\\n\",\n",
        "    name_list=new_dic['NAMES']#type(new_dic['NAMES'])=list\\n\",\n",
        "    value_list=new_dic['VALUES'][0]#type(new_dic['Values'])=list of list\\n\",\n",
        "  \n",
        "    #make one dic from one parsed msg => tag\n",
        "    plc_dic={}\n",
        "    for name,value in zip(name_list,value_list):\n",
        "        #print(name,':',value)\n",
        "        if value is None:\n",
        "            value=str(-1)\n",
        "        plc_dic[key_conversion[name]]=str(value).lower()\n",
        "        \n",
        "    #print(plc_dic)\n",
        "    \n",
        "    #make primary key for the tag\n",
        "    pk_tag=plc_dic['line']+'.'+plc_dic['zone']+'.'+plc_dic['station']+'.'+plc_dic['asset']+'.'+plc_dic['tag_name']\n",
        "    pk_tag=pk_tag.replace('.-1','')\n",
        "    #print(pk_tag)\n",
        "    \n",
        "    plc_tag_msg[pk_tag]=plc_dic\n",
        "    \n",
        "    \n",
        "    #redis write    \n",
        "    r_val=json.dumps(plc_tag_msg)\n",
        "    r.set('plc_tag_hash',r_val)\n",
        "    \n",
        "    #redis read\n",
        "    r_had=r.get('plc_tag_hash')\n",
        "    plc_tag=json.loads(r_had)\n",
        "    #print('from redis read: ',plc_tag)\n",
        "    #'''    \n",
        "    \n",
        "    \n",
        "    \n",
        "    #print(plc_dic)\n",
        "    #print('tag_name: ',plc_dic['tag_name'])\n",
        "    #print('tag_value: ',plc_dic['tag_value'])\n",
        "    \n",
        "    \n",
        "    if msg_count%100==0:\n",
        "        print(msg_count,end=' ')\n",
        "    if msg_count==30000:\n",
        "        print('done')\n",
        "        break\n",
        "    #break"
      ],
      "execution_count": null,
      "outputs": [
        {
          "output_type": "error",
          "ename": "ModuleNotFoundError",
          "evalue": "ignored",
          "traceback": [
            "\u001b[0;31m---------------------------------------------------------------------------\u001b[0m",
            "\u001b[0;31mModuleNotFoundError\u001b[0m                       Traceback (most recent call last)",
            "\u001b[0;32m<ipython-input-21-8b831f102886>\u001b[0m in \u001b[0;36m<module>\u001b[0;34m()\u001b[0m\n\u001b[1;32m      1\u001b[0m \u001b[0;31m#new 1\u001b[0m\u001b[0;34m\u001b[0m\u001b[0;34m\u001b[0m\u001b[0;34m\u001b[0m\u001b[0m\n\u001b[1;32m      2\u001b[0m \u001b[0;32mimport\u001b[0m \u001b[0mjson\u001b[0m\u001b[0;34m\u001b[0m\u001b[0;34m\u001b[0m\u001b[0m\n\u001b[0;32m----> 3\u001b[0;31m \u001b[0;32mfrom\u001b[0m \u001b[0mkafka\u001b[0m \u001b[0;32mimport\u001b[0m \u001b[0mKafkaConsumer\u001b[0m\u001b[0;34m\u001b[0m\u001b[0;34m\u001b[0m\u001b[0m\n\u001b[0m\u001b[1;32m      4\u001b[0m \u001b[0;32mimport\u001b[0m \u001b[0mredis\u001b[0m\u001b[0;34m\u001b[0m\u001b[0;34m\u001b[0m\u001b[0m\n\u001b[1;32m      5\u001b[0m \u001b[0;32mimport\u001b[0m \u001b[0mtime\u001b[0m\u001b[0;34m\u001b[0m\u001b[0;34m\u001b[0m\u001b[0m\n",
            "\u001b[0;31mModuleNotFoundError\u001b[0m: No module named 'kafka'",
            "",
            "\u001b[0;31m---------------------------------------------------------------------------\u001b[0;32m\nNOTE: If your import is failing due to a missing package, you can\nmanually install dependencies using either !pip or !apt.\n\nTo view examples of installing some common dependencies, click the\n\"Open Examples\" button below.\n\u001b[0;31m---------------------------------------------------------------------------\u001b[0m\n"
          ]
        }
      ]
    },
    {
      "cell_type": "code",
      "metadata": {
        "id": "Day-fGR9_SLL",
        "colab_type": "code",
        "colab": {
          "base_uri": "https://localhost:8080/",
          "height": 379
        },
        "outputId": "10619a3e-221b-4d3a-d4ec-9213e982a091"
      },
      "source": [
        "#new\n",
        "import json \n",
        "from kafka import KafkaConsumer\n",
        "import redis\n",
        "import time\n",
        "import sys\n",
        "\n",
        "topic_name = 'magnaPlcTagData'\n",
        "b_server=['10.0.1.96:9092']\n",
        "\n",
        "\n",
        "#redis host\n",
        "redis_host=\"192.168.2.11\"\n",
        "redis_port = 6379\n",
        "redis_password = \"\"\n",
        "r=redis.Redis(host=\"192.168.2.11\", port=6379, db=0)\n",
        "\n",
        "#key conversion: {'line': 'rw43', 'zone': 'zone01', 'station': '-1', 'asset': '-1', 'tag_name': 'Zone01_Shift_1', \n",
        "#                   'tag_value': '1', 'tag_datetime':'2020-05-28T11:31:05.89'} \n",
        "key_conversion={'root.LaneID':'line','root.ZoneID':'zone','root.TagID':'tag_name','root.StationID':'station',\n",
        "                        'root.EquipmentID':'asset','root.TagValue':'tag_value','root.TagDateTime':'tag_datetime'}\n",
        "\n",
        "msg_count=0\n",
        "consumer = KafkaConsumer(topic_name, bootstrap_servers=b_server,auto_offset_reset='earliest',\n",
        "                          enable_auto_commit=True, value_deserializer=lambda x: loads(x.decode('utf-8')))\n",
        "for msg in consumer:\n",
        "    msg_count=msg_count+1\n",
        "    msg = msg.value\n",
        "    \n",
        "    print('\\n')\n",
        "    sys.stdout.write('%d'%msg_count)\n",
        "    \n",
        "    #print('{}'.format(msg))\n",
        "  \n",
        "    #parse tag from msg\n",
        "    dic_msg=msg[0]#type(msg)=list, type(msg[0])=dic\\n\",\n",
        "    res=json.loads(dic_msg['FeedData'])#type(dic_msg['FeedData'])=str, type(dic_msg['FeedData'][0])=type(res)=list\\n\",\n",
        "    new_dic=res[0]#type(new_dic)=dic\\n\",\n",
        "    name_list=new_dic['NAMES']#type(new_dic['NAMES'])=list\\n\",\n",
        "    value_list=new_dic['VALUES'][0]#type(new_dic['Values'])=list of list\\n\",\n",
        "  \n",
        "    #make one dic from one parsed msg => tag\n",
        "    plc_dic={}\n",
        "    for name,value in zip(name_list,value_list):\n",
        "        #print(name,':',value)\n",
        "        plc_dic[key_conversion[name]]=value\n",
        "    \n",
        "    \n",
        "    #read/write one tag/msg on redis\n",
        "    r_val=json.dumps(plc_dic)\n",
        "    r.set('plc_tag_msg',r_val)\n",
        "    r_had=r.get('plc_tag_msg')\n",
        "    plc_tag=json.loads(r_had)\n",
        "    print('from redis read: ',plc_tag)\n",
        "    \n",
        "    \n",
        "    \n",
        "    \n",
        "    #print(plc_dic)\n",
        "    print('tag_name: ',plc_dic['tag_name'])\n",
        "    print('tag_value: ',plc_dic['tag_value'])\n",
        "    \n",
        "  \n",
        "    if msg_count==15:\n",
        "        break\n",
        "    #break"
      ],
      "execution_count": null,
      "outputs": [
        {
          "output_type": "error",
          "ename": "ModuleNotFoundError",
          "evalue": "ignored",
          "traceback": [
            "\u001b[0;31m---------------------------------------------------------------------------\u001b[0m",
            "\u001b[0;31mModuleNotFoundError\u001b[0m                       Traceback (most recent call last)",
            "\u001b[0;32m<ipython-input-19-c75f384e214c>\u001b[0m in \u001b[0;36m<module>\u001b[0;34m()\u001b[0m\n\u001b[1;32m      1\u001b[0m \u001b[0;31m#new\u001b[0m\u001b[0;34m\u001b[0m\u001b[0;34m\u001b[0m\u001b[0;34m\u001b[0m\u001b[0m\n\u001b[1;32m      2\u001b[0m \u001b[0;32mimport\u001b[0m \u001b[0mjson\u001b[0m\u001b[0;34m\u001b[0m\u001b[0;34m\u001b[0m\u001b[0m\n\u001b[0;32m----> 3\u001b[0;31m \u001b[0;32mfrom\u001b[0m \u001b[0mkafka\u001b[0m \u001b[0;32mimport\u001b[0m \u001b[0mKafkaConsumer\u001b[0m\u001b[0;34m\u001b[0m\u001b[0;34m\u001b[0m\u001b[0m\n\u001b[0m\u001b[1;32m      4\u001b[0m \u001b[0;32mimport\u001b[0m \u001b[0mredis\u001b[0m\u001b[0;34m\u001b[0m\u001b[0;34m\u001b[0m\u001b[0m\n\u001b[1;32m      5\u001b[0m \u001b[0;32mimport\u001b[0m \u001b[0mtime\u001b[0m\u001b[0;34m\u001b[0m\u001b[0;34m\u001b[0m\u001b[0m\n",
            "\u001b[0;31mModuleNotFoundError\u001b[0m: No module named 'kafka'",
            "",
            "\u001b[0;31m---------------------------------------------------------------------------\u001b[0;32m\nNOTE: If your import is failing due to a missing package, you can\nmanually install dependencies using either !pip or !apt.\n\nTo view examples of installing some common dependencies, click the\n\"Open Examples\" button below.\n\u001b[0;31m---------------------------------------------------------------------------\u001b[0m\n"
          ]
        }
      ]
    },
    {
      "cell_type": "code",
      "metadata": {
        "id": "aLvkouh5oZbC",
        "colab_type": "code",
        "colab": {
          "base_uri": "https://localhost:8080/",
          "height": 238
        },
        "outputId": "b559d994-ce4a-4f82-ceaa-c0d2d1966ad0"
      },
      "source": [
        "consumer = KafkaConsumer(topic_name, bootstrap_servers=b_server,auto_offset_reset='earliest',\n",
        "                          group_id='communication_module',\n",
        "                          enable_auto_commit=False, \n",
        "                          max_poll_records=2, max_poll_interval_ms= 300000, \n",
        "                          value_deserializer=lambda x: loads(x.decode('utf-8')))\n"
      ],
      "execution_count": null,
      "outputs": [
        {
          "output_type": "error",
          "ename": "NameError",
          "evalue": "ignored",
          "traceback": [
            "\u001b[0;31m---------------------------------------------------------------------------\u001b[0m",
            "\u001b[0;31mNameError\u001b[0m                                 Traceback (most recent call last)",
            "\u001b[0;32m<ipython-input-18-eb5ef6509078>\u001b[0m in \u001b[0;36m<module>\u001b[0;34m()\u001b[0m\n\u001b[0;32m----> 1\u001b[0;31m consumer = KafkaConsumer(topic_name, bootstrap_servers=b_server,auto_offset_reset='earliest',\n\u001b[0m\u001b[1;32m      2\u001b[0m                           \u001b[0mgroup_id\u001b[0m\u001b[0;34m=\u001b[0m\u001b[0;34m'communication_module'\u001b[0m\u001b[0;34m,\u001b[0m\u001b[0;34m\u001b[0m\u001b[0;34m\u001b[0m\u001b[0m\n\u001b[1;32m      3\u001b[0m                           \u001b[0menable_auto_commit\u001b[0m\u001b[0;34m=\u001b[0m\u001b[0;32mFalse\u001b[0m\u001b[0;34m,\u001b[0m\u001b[0;34m\u001b[0m\u001b[0;34m\u001b[0m\u001b[0m\n\u001b[1;32m      4\u001b[0m                           \u001b[0mmax_poll_records\u001b[0m\u001b[0;34m=\u001b[0m\u001b[0;36m2\u001b[0m\u001b[0;34m,\u001b[0m \u001b[0mmax_poll_interval_ms\u001b[0m\u001b[0;34m=\u001b[0m \u001b[0;36m300000\u001b[0m\u001b[0;34m,\u001b[0m\u001b[0;34m\u001b[0m\u001b[0;34m\u001b[0m\u001b[0m\n\u001b[1;32m      5\u001b[0m                           value_deserializer=lambda x: loads(x.decode('utf-8')))\n",
            "\u001b[0;31mNameError\u001b[0m: name 'KafkaConsumer' is not defined"
          ]
        }
      ]
    },
    {
      "cell_type": "code",
      "metadata": {
        "id": "XnGqCy2l6P1A",
        "colab_type": "code",
        "colab": {
          "base_uri": "https://localhost:8080/",
          "height": 379
        },
        "outputId": "5ea07224-392f-4b22-e2ee-6ae018b24a2b"
      },
      "source": [
        "import json \n",
        "from kafka import KafkaConsumer\n",
        "import redis\n",
        "import time\n",
        "import sys\n",
        "\n",
        "topic_name = 'magnaPlcTagData'\n",
        "b_server=['10.0.1.96:9092']\n",
        "\n",
        "\n",
        "#redis host\n",
        "redis_host=\"192.168.2.11\"\n",
        "redis_port = 6379\n",
        "redis_password = \"\"\n",
        "redis.Redis(host=\"192.168.2.11\", port=6379, db=0)\n",
        "\n",
        "#key conversion: {'line': 'rw43', 'zone': 'zone01', 'station': '-1', 'asset': '-1', 'tag_name': 'Zone01_Shift_1', \n",
        "#                   'tag_value': '1', 'tag_datetime':'2020-05-28T11:31:05.89'} \n",
        "key_conversion={'root.LaneID':'line','root.ZoneID':'zone','root.TagID':'tag_name','root.StationID':'station',\n",
        "                        'root.EquipmentID':'asset','root.TagValue':'tag_value','root.TagDateTime':'tag_datetime'}\n",
        "\n",
        "msg_count=0\n",
        "consumer = KafkaConsumer(topic_name, bootstrap_servers=b_server,auto_offset_reset='earliest',\n",
        "                          enable_auto_commit=True, value_deserializer=lambda x: loads(x.decode('utf-8')))\n",
        "for msg in consumer:\n",
        "    msg_count=msg_count+1\n",
        "    msg = msg.value\n",
        "    \n",
        "    print('\\n')\n",
        "    sys.stdout.write('%d'%msg_count)\n",
        "    \n",
        "    #print('{}'.format(msg))\n",
        "  \n",
        "    #parse tag from msg\n",
        "    dic_msg=msg[0]#type(msg)=list, type(msg[0])=dic\\n\",\n",
        "    res=json.loads(dic_msg['FeedData'])#type(dic_msg['FeedData'])=str, type(dic_msg['FeedData'][0])=type(res)=list\\n\",\n",
        "    new_dic=res[0]#type(new_dic)=dic\\n\",\n",
        "    name_list=new_dic['NAMES']#type(new_dic['NAMES'])=list\\n\",\n",
        "    value_list=new_dic['VALUES'][0]#type(new_dic['Values'])=list of list\\n\",\n",
        "  \n",
        "    #make one dic from one parsed msg => tag\n",
        "    plc_dic={}\n",
        "    for name,value in zip(name_list,value_list):\n",
        "        #print(name,':',value)\n",
        "        plc_dic[key_conversion[name]]=value\n",
        "    \n",
        "    #print(plc_dic)\n",
        "    print('tag_name: ',plc_dic['tag_name'])\n",
        "    print('tag_value: ',plc_dic['tag_value'])\n",
        "  \n",
        "    if msg_count==15:\n",
        "        break\n",
        "    #break"
      ],
      "execution_count": null,
      "outputs": [
        {
          "output_type": "error",
          "ename": "ModuleNotFoundError",
          "evalue": "ignored",
          "traceback": [
            "\u001b[0;31m---------------------------------------------------------------------------\u001b[0m",
            "\u001b[0;31mModuleNotFoundError\u001b[0m                       Traceback (most recent call last)",
            "\u001b[0;32m<ipython-input-15-51d82474eacb>\u001b[0m in \u001b[0;36m<module>\u001b[0;34m()\u001b[0m\n\u001b[1;32m      1\u001b[0m \u001b[0;32mimport\u001b[0m \u001b[0mjson\u001b[0m\u001b[0;34m\u001b[0m\u001b[0;34m\u001b[0m\u001b[0m\n\u001b[0;32m----> 2\u001b[0;31m \u001b[0;32mfrom\u001b[0m \u001b[0mkafka\u001b[0m \u001b[0;32mimport\u001b[0m \u001b[0mKafkaConsumer\u001b[0m\u001b[0;34m\u001b[0m\u001b[0;34m\u001b[0m\u001b[0m\n\u001b[0m\u001b[1;32m      3\u001b[0m \u001b[0;32mimport\u001b[0m \u001b[0mredis\u001b[0m\u001b[0;34m\u001b[0m\u001b[0;34m\u001b[0m\u001b[0m\n\u001b[1;32m      4\u001b[0m \u001b[0;32mimport\u001b[0m \u001b[0mtime\u001b[0m\u001b[0;34m\u001b[0m\u001b[0;34m\u001b[0m\u001b[0m\n\u001b[1;32m      5\u001b[0m \u001b[0;32mimport\u001b[0m \u001b[0msys\u001b[0m\u001b[0;34m\u001b[0m\u001b[0;34m\u001b[0m\u001b[0m\n",
            "\u001b[0;31mModuleNotFoundError\u001b[0m: No module named 'kafka'",
            "",
            "\u001b[0;31m---------------------------------------------------------------------------\u001b[0;32m\nNOTE: If your import is failing due to a missing package, you can\nmanually install dependencies using either !pip or !apt.\n\nTo view examples of installing some common dependencies, click the\n\"Open Examples\" button below.\n\u001b[0;31m---------------------------------------------------------------------------\u001b[0m\n"
          ]
        }
      ]
    },
    {
      "cell_type": "code",
      "metadata": {
        "id": "RMIz_c87tUIL",
        "colab_type": "code",
        "colab": {
          "base_uri": "https://localhost:8080/",
          "height": 129
        },
        "outputId": "8d8745f8-815e-4ddf-fee9-41824850c3c7"
      },
      "source": [
        "import json\n",
        "from kafka import KafkaConsumer\n",
        "import redis\n",
        "import time\n",
        "import sys\n",
        "    \n",
        "# kafka host (broker)\n",
        "topic_name = 'magnaPlcTagData'\n",
        "b_server=['10.0.1.96:9092']\n",
        "\n",
        "#redis host\n",
        "redis_host=\"192.168.2.11\"\n",
        "redis_port = 6379\n",
        "redis_password = \"\"\n",
        "redis.Redis(host=\"192.168.2.11\", port=6379, db=0)\n",
        "\n",
        "#key conversion: {'line': 'rw43', 'zone': 'zone01', 'station': '-1', 'asset': '-1', 'tag_name': 'Zone01_Shift_1', \n",
        "#                   'tag_value': '1', 'tag_datetime':'2020-05-28T11:31:05.89'} \n",
        "key_conversion={'root.LaneID':'line','root.ZoneID':'zone','root.TagID':'tag_name','root.StationID':'station',\n",
        "                        'root.EquipmentID':'asset','root.TagValue':'tag_value','root.TagDateTime':'tag_datetime'}\n",
        "\n",
        "msg_count=0\n",
        "consumer = KafkaConsumer(topic_name, bootstrap_servers=b_server,auto_offset_reset='earliest',\n",
        "                           enable_auto_commit=True, value_deserializer=lambda x: loads(x.decode('utf-8')))\n",
        "    \n",
        "for msg in consumer:\n",
        "  msg = msg.value\n",
        "  msg_count=msg_count+1\n",
        "  sys.stdout.write('\\\\r%d'%msg_count) \n",
        "  print('{}'.format(msg))\n",
        "  \n",
        "  #parse tag from msg\n",
        "  dic_msg=msg[0]#type(msg)=list, type(msg[0])=dic\\n\",\n",
        "  res=json.loads(dic_msg['FeedData'])#type(dic_msg['FeedData'])=str, type(dic_msg['FeedData'][0])=type(res)=list\\n\",\n",
        "  new_dic=res[0]#type(new_dic)=dic\\n\",\n",
        "  name_list=new_dic['NAMES']#type(new_dic['NAMES'])=list\\n\",\n",
        "  value_list=new_dic['VALUES'][0]#type(new_dic['Values'])=list of list\\n\",\n",
        "  \n",
        "  #make one dic from one parsed msg => tag\n",
        "  plc_dic={}\n",
        "  for name,value in zip(name_list,value_list):\n",
        "      #print(name,':',value)\\n\",\n",
        "      plc_dic[key_conversion[name]]=value\n",
        "      #print(plc_dic)\\n\",\n",
        "      print(plc_dic['tag_name'])\n",
        "    \n",
        "      if msg_count==1:\n",
        "        first_tag=plc_dic['tag_name']\n",
        "        if plc_dic['tag_name']==first_tag:\n",
        "          print ('tag repeats')\n",
        "          print('this_tag',plc_dic['tag_name'])\n",
        "          print('msg_count',msg_count)\n",
        "          break\n",
        "          sys.stdout.flush()\n",
        "        time.sleep(0.2)\n",
        "        if msg_count==15:\n",
        "            break\\n\",\n",
        "        #break\\n\",\n",
        "    "
      ],
      "execution_count": null,
      "outputs": [
        {
          "output_type": "error",
          "ename": "SyntaxError",
          "evalue": "ignored",
          "traceback": [
            "\u001b[0;36m  File \u001b[0;32m\"<ipython-input-14-f4b4481266c0>\"\u001b[0;36m, line \u001b[0;32m57\u001b[0m\n\u001b[0;31m    break\\n\",\u001b[0m\n\u001b[0m             ^\u001b[0m\n\u001b[0;31mSyntaxError\u001b[0m\u001b[0;31m:\u001b[0m unexpected character after line continuation character\n"
          ]
        }
      ]
    },
    {
      "cell_type": "code",
      "metadata": {
        "id": "oSY3mOyG7c4F",
        "colab_type": "code",
        "colab": {}
      },
      "source": [
        "#new 2\n",
        "import json \n",
        "from kafka import KafkaConsumer\n",
        "import redis\n",
        "import time\n",
        "import sys\n",
        "\n",
        "topic_name = 'magnaPlcTagData'\n",
        "b_server=['10.0.1.96:9092']\n",
        "\n",
        "\n",
        "#redis host\n",
        "redis_host=\"192.168.2.11\"\n",
        "redis_port = 6379\n",
        "redis_password = \"\"\n",
        "r=redis.Redis(host=\"192.168.2.11\", port=6379, db=0)\n",
        "\n",
        "#key conversion: {'line': 'rw43', 'zone': 'zone01', 'station': '-1', 'asset': '-1', 'tag_name': 'Zone01_Shift_1', \n",
        "#                   'tag_value': '1', 'tag_datetime':'2020-05-28T11:31:05.89'} \n",
        "key_conversion={'root.LaneID':'line','root.ZoneID':'zone','root.TagID':'tag_name','root.StationID':'station',\n",
        "                \n",
        "                        'root.EquipmentID':'asset','root.TagValue':'tag_value','root.TagDateTime':'tag_datetime'}\n",
        "\n",
        "msg_count=0\n",
        "plc_tag_hash={}#dic of dic\n",
        "plc_tag_msg={}\n",
        "consumer = KafkaConsumer(topic_name, bootstrap_servers=b_server,auto_offset_reset='earliest',\n",
        "                          enable_auto_commit=True, value_deserializer=lambda x: loads(x.decode('utf-8')))\n",
        "for msg in consumer:\n",
        "    msg_count=msg_count+1\n",
        "    msg = msg.value\n",
        "    \n",
        "    #print('{0}\\r'.format(msg_count)),\n",
        "    #print(msg_count,end=' ',flush=True)\n",
        "    #sys.stdout.write('%d'%msg_count)\n",
        "    #print(msg_count)\n",
        "    #sys.stdout.flush()\n",
        "    #time.sleep(0.1)\n",
        "    \n",
        "    #print('{}'.format(msg))\n",
        "  \n",
        "    #parse tag from msg\n",
        "    dic_msg=msg[0]#type(msg)=list, type(msg[0])=dic\\n\",\n",
        "    res=json.loads(dic_msg['FeedData'])#type(dic_msg['FeedData'])=str, type(dic_msg['FeedData'][0])=type(res)=list\\n\",\n",
        "    new_dic=res[0]#type(new_dic)=dic\\n\",\n",
        "    name_list=new_dic['NAMES']#type(new_dic['NAMES'])=list\\n\",\n",
        "    value_list=new_dic['VALUES'][0]#type(new_dic['Values'])=list of list\\n\",\n",
        "  \n",
        "    #make one dic from one parsed msg => tag\n",
        "    plc_dic={}\n",
        "    for name,value in zip(name_list,value_list):\n",
        "        #print(name,':',value)\n",
        "        if value is None:\n",
        "            value=str(-1)\n",
        "        plc_dic[key_conversion[name]]=str(value).lower()\n",
        "        \n",
        "    #print(plc_dic)\n",
        "    \n",
        "    #make primary key for the tag\n",
        "    pk_tag=plc_dic['line']+'.'+plc_dic['zone']+'.'+plc_dic['station']+'.'+plc_dic['asset']+'.'+plc_dic['tag_name']\n",
        "    pk_tag=pk_tag.replace('.-1','')\n",
        "    #print(pk_tag)\n",
        "    \n",
        "    plc_tag_msg[pk_tag]=plc_dic\n",
        "    \n",
        "    \n",
        "    #redis write    \n",
        "    r_val=json.dumps(plc_tag_msg)\n",
        "    #r.set('plc_tag_hash',r_val)#UNCOMMENT\n",
        "    \n",
        "    #redis read\n",
        "    '''\n",
        "    r_had=r.get('plc_tag_hash')\n",
        "    plc_tag=json.loads(r_had)\n",
        "    #print('from redis read: ',plc_tag)\n",
        "    #'''    \n",
        "    \n",
        "    \n",
        "    \n",
        "    #print(plc_dic)\n",
        "    #print('tag_name: ',plc_dic['tag_name'])\n",
        "    #print('tag_value: ',plc_dic['tag_value'])\n",
        "    \n",
        "    if msg_count%100==0:\n",
        "        print(msg_count,end=' ')\n",
        "    if msg_count==30000:\n",
        "        print('done')\n",
        "        break\n",
        "    #break"
      ],
      "execution_count": null,
      "outputs": []
    },
    {
      "cell_type": "code",
      "metadata": {
        "id": "65WG9eR8sfgN",
        "colab_type": "code",
        "colab": {
          "base_uri": "https://localhost:8080/",
          "height": 379
        },
        "outputId": "45709bff-90a6-4996-ca5a-fb820a1fee1b"
      },
      "source": [
        "from json import loads\n",
        "from kafka import KafkaConsumer\n",
        "\n",
        "topic_name = 'magnaPlcTagData'\n",
        "b_server=['10.0.1.96:9092']\n",
        "\n",
        "consumer = KafkaConsumer(topic_name, bootstrap_servers=b_server,\n",
        "                          enable_auto_commit=True, value_deserializer=lambda x: loads(x.decode('utf-8')))\n",
        "for message in consumer:\n",
        "  message = message.value\n",
        "  print('{}'.format(message))\n",
        "  break"
      ],
      "execution_count": null,
      "outputs": [
        {
          "output_type": "error",
          "ename": "ModuleNotFoundError",
          "evalue": "ignored",
          "traceback": [
            "\u001b[0;31m---------------------------------------------------------------------------\u001b[0m",
            "\u001b[0;31mModuleNotFoundError\u001b[0m                       Traceback (most recent call last)",
            "\u001b[0;32m<ipython-input-1-814dc74bed5e>\u001b[0m in \u001b[0;36m<module>\u001b[0;34m()\u001b[0m\n\u001b[1;32m      1\u001b[0m \u001b[0;32mfrom\u001b[0m \u001b[0mjson\u001b[0m \u001b[0;32mimport\u001b[0m \u001b[0mloads\u001b[0m\u001b[0;34m\u001b[0m\u001b[0;34m\u001b[0m\u001b[0m\n\u001b[0;32m----> 2\u001b[0;31m \u001b[0;32mfrom\u001b[0m \u001b[0mkafka\u001b[0m \u001b[0;32mimport\u001b[0m \u001b[0mKafkaConsumer\u001b[0m\u001b[0;34m\u001b[0m\u001b[0;34m\u001b[0m\u001b[0m\n\u001b[0m\u001b[1;32m      3\u001b[0m \u001b[0;34m\u001b[0m\u001b[0m\n\u001b[1;32m      4\u001b[0m \u001b[0mtopic_name\u001b[0m \u001b[0;34m=\u001b[0m \u001b[0;34m'magnaPlcTagData'\u001b[0m\u001b[0;34m\u001b[0m\u001b[0;34m\u001b[0m\u001b[0m\n\u001b[1;32m      5\u001b[0m \u001b[0mb_server\u001b[0m\u001b[0;34m=\u001b[0m\u001b[0;34m[\u001b[0m\u001b[0;34m'10.0.1.96:9092'\u001b[0m\u001b[0;34m]\u001b[0m\u001b[0;34m\u001b[0m\u001b[0;34m\u001b[0m\u001b[0m\n",
            "\u001b[0;31mModuleNotFoundError\u001b[0m: No module named 'kafka'",
            "",
            "\u001b[0;31m---------------------------------------------------------------------------\u001b[0;32m\nNOTE: If your import is failing due to a missing package, you can\nmanually install dependencies using either !pip or !apt.\n\nTo view examples of installing some common dependencies, click the\n\"Open Examples\" button below.\n\u001b[0;31m---------------------------------------------------------------------------\u001b[0m\n"
          ]
        }
      ]
    },
    {
      "cell_type": "code",
      "metadata": {
        "id": "i8eyNqds1tUA",
        "colab_type": "code",
        "colab": {
          "base_uri": "https://localhost:8080/",
          "height": 34
        },
        "outputId": "a5e517b6-33d0-4ebc-d862-7478fc194e24"
      },
      "source": [
        "!pip install kafka-python\n",
        "from time import sleep\n",
        "from json import dumps\n",
        "from kafka import KafkaProducer\n",
        "from kafka import KafkaConsumer"
      ],
      "execution_count": null,
      "outputs": [
        {
          "output_type": "stream",
          "text": [
            "Requirement already satisfied: kafka-python in /usr/local/lib/python3.6/dist-packages (2.0.1)\n"
          ],
          "name": "stdout"
        }
      ]
    },
    {
      "cell_type": "code",
      "metadata": {
        "id": "x_vVrWdimTI6",
        "colab_type": "code",
        "colab": {}
      },
      "source": [
        "from json import loads\n",
        "consumer = KafkaConsumer(\n",
        "    'spring_test',\n",
        "     bootstrap_servers=['localhost:9092'],\n",
        "     auto_offset_reset='earliest',\n",
        "     enable_auto_commit=True,\n",
        "     group_id='my-group',\n",
        "     value_deserializer=lambda x: loads(x.decode('utf-8')));\n",
        "\n",
        "for message in consumer:\n",
        "  message = message.value;\n",
        "  print('{}'.format(message))"
      ],
      "execution_count": null,
      "outputs": []
    },
    {
      "cell_type": "code",
      "metadata": {
        "id": "bvjQZiHv8w4k",
        "colab_type": "code",
        "colab": {}
      },
      "source": [
        "topic_name = 'magnaPlcTagData'\n",
        "consumer = KafkaConsumer(topic_name, auto_offset_reset='earliest', \n",
        "                         bootstrap_servers=['10.0.1.96:9092'], api_version=(0, 10), consumer_timeout_ms=1000000)\n",
        "for msg in consumer:\n",
        "  print(msg)"
      ],
      "execution_count": null,
      "outputs": []
    },
    {
      "cell_type": "code",
      "metadata": {
        "id": "h01yCZRri4jq",
        "colab_type": "code",
        "colab": {}
      },
      "source": [
        "from kafka import KafkaProducer\n",
        "producer = KafkaProducer(bootstrap_servers='10.0.1.96:9092')\n",
        "producer.send('sample', b'Hello, World!')\n",
        "producer.send('sample', key=b'message-two', value=b'This is Kafka-Python')\n",
        "\n",
        "from kafka import KafkaConsumer\n",
        "consumer = KafkaConsumer('sample')\n",
        "for message in consumer:\n",
        "    print (message)"
      ],
      "execution_count": null,
      "outputs": []
    },
    {
      "cell_type": "code",
      "metadata": {
        "id": "Ux3DycvzU_ok",
        "colab_type": "code",
        "colab": {
          "base_uri": "https://localhost:8080/",
          "height": 35
        },
        "outputId": "3ea3a924-738f-4e50-e919-12d292be603b"
      },
      "source": [
        "if __name__ == '__main__':\n",
        "    print('Running Consumer..')\n",
        "    parsed_records = []\n",
        "    topic_name = 'raw_recipes'\n",
        "    parsed_topic_name = 'parsed_recipes'\n",
        "\n",
        "    consumer = KafkaConsumer(topic_name, auto_offset_reset='earliest',\n",
        "                             bootstrap_servers=['localhost:9092'], api_version=(0, 10), consumer_timeout_ms=1000)\n",
        "    for msg in consumer:\n",
        "        html = msg.value\n",
        "        result = parse(html)\n",
        "        parsed_records.append(result)\n",
        "    consumer.close()\n",
        "    sleep(5)\n",
        "\n",
        "    if len(parsed_records) > 0:\n",
        "        print('Publishing records..')\n",
        "        producer = connect_kafka_producer()\n",
        "        for rec in parsed_records:\n",
        "            publish_message(producer, parsed_topic_name, 'parsed', rec)"
      ],
      "execution_count": null,
      "outputs": [
        {
          "output_type": "stream",
          "text": [
            "Running Consumer..\n"
          ],
          "name": "stdout"
        }
      ]
    },
    {
      "cell_type": "code",
      "metadata": {
        "id": "C73eUXVeVekp",
        "colab_type": "code",
        "colab": {
          "base_uri": "https://localhost:8080/",
          "height": 35
        },
        "outputId": "d88d969f-14b1-4d9a-ea65-12eebedd02e8"
      },
      "source": [
        "#IP: 10.0.1.96\n",
        "#Port: 9092\n",
        "#Topic name: magnaPlcTagData\n",
        "from time import sleep\n",
        "from json import dumps\n",
        "from kafka import KafkaProducer\n",
        "from kafka import KafkaConsumer\n",
        "\n",
        "\n",
        "if __name__ == '__main__':\n",
        "    print('Running Consumer..')\n",
        "    parsed_records = []\n",
        "    topic_name = 'magnaPlcTagData'\n",
        "    parsed_topic_name = 'parsed_recipes'\n",
        "\n",
        "    #consumer = KafkaConsumer(topic_name, auto_offset_reset='earliest', bootstrap_servers=['localhost:9092'], api_version=(0, 10), consumer_timeout_ms=1000)\n",
        "    consumer = KafkaConsumer(topic_name, auto_offset_reset='earliest', bootstrap_servers=['10.0.1.96:9092'], api_version=(0, 10), consumer_timeout_ms=1000)\n",
        "    for msg in consumer:\n",
        "        html = msg.value\n",
        "        result = parse(html)\n",
        "        parsed_records.append(result)\n",
        "    consumer.close()\n",
        "    sleep(5)\n",
        "\n",
        "    if len(parsed_records) > 0:\n",
        "        print('Publishing records..')\n",
        "        producer = connect_kafka_producer()\n",
        "        for rec in parsed_records:\n",
        "            publish_message(producer, parsed_topic_name, 'parsed', rec)"
      ],
      "execution_count": null,
      "outputs": [
        {
          "output_type": "stream",
          "text": [
            "Running Consumer..\n"
          ],
          "name": "stdout"
        }
      ]
    },
    {
      "cell_type": "code",
      "metadata": {
        "id": "fj54oYn_4dk9",
        "colab_type": "code",
        "colab": {}
      },
      "source": [
        "topic_name = 'magnaPlcTagData'\n",
        "consumer = KafkaConsumer(topic_name, auto_offset_reset='earliest', \n",
        "                         bootstrap_servers=['10.0.1.96:9092'], api_version=(0, 10), consumer_timeout_ms=1000)\n",
        "for msg in consumer:\n",
        "  print(msg.key)"
      ],
      "execution_count": null,
      "outputs": []
    },
    {
      "cell_type": "code",
      "metadata": {
        "id": "PAwn8aOSH4Yo",
        "colab_type": "code",
        "colab": {}
      },
      "source": [
        "from kafka import KafkaConsumer\n",
        "\n",
        "# To consume latest messages and auto-commit offsets\n",
        "consumer = KafkaConsumer('magnaPlcTagData', bootstrap_servers=['10.0.1.96:9092'],api_version=(0, 10, 1))\n",
        "for message in consumer:\n",
        "    # message value and key are raw bytes -- decode if necessary!\n",
        "    # e.g., for unicode: `message.value.decode('utf-8')`\n",
        "    #print (\"%s:%d:%d: key=%s value=%s\" % (message.topic, message.partition,\n",
        "    #                                     message.offset, message.key,\n",
        "    #                                      message.value))\n",
        "    print(msg.key)"
      ],
      "execution_count": null,
      "outputs": []
    },
    {
      "cell_type": "code",
      "metadata": {
        "id": "bAs14lXEF4UR",
        "colab_type": "code",
        "colab": {}
      },
      "source": [
        "#pycharm code\n",
        "#import kafka\n",
        "from kafka import KafkaConsumer\n",
        "import pandas\n",
        "topic_name = 'magnaPlcTagData'\n",
        "consumer = KafkaConsumer(topic_name, auto_offset_reset='earliest',\n",
        "                         bootstrap_servers=['10.0.1.96:9092'], api_version=(0, 10), consumer_timeout_ms=10)\n",
        "\n",
        "#consumer = KafkaConsumer(topic_name, bootstrap_servers=['10.0.1.96:9092'])\n",
        "for msg in consumer:\n",
        "  print(msg)"
      ],
      "execution_count": null,
      "outputs": []
    },
    {
      "cell_type": "markdown",
      "metadata": {
        "id": "rtJvdkqEYwUZ",
        "colab_type": "text"
      },
      "source": [
        "# communication_module"
      ]
    },
    {
      "cell_type": "code",
      "metadata": {
        "id": "J4Y8-fWMTJSo",
        "colab_type": "code",
        "colab": {}
      },
      "source": [
        "#Mqtt pulls from redis keys\n",
        "\n",
        "#!pip3 install paho-mqtt\n",
        "import paho.mqtt.client as mqtt #import the client1\n",
        "broker_address=\"localhost\"#\"192.168.1.184\" \n",
        "#broker_address=\"iot.eclipse.org\" #use external broker\n",
        "client = mqtt.Client(\"P1\") #create new instance\n",
        "client.connect(broker_address) #connect to broker\n",
        "client.publish(\"house/main-light\",\"OFF\")#publish"
      ],
      "execution_count": null,
      "outputs": []
    },
    {
      "cell_type": "code",
      "metadata": {
        "id": "GXN8IWLdaakK",
        "colab_type": "code",
        "colab": {}
      },
      "source": [
        "import requests\n",
        "\n",
        "#url = \"https://plc-iot.c2m.net/api/v1/data/process\"\n",
        "#url = \"https://nam04.safelinks.protection.outlook.com/?url=https%3A%2F%2Fhelio-ent.c2m.net%2Flogin.aspx&data=02%7C01%7Cayeshas%40okstate.edu%7Ce33dcfb71016446bad6608d7f6b3bb95%7C2a69c91de8494e34a230cdf8b27e1964%7C0%7C1%7C637249124117860660&sdata=%2F6sf3qNRTsDbmWgWdUDKsS%2FrOy6vJ%2FiHgA1ocMWNMbo%3D&reserved=0\"\n",
        "#url = \"https://helio-ent-ice.c2m.net/Ice.svc/GetData?apikey=CSWQpToX4KLCwODDd3QCmBzak8/DYJ&feedID=XipmK93J5vGOb8hvZ/S8rge856C/TG6ovA7DCelU@/Y=&parameterType=LISTDATA\"\n",
        "url = \"https://helio-ent-ice.c2m.net/Ice.svc/GetData?apikey=CSWQpToX4KLCwODDd3QCmBzak8/DYJ&feedID=XipmK93J5vGOb8hvZ/S8rge856C/TG6ovA7DCelU@/Y=&parameterType=LISTDATA\"\n",
        "#headers = {\"Authorization\": \"CSWQpToX4KLCwODDd3QCmBzak8/DYJ\" }\n",
        "response = requests.get(url)#,headers=headers)\n",
        "print(response.text)\n"
      ],
      "execution_count": null,
      "outputs": []
    },
    {
      "cell_type": "markdown",
      "metadata": {
        "id": "FcBlVOwJpodq",
        "colab_type": "text"
      },
      "source": [
        "# Standard API format to request data from helio server"
      ]
    },
    {
      "cell_type": "code",
      "metadata": {
        "id": "Lfm23DWXpxJZ",
        "colab_type": "code",
        "colab": {}
      },
      "source": [
        "import requests\n",
        "token_string = \"\"\n",
        "url=\"\"\n",
        "headers= {\"Authorization\": token_string}\n",
        "response=requests.get(url,headers=headers)"
      ],
      "execution_count": null,
      "outputs": []
    },
    {
      "cell_type": "markdown",
      "metadata": {
        "id": "AamsxSGOdTUl",
        "colab_type": "text"
      },
      "source": [
        "# Requesting data from PLC feed of helio server\n",
        "\n",
        "feedID= XipmK93J5vGOb8hvZ/S8rge856C/TG6ovA7DCelU@/Y=<br>\n",
        "Given Feed ID: iGfXcckbZrSCd8G4xjek1TV9t@ZbzdAP4lU0/bUeyQQ= "
      ]
    },
    {
      "cell_type": "code",
      "metadata": {
        "id": "gw15xu97b4DE",
        "colab_type": "code",
        "colab": {}
      },
      "source": [
        "import requests\n",
        "url = \"https://helio-ent-ice.c2m.net/Ice.svc/GetData?apikey=CSWQpToX4KLCwODDd3QCmBzak8/DYJ&feedID=XipmK93J5vGOb8hvZ/S8rge856C/TG6ovA7DCelU@/Y=&parameterType=LISTDATA\"\n",
        "\n",
        "#url=\"https://helio-ent-ice.c2m.net/Ice.svc/GetData?apikey=CSWQpToX4KLCwODDd3QCmBzak8/DYJ&feedID=iGfXcckbZrSCd8G4xjek1TV9t@ZbzdAP4lU0/bUeyQQ=&parameterType=LISTDATA\"\n",
        "#headers = {\"Authorization\": \"CSWQpToX4KLCwODDd3QCmBzak8/DYJ\" }\n",
        "response = requests.get(url)#,headers=headers)\n",
        "print(response.text)\n"
      ],
      "execution_count": null,
      "outputs": []
    },
    {
      "cell_type": "markdown",
      "metadata": {
        "id": "7ywtfS5-dqTA",
        "colab_type": "text"
      },
      "source": [
        "# Print XML plc tags as string"
      ]
    },
    {
      "cell_type": "code",
      "metadata": {
        "id": "Wfa1XLJv0BmQ",
        "colab_type": "code",
        "colab": {}
      },
      "source": [
        "import xml.etree.ElementTree as ET\n",
        "\n",
        "response_text=ET.fromstring(response.text)#prints wordpad with xd \n",
        "response_xmlstr = ET.tostring(response_text, encoding='utf8', method='xml')#prints 1 line but has all the info\n",
        "xml_str = response_xmlstr.decode()#prints wordpad without xd\n",
        "\n",
        "#print(type(response_text))#<class 'xml.etree.ElementTree.Element'>\n",
        "#print(type(response_xmlstr))# <class 'bytes'>\n",
        "#print(type(xml_str))# <class 'str'>\n",
        "print(xml_str)# <class 'str'>\n"
      ],
      "execution_count": null,
      "outputs": []
    },
    {
      "cell_type": "markdown",
      "metadata": {
        "id": "2YHKShrhcquf",
        "colab_type": "text"
      },
      "source": [
        "# Traversing the xml tree of plc tags"
      ]
    },
    {
      "cell_type": "code",
      "metadata": {
        "id": "78dtXOppBVQL",
        "colab_type": "code",
        "colab": {}
      },
      "source": [
        "for node in response_text.iter():\n",
        "  print (node.tag, node.attrib, node.text)\n",
        "  #print(node)#Elements, such as <Element 'root.EquipmentID' at 0x7f05be878868>, <Element 'root.TagDateTime' at 0x7f05be878598>,<Element 'Table1' at 0x7f05be8785e8>\n",
        "  #print(node.text)\n",
        "  #if node.text=='RW43.PLC01.Zone1.ST045.Equip018.CycleTime':\n",
        "    #print(node.tag)"
      ],
      "execution_count": null,
      "outputs": []
    },
    {
      "cell_type": "code",
      "metadata": {
        "id": "xag_DDoc6DOH",
        "colab_type": "code",
        "colab": {}
      },
      "source": [
        "#install and import redis\n",
        "!pip install redis\n",
        "!pip install t_log\n",
        "import redis"
      ],
      "execution_count": null,
      "outputs": []
    },
    {
      "cell_type": "code",
      "metadata": {
        "id": "NNbLM7V96syw",
        "colab_type": "code",
        "colab": {}
      },
      "source": [
        "#how to setup connection with redis, where do I get password?\n",
        "# https://opensource.com/article/18/4/how-build-hello-redis-with-python\n",
        "#next task would be write to redis\n",
        "#then next task would be read back from redis by reconnecting\n",
        "import redis\n",
        "\n",
        "redis_host = \"localhost\"\n",
        "redis_port = 6379\n",
        "redis_password = \"\"\n",
        "'''\n",
        "r = pyredis.Redis(host='localhost', port=redis_port, password=redis_password)\n",
        "r.set(\"msg:hello\", \"Hello Redis!!!\")\n",
        "msg = r.get(\"msg:hello\")\n",
        "print(msg)\n",
        "#'''\n",
        "\n",
        "res = redis.Redis(host='47.99.94.49', port=6379, db=0)\n",
        "res.set(\"name\",\"Ayesha\")\n",
        "print(res.get('name'))\n"
      ],
      "execution_count": null,
      "outputs": []
    },
    {
      "cell_type": "code",
      "metadata": {
        "id": "m8ViK87qw26h",
        "colab_type": "code",
        "colab": {}
      },
      "source": [
        "!pip install redis-server\n",
        "!redis-cli"
      ],
      "execution_count": null,
      "outputs": []
    },
    {
      "cell_type": "code",
      "metadata": {
        "id": "I2asU99NheFV",
        "colab_type": "code",
        "colab": {}
      },
      "source": [
        "!pip install redis"
      ],
      "execution_count": null,
      "outputs": []
    },
    {
      "cell_type": "code",
      "metadata": {
        "id": "IY3JXX3GJ4Ca",
        "colab_type": "code",
        "colab": {
          "base_uri": "https://localhost:8080/",
          "height": 34
        },
        "outputId": "2dbeac74-3ce5-4c12-bc27-21280c8474f0"
      },
      "source": [
        "import redis\n",
        "\n",
        "# step 2: define our connection information for Redis\n",
        "# Replaces with your configuration information\n",
        "redis_host = \"192.168.2.11\"#\"localhost\"\n",
        "redis_port = 6379\n",
        "redis_password = \"\"\n",
        "\n",
        "\n",
        "def hello_redis():\n",
        "    \"\"\"Example Hello Redis Program\"\"\"\n",
        "   \n",
        "    # step 3: create the Redis Connection object\n",
        "    try:\n",
        "   \n",
        "        # The decode_repsonses flag here directs the client to convert the responses from Redis into Python strings\n",
        "        # using the default encoding utf-8.  This is client specific.\n",
        "        r = redis.StrictRedis(host=redis_host, port=redis_port, password=redis_password, decode_responses=True)\n",
        "   \n",
        "        # step 4: Set the hello message in Redis\n",
        "        r.set(\"msg:hello\", \"Hello Redis!!!\")\n",
        "\n",
        "        # step 5: Retrieve the hello message from Redis\n",
        "        msg = r.get(\"msg:hello\")\n",
        "        print(msg)        \n",
        "   \n",
        "    except Exception as e:\n",
        "        print(e)\n",
        "\n",
        "\n",
        "\n",
        "hello_redis()"
      ],
      "execution_count": null,
      "outputs": [
        {
          "output_type": "stream",
          "text": [
            "Error 110 connecting to 192.168.2.11:6379. Connection timed out.\n"
          ],
          "name": "stdout"
        }
      ]
    },
    {
      "cell_type": "code",
      "metadata": {
        "id": "EPHwuUeui67X",
        "colab_type": "code",
        "colab": {}
      },
      "source": [
        "import redis\n",
        "\n",
        "\n",
        "#res = redis.Redis(host='192.168.2.11', port=6379, db=0)\n",
        "#res = redis.Redis(host=\"localhost\", port=6379,db=0)#password=\"\")\n",
        "#r = redis.Redis(host='localhost', port=6379, decode_responses=True)\n",
        "#r = redis.Redis(host='192.168.2.11', port=6379, decode_responses=True)\n",
        "rC = redis.Redis(host='192.168.2.11', port=6379, db=0)\n",
        "#rC = redis.StrictRedis(host='localhost',port=6379,db=0)\n",
        "rC.set(\"name\",\"Ayesha\")\n",
        "print(rC.get('name'))\n"
      ],
      "execution_count": null,
      "outputs": []
    },
    {
      "cell_type": "code",
      "metadata": {
        "id": "9pMvxwWWu8sU",
        "colab_type": "code",
        "colab": {}
      },
      "source": [
        "import the Redis client\n",
        "import redis\n",
        "\n",
        "\n",
        "# Create a redis client\n",
        "redisClient = redis.StrictRedis(host='localhost', port=6379, db=0)\n",
        "\n",
        "# Add key value pairs to the Redis hash\n",
        "hashName = \"Dessert\"\n",
        "redisClient.hset(hashName, 'line', \"Cheesecake\")\n",
        "redisClient.hset(hashName, 'zone', \"zone01\")\n",
        "redisClient.hset(hashName, 'station', \"-1\")\n",
        "redisClient.hset(hashName, 'asset', \"-1\")\n",
        "redisClient.hset(hashName, 'tag_name', \"Zone01_Shift_1\")\n",
        "redisClient.hset(hashName, 'tag_value', \"1\")\n",
        "\n",
        "# Print the hash\n",
        "print(redisClient.hgetall(hashName))\n",
        "\n",
        "# Remove a key\n",
        "redisClient.hdel(hashName, 1)\n",
        " \n",
        "\n",
        "# Print the hash after removing a key\n",
        "print(redisClient.hgetall(hashName))\n",
        "\n",
        "{'line': 'rw43',\n",
        " 'zone': 'zone01',\n",
        " 'station': '-1',\n",
        " 'asset': '-1',\n",
        " 'tag_name': 'Zone01_Shift_1',\n",
        " 'tag_value': '1'\n",
        "} \n",
        "\n"
      ],
      "execution_count": null,
      "outputs": []
    },
    {
      "cell_type": "code",
      "metadata": {
        "id": "XqqGJhObOzzf",
        "colab_type": "code",
        "colab": {}
      },
      "source": [
        "import pickle\n",
        "import redis\n",
        "\n",
        "r = redis.StrictRedis('localhost')\n",
        "mydict = {1:2,2:3,3:4}\n",
        "p_mydict = pickle.dumps(mydict)\n",
        "r.set('mydict',p_mydict)\n",
        "\n",
        "read_dict = r.get('mydict')\n",
        "yourdict = pickle.loads(read_dict)"
      ],
      "execution_count": null,
      "outputs": []
    },
    {
      "cell_type": "code",
      "metadata": {
        "id": "yQc7XEgYpjPo",
        "colab_type": "code",
        "colab": {}
      },
      "source": [
        "!pip install redis"
      ],
      "execution_count": null,
      "outputs": []
    },
    {
      "cell_type": "code",
      "metadata": {
        "id": "gpyXCKSOpXLJ",
        "colab_type": "code",
        "colab": {}
      },
      "source": [
        "import redis\n",
        "r = redis.Redis(host=\"192.168.2.11\", port=6379, db=0)\n",
        "x = r.get(\"analytics_results\")\n",
        "print(x)"
      ],
      "execution_count": null,
      "outputs": []
    },
    {
      "cell_type": "markdown",
      "metadata": {
        "id": "Cgqluccqi_Bm",
        "colab_type": "text"
      },
      "source": [
        "<br>\n",
        "\n",
        "# <font color='blue'> Workflow feeds </font>"
      ]
    },
    {
      "cell_type": "markdown",
      "metadata": {
        "id": "QMhmhrIZeRzi",
        "colab_type": "text"
      },
      "source": [
        "# Requesting data from Workflow feed of helio server\n"
      ]
    },
    {
      "cell_type": "code",
      "metadata": {
        "id": "gjSb5eUseYuH",
        "colab_type": "code",
        "colab": {}
      },
      "source": [
        "import requests\n",
        "\n",
        "\n",
        "#links for 5 workflow feeds\n",
        "url_mShift = \"https://helio-ent-ice.c2m.net/Ice.svc/GetData?apikey=CSWQpToX4KLCwODDd3QCmBzak8/DYJ&feedID=moU39Gbxtz9IhQO0gUy@EQAKbJcR374vb@IVb6kWwH0=&parameterType=LISTDATA\"# 1 record\n",
        "url_mJob=\"https://helio-ent-ice.c2m.net/Ice.svc/GetData?apikey=CSWQpToX4KLCwODDd3QCmBzak8/DYJ&feedID=GIcqmjbvPvCFX3QNIsJbTNa99MyIUuvAFUyKPTBcs9g=&parameterType=LISTDATA\" #has zero records\n",
        "url_mStation=\"https://helio-ent-ice.c2m.net/Ice.svc/GetData?apikey=CSWQpToX4KLCwODDd3QCmBzak8/DYJ&feedID=GN3jGNVF03thDKOMppdZf/hjLH5vss2SgBlEkNaZvtE=&parameterType=LISTDATA\" #20 records\n",
        "url_mZone=\"https://helio-ent-ice.c2m.net/Ice.svc/GetData?apikey=CSWQpToX4KLCwODDd3QCmBzak8/DYJ&feedID=LYZEOIUPmsEILn4DoGwhlGw0VaYZ6Yh8@bEKrGOlN6A=&parameterType=LISTDATA\" # 2 records\n",
        "url_mLine=\"https://helio-ent-ice.c2m.net/Ice.svc/GetData?apikey=CSWQpToX4KLCwODDd3QCmBzak8/DYJ&feedID=XWPuVgYIhUVEZXRsr6gAFq2BPeTCdlLJxRBpvg07WLM=&parameterType=LISTDATA\" # 1 record\n",
        "\n",
        "\n",
        "\n",
        "#get response\n",
        "url=url_mShift\n",
        "response = requests.get(url)#,headers=headers)\n",
        "\n",
        "\n",
        "#print response\n",
        "print(response.text)\n",
        "\n"
      ],
      "execution_count": null,
      "outputs": []
    },
    {
      "cell_type": "markdown",
      "metadata": {
        "id": "ZDVaOMSEiqSZ",
        "colab_type": "text"
      },
      "source": [
        "# Print workflow feeds as string"
      ]
    },
    {
      "cell_type": "code",
      "metadata": {
        "id": "zIrifb4KivUH",
        "colab_type": "code",
        "colab": {
          "base_uri": "https://localhost:8080/",
          "height": 1000
        },
        "outputId": "e6543fdf-aecf-48e9-cb79-da390551c3fd"
      },
      "source": [
        "import xml.etree.ElementTree as ET\n",
        "\n",
        "response_text=ET.fromstring(response.text)#prints wordpad with xd \n",
        "response_xmlstr = ET.tostring(response_text, encoding='utf8', method='xml')#prints 1 line but has all the info\n",
        "xml_str = response_xmlstr.decode()#prints wordpad without xd\n",
        "\n",
        "#print(type(response_text))#<class 'xml.etree.ElementTree.Element'>\n",
        "#print(type(response_xmlstr))# <class 'bytes'>\n",
        "#print(type(xml_str))# <class 'str'>\n",
        "print(xml_str)# <class 'str'>\n"
      ],
      "execution_count": 3,
      "outputs": [
        {
          "output_type": "stream",
          "text": [
            "<?xml version='1.0' encoding='utf8'?>\n",
            "<root><response fetchedrecords=\"3\" startrecord=\"0\" status=\"SUCCESS\" totalrecords=\"3\"><NewDataSet>\r\n",
            "  <Table1>\r\n",
            "    <c2mdatetime>2020-06-30T15:06:05.144Z</c2mdatetime>\r\n",
            "    <TRNSCTNID>11856</TRNSCTNID>\r\n",
            "    <CRTDON>2020-06-25T03:08:44.000Z</CRTDON>\r\n",
            "    <MODFON>2020-06-29T14:01:11.000Z</MODFON>\r\n",
            "    <CRTDBY>3871</CRTDBY>\r\n",
            "    <MODFBY>3871</MODFBY>\r\n",
            "    <fmsscheduleid>1JTE</fmsscheduleid>\r\n",
            "    <fmsschedulename>Shift 1</fmsschedulename>\r\n",
            "    <fmsschedulelinelink>RW43</fmsschedulelinelink>\r\n",
            "    <fmsscheduledays />\r\n",
            "    <fmsschedulestarttime>12:00 Am</fmsschedulestarttime>\r\n",
            "    <fmsscheduleendtime>08:00 Am</fmsscheduleendtime>\r\n",
            "    <fmsschedulebreakstart>02:00 Am</fmsschedulebreakstart>\r\n",
            "    <fmsschedulebreakend>02:15 Am</fmsschedulebreakend>\r\n",
            "    <fmsschedulelunchstart>04:00 Am</fmsschedulelunchstart>\r\n",
            "    <fmsschedulelunchend>05:00 Am</fmsschedulelunchend>\r\n",
            "    <fmsscheduledaysnew>Monday!Tuesday!Wednesday!Thursday!Friday</fmsscheduledaysnew>\r\n",
            "    <StageName>Status</StageName>\r\n",
            "    <StateName>Active</StateName>\r\n",
            "    <username>lmv_admin@yopmail.com</username>\r\n",
            "    <companyname>MagnaLMVCompany4</companyname>\r\n",
            "    <groupname>MagnaLMVCompany4</groupname>\r\n",
            "  </Table1>\r\n",
            "  <Table1>\r\n",
            "    <c2mdatetime>2020-06-30T15:06:05.144Z</c2mdatetime>\r\n",
            "    <TRNSCTNID>11857</TRNSCTNID>\r\n",
            "    <CRTDON>2020-06-29T13:58:23.000Z</CRTDON>\r\n",
            "    <MODFON>2020-06-29T13:58:23.000Z</MODFON>\r\n",
            "    <CRTDBY>3871</CRTDBY>\r\n",
            "    <MODFBY>3871</MODFBY>\r\n",
            "    <fmsscheduleid>1QRL</fmsscheduleid>\r\n",
            "    <fmsschedulename>Shift 2</fmsschedulename>\r\n",
            "    <fmsschedulelinelink>RW43</fmsschedulelinelink>\r\n",
            "    <fmsscheduledays />\r\n",
            "    <fmsschedulestarttime>08:00 Am</fmsschedulestarttime>\r\n",
            "    <fmsscheduleendtime>04:00 Pm</fmsscheduleendtime>\r\n",
            "    <fmsschedulebreakstart>10:00 Am</fmsschedulebreakstart>\r\n",
            "    <fmsschedulebreakend>10:15 Am</fmsschedulebreakend>\r\n",
            "    <fmsschedulelunchstart>12:00 Pm</fmsschedulelunchstart>\r\n",
            "    <fmsschedulelunchend>01:00 Pm</fmsschedulelunchend>\r\n",
            "    <fmsscheduledaysnew>Monday!Tuesday!Wednesday!Thursday!Friday</fmsscheduledaysnew>\r\n",
            "    <StageName>Status</StageName>\r\n",
            "    <StateName>Active</StateName>\r\n",
            "    <username>lmv_admin@yopmail.com</username>\r\n",
            "    <companyname>MagnaLMVCompany4</companyname>\r\n",
            "    <groupname>MagnaLMVCompany4</groupname>\r\n",
            "  </Table1>\r\n",
            "  <Table1>\r\n",
            "    <c2mdatetime>2020-06-30T15:06:05.144Z</c2mdatetime>\r\n",
            "    <TRNSCTNID>11858</TRNSCTNID>\r\n",
            "    <CRTDON>2020-06-29T14:02:33.000Z</CRTDON>\r\n",
            "    <MODFON>2020-06-29T14:02:33.000Z</MODFON>\r\n",
            "    <CRTDBY>3871</CRTDBY>\r\n",
            "    <MODFBY>3871</MODFBY>\r\n",
            "    <fmsscheduleid>15PN</fmsscheduleid>\r\n",
            "    <fmsschedulename>Shift 3</fmsschedulename>\r\n",
            "    <fmsschedulelinelink>RW43</fmsschedulelinelink>\r\n",
            "    <fmsscheduledays />\r\n",
            "    <fmsschedulestarttime>04:00 Pm</fmsschedulestarttime>\r\n",
            "    <fmsscheduleendtime>12:00 Am</fmsscheduleendtime>\r\n",
            "    <fmsschedulebreakstart>06:00 Am</fmsschedulebreakstart>\r\n",
            "    <fmsschedulebreakend>06:15 Am</fmsschedulebreakend>\r\n",
            "    <fmsschedulelunchstart>08:00 Pm</fmsschedulelunchstart>\r\n",
            "    <fmsschedulelunchend>09:00 Pm</fmsschedulelunchend>\r\n",
            "    <fmsscheduledaysnew>Monday!Tuesday!Wednesday!Thursday!Friday</fmsscheduledaysnew>\r\n",
            "    <StageName>Status</StageName>\r\n",
            "    <StateName>Active</StateName>\r\n",
            "    <username>lmv_admin@yopmail.com</username>\r\n",
            "    <companyname>MagnaLMVCompany4</companyname>\r\n",
            "    <groupname>MagnaLMVCompany4</groupname>\r\n",
            "  </Table1>\r\n",
            "</NewDataSet></response></root>\n"
          ],
          "name": "stdout"
        }
      ]
    },
    {
      "cell_type": "markdown",
      "metadata": {
        "id": "9vHqmZopjUUP",
        "colab_type": "text"
      },
      "source": [
        "# Parse workflow feed which is an xml tree & put in a dic"
      ]
    },
    {
      "cell_type": "code",
      "metadata": {
        "id": "R34FuebpjZxm",
        "colab_type": "code",
        "colab": {
          "base_uri": "https://localhost:8080/",
          "height": 1000
        },
        "outputId": "59e45ddd-ad8c-484e-d511-51f0065883ca"
      },
      "source": [
        "for node in response_text.iter():\n",
        "  #print (node.tag, node.attrib, node.text)\n",
        "  \n",
        "  print(node.tag)#Elements, such as <Element 'root.EquipmentID' at 0x7f05be878868>, <Element 'root.TagDateTime' at 0x7f05be878598>,<Element 'Table1' at 0x7f05be8785e8> KEY\n",
        "  print(node.attrib)\n",
        "  print(node.text) #should go to dic value? make that sure VALUE\n",
        "  #print(node.text)\n",
        "  #if node.text=='RW43.PLC01.Zone1.ST045.Equip018.CycleTime':\n",
        "    #print(node.tag)"
      ],
      "execution_count": null,
      "outputs": [
        {
          "output_type": "stream",
          "text": [
            "root\n",
            "{}\n",
            "None\n",
            "response\n",
            "{'status': 'SUCCESS', 'startrecord': '0', 'fetchedrecords': '3', 'totalrecords': '3'}\n",
            "None\n",
            "NewDataSet\n",
            "{}\n",
            "\r\n",
            "  \n",
            "Table1\n",
            "{}\n",
            "\r\n",
            "    \n",
            "c2mdatetime\n",
            "{}\n",
            "2020-06-29T14:41:50.951Z\n",
            "TRNSCTNID\n",
            "{}\n",
            "11857\n",
            "CRTDON\n",
            "{}\n",
            "2020-06-29T13:58:23.000Z\n",
            "MODFON\n",
            "{}\n",
            "2020-06-29T13:58:23.000Z\n",
            "CRTDBY\n",
            "{}\n",
            "3871\n",
            "MODFBY\n",
            "{}\n",
            "3871\n",
            "fmsscheduleid\n",
            "{}\n",
            "1QRL\n",
            "fmsschedulename\n",
            "{}\n",
            "Shift 2\n",
            "fmsschedulelinelink\n",
            "{}\n",
            "RW43\n",
            "fmsscheduledays\n",
            "{}\n",
            "None\n",
            "fmsschedulestarttime\n",
            "{}\n",
            "08:00 Am\n",
            "fmsscheduleendtime\n",
            "{}\n",
            "04:00 Pm\n",
            "fmsschedulebreakstart\n",
            "{}\n",
            "10:00 Am\n",
            "fmsschedulebreakend\n",
            "{}\n",
            "10:15 Am\n",
            "fmsschedulelunchstart\n",
            "{}\n",
            "12:00 Pm\n",
            "fmsschedulelunchend\n",
            "{}\n",
            "01:00 Pm\n",
            "fmsscheduledaysnew\n",
            "{}\n",
            "Monday!Tuesday!Wednesday!Thursday!Friday\n",
            "StageName\n",
            "{}\n",
            "Status\n",
            "StateName\n",
            "{}\n",
            "Active\n",
            "username\n",
            "{}\n",
            "lmv_admin@yopmail.com\n",
            "companyname\n",
            "{}\n",
            "MagnaLMVCompany4\n",
            "groupname\n",
            "{}\n",
            "MagnaLMVCompany4\n",
            "Table1\n",
            "{}\n",
            "\r\n",
            "    \n",
            "c2mdatetime\n",
            "{}\n",
            "2020-06-29T14:41:50.951Z\n",
            "TRNSCTNID\n",
            "{}\n",
            "11858\n",
            "CRTDON\n",
            "{}\n",
            "2020-06-29T14:02:33.000Z\n",
            "MODFON\n",
            "{}\n",
            "2020-06-29T14:02:33.000Z\n",
            "CRTDBY\n",
            "{}\n",
            "3871\n",
            "MODFBY\n",
            "{}\n",
            "3871\n",
            "fmsscheduleid\n",
            "{}\n",
            "15PN\n",
            "fmsschedulename\n",
            "{}\n",
            "Shift 3\n",
            "fmsschedulelinelink\n",
            "{}\n",
            "RW43\n",
            "fmsscheduledays\n",
            "{}\n",
            "None\n",
            "fmsschedulestarttime\n",
            "{}\n",
            "04:00 Pm\n",
            "fmsscheduleendtime\n",
            "{}\n",
            "12:00 Am\n",
            "fmsschedulebreakstart\n",
            "{}\n",
            "06:00 Am\n",
            "fmsschedulebreakend\n",
            "{}\n",
            "06:15 Am\n",
            "fmsschedulelunchstart\n",
            "{}\n",
            "08:00 Pm\n",
            "fmsschedulelunchend\n",
            "{}\n",
            "09:00 Pm\n",
            "fmsscheduledaysnew\n",
            "{}\n",
            "Monday!Tuesday!Wednesday!Thursday!Friday\n",
            "StageName\n",
            "{}\n",
            "Status\n",
            "StateName\n",
            "{}\n",
            "Active\n",
            "username\n",
            "{}\n",
            "lmv_admin@yopmail.com\n",
            "companyname\n",
            "{}\n",
            "MagnaLMVCompany4\n",
            "groupname\n",
            "{}\n",
            "MagnaLMVCompany4\n",
            "Table1\n",
            "{}\n",
            "\r\n",
            "    \n",
            "c2mdatetime\n",
            "{}\n",
            "2020-06-29T14:41:50.950Z\n",
            "TRNSCTNID\n",
            "{}\n",
            "11856\n",
            "CRTDON\n",
            "{}\n",
            "2020-06-25T03:08:44.000Z\n",
            "MODFON\n",
            "{}\n",
            "2020-06-29T14:01:11.000Z\n",
            "CRTDBY\n",
            "{}\n",
            "3871\n",
            "MODFBY\n",
            "{}\n",
            "3871\n",
            "fmsscheduleid\n",
            "{}\n",
            "1JTE\n",
            "fmsschedulename\n",
            "{}\n",
            "Shift 1\n",
            "fmsschedulelinelink\n",
            "{}\n",
            "RW43\n",
            "fmsscheduledays\n",
            "{}\n",
            "None\n",
            "fmsschedulestarttime\n",
            "{}\n",
            "12:00 Am\n",
            "fmsscheduleendtime\n",
            "{}\n",
            "08:00 Am\n",
            "fmsschedulebreakstart\n",
            "{}\n",
            "02:00 Am\n",
            "fmsschedulebreakend\n",
            "{}\n",
            "02:15 Am\n",
            "fmsschedulelunchstart\n",
            "{}\n",
            "04:00 Am\n",
            "fmsschedulelunchend\n",
            "{}\n",
            "05:00 Am\n",
            "fmsscheduledaysnew\n",
            "{}\n",
            "Monday!Tuesday!Wednesday!Thursday!Friday\n",
            "StageName\n",
            "{}\n",
            "Status\n",
            "StateName\n",
            "{}\n",
            "Active\n",
            "username\n",
            "{}\n",
            "lmv_admin@yopmail.com\n",
            "companyname\n",
            "{}\n",
            "MagnaLMVCompany4\n",
            "groupname\n",
            "{}\n",
            "MagnaLMVCompany4\n"
          ],
          "name": "stdout"
        }
      ]
    }
  ]
}