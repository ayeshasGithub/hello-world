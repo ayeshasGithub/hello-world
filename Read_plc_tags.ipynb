{
  "nbformat": 4,
  "nbformat_minor": 0,
  "metadata": {
    "colab": {
      "name": "Read_plc_tags.ipynb",
      "provenance": [],
      "authorship_tag": "ABX9TyOWDP8EQATsFCT3OO+cRYSf",
      "include_colab_link": true
    },
    "kernelspec": {
      "name": "python3",
      "display_name": "Python 3"
    }
  },
  "cells": [
    {
      "cell_type": "markdown",
      "metadata": {
        "id": "view-in-github",
        "colab_type": "text"
      },
      "source": [
        "<a href=\"https://colab.research.google.com/github/ayeshasGithub/hello-world/blob/master/Read_plc_tags.ipynb\" target=\"_parent\"><img src=\"https://colab.research.google.com/assets/colab-badge.svg\" alt=\"Open In Colab\"/></a>"
      ]
    },
    {
      "cell_type": "markdown",
      "metadata": {
        "id": "jaKfyv1AydXN",
        "colab_type": "text"
      },
      "source": [
        "# Install Kafka depedencies"
      ]
    },
    {
      "cell_type": "code",
      "metadata": {
        "id": "Day-fGR9_SLL",
        "colab_type": "code",
        "colab": {
          "base_uri": "https://localhost:8080/",
          "height": 379
        },
        "outputId": "b4d9c0d3-69bd-43b8-ddc5-ed1d8fe3e8d9"
      },
      "source": [
        "#new\n",
        "import json \n",
        "from kafka import KafkaConsumer\n",
        "import redis\n",
        "import time\n",
        "import sys\n",
        "\n",
        "topic_name = 'magnaPlcTagData'\n",
        "b_server=['10.0.1.96:9092']\n",
        "\n",
        "\n",
        "#redis host\n",
        "redis_host=\"192.168.2.11\"\n",
        "redis_port = 6379\n",
        "redis_password = \"\"\n",
        "r=redis.Redis(host=\"192.168.2.11\", port=6379, db=0)\n",
        "\n",
        "#key conversion: {'line': 'rw43', 'zone': 'zone01', 'station': '-1', 'asset': '-1', 'tag_name': 'Zone01_Shift_1', \n",
        "#                   'tag_value': '1', 'tag_datetime':'2020-05-28T11:31:05.89'} \n",
        "key_conversion={'root.LaneID':'line','root.ZoneID':'zone','root.TagID':'tag_name','root.StationID':'station',\n",
        "                        'root.EquipmentID':'asset','root.TagValue':'tag_value','root.TagDateTime':'tag_datetime'}\n",
        "\n",
        "msg_count=0\n",
        "consumer = KafkaConsumer(topic_name, bootstrap_servers=b_server,auto_offset_reset='earliest',\n",
        "                          enable_auto_commit=True, value_deserializer=lambda x: loads(x.decode('utf-8')))\n",
        "for msg in consumer:\n",
        "    msg_count=msg_count+1\n",
        "    msg = msg.value\n",
        "    \n",
        "    print('\\n')\n",
        "    sys.stdout.write('%d'%msg_count)\n",
        "    \n",
        "    #print('{}'.format(msg))\n",
        "  \n",
        "    #parse tag from msg\n",
        "    dic_msg=msg[0]#type(msg)=list, type(msg[0])=dic\\n\",\n",
        "    res=json.loads(dic_msg['FeedData'])#type(dic_msg['FeedData'])=str, type(dic_msg['FeedData'][0])=type(res)=list\\n\",\n",
        "    new_dic=res[0]#type(new_dic)=dic\\n\",\n",
        "    name_list=new_dic['NAMES']#type(new_dic['NAMES'])=list\\n\",\n",
        "    value_list=new_dic['VALUES'][0]#type(new_dic['Values'])=list of list\\n\",\n",
        "  \n",
        "    #make one dic from one parsed msg => tag\n",
        "    plc_dic={}\n",
        "    for name,value in zip(name_list,value_list):\n",
        "        #print(name,':',value)\n",
        "        plc_dic[key_conversion[name]]=value\n",
        "    \n",
        "    \n",
        "    #read/write one tag/msg on redis\n",
        "    r_val=json.dumps(plc_dic)\n",
        "    r.set('plc_tag_msg',r_val)\n",
        "    r_had=r.get('plc_tag_msg')\n",
        "    plc_tag=json.loads(r_had)\n",
        "    print('from redis read: ',plc_tag)\n",
        "    \n",
        "    \n",
        "    \n",
        "    \n",
        "    #print(plc_dic)\n",
        "    print('tag_name: ',plc_dic['tag_name'])\n",
        "    print('tag_value: ',plc_dic['tag_value'])\n",
        "    \n",
        "  \n",
        "    if msg_count==15:\n",
        "        break\n",
        "    #break"
      ],
      "execution_count": null,
      "outputs": [
        {
          "output_type": "error",
          "ename": "ModuleNotFoundError",
          "evalue": "ignored",
          "traceback": [
            "\u001b[0;31m---------------------------------------------------------------------------\u001b[0m",
            "\u001b[0;31mModuleNotFoundError\u001b[0m                       Traceback (most recent call last)",
            "\u001b[0;32m<ipython-input-17-c75f384e214c>\u001b[0m in \u001b[0;36m<module>\u001b[0;34m()\u001b[0m\n\u001b[1;32m      1\u001b[0m \u001b[0;31m#new\u001b[0m\u001b[0;34m\u001b[0m\u001b[0;34m\u001b[0m\u001b[0;34m\u001b[0m\u001b[0m\n\u001b[1;32m      2\u001b[0m \u001b[0;32mimport\u001b[0m \u001b[0mjson\u001b[0m\u001b[0;34m\u001b[0m\u001b[0;34m\u001b[0m\u001b[0m\n\u001b[0;32m----> 3\u001b[0;31m \u001b[0;32mfrom\u001b[0m \u001b[0mkafka\u001b[0m \u001b[0;32mimport\u001b[0m \u001b[0mKafkaConsumer\u001b[0m\u001b[0;34m\u001b[0m\u001b[0;34m\u001b[0m\u001b[0m\n\u001b[0m\u001b[1;32m      4\u001b[0m \u001b[0;32mimport\u001b[0m \u001b[0mredis\u001b[0m\u001b[0;34m\u001b[0m\u001b[0;34m\u001b[0m\u001b[0m\n\u001b[1;32m      5\u001b[0m \u001b[0;32mimport\u001b[0m \u001b[0mtime\u001b[0m\u001b[0;34m\u001b[0m\u001b[0;34m\u001b[0m\u001b[0m\n",
            "\u001b[0;31mModuleNotFoundError\u001b[0m: No module named 'kafka'",
            "",
            "\u001b[0;31m---------------------------------------------------------------------------\u001b[0;32m\nNOTE: If your import is failing due to a missing package, you can\nmanually install dependencies using either !pip or !apt.\n\nTo view examples of installing some common dependencies, click the\n\"Open Examples\" button below.\n\u001b[0;31m---------------------------------------------------------------------------\u001b[0m\n"
          ]
        }
      ]
    },
    {
      "cell_type": "code",
      "metadata": {
        "id": "XnGqCy2l6P1A",
        "colab_type": "code",
        "colab": {
          "base_uri": "https://localhost:8080/",
          "height": 379
        },
        "outputId": "5ea07224-392f-4b22-e2ee-6ae018b24a2b"
      },
      "source": [
        "import json \n",
        "from kafka import KafkaConsumer\n",
        "import redis\n",
        "import time\n",
        "import sys\n",
        "\n",
        "topic_name = 'magnaPlcTagData'\n",
        "b_server=['10.0.1.96:9092']\n",
        "\n",
        "\n",
        "#redis host\n",
        "redis_host=\"192.168.2.11\"\n",
        "redis_port = 6379\n",
        "redis_password = \"\"\n",
        "redis.Redis(host=\"192.168.2.11\", port=6379, db=0)\n",
        "\n",
        "#key conversion: {'line': 'rw43', 'zone': 'zone01', 'station': '-1', 'asset': '-1', 'tag_name': 'Zone01_Shift_1', \n",
        "#                   'tag_value': '1', 'tag_datetime':'2020-05-28T11:31:05.89'} \n",
        "key_conversion={'root.LaneID':'line','root.ZoneID':'zone','root.TagID':'tag_name','root.StationID':'station',\n",
        "                        'root.EquipmentID':'asset','root.TagValue':'tag_value','root.TagDateTime':'tag_datetime'}\n",
        "\n",
        "msg_count=0\n",
        "consumer = KafkaConsumer(topic_name, bootstrap_servers=b_server,auto_offset_reset='earliest',\n",
        "                          enable_auto_commit=True, value_deserializer=lambda x: loads(x.decode('utf-8')))\n",
        "for msg in consumer:\n",
        "    msg_count=msg_count+1\n",
        "    msg = msg.value\n",
        "    \n",
        "    print('\\n')\n",
        "    sys.stdout.write('%d'%msg_count)\n",
        "    \n",
        "    #print('{}'.format(msg))\n",
        "  \n",
        "    #parse tag from msg\n",
        "    dic_msg=msg[0]#type(msg)=list, type(msg[0])=dic\\n\",\n",
        "    res=json.loads(dic_msg['FeedData'])#type(dic_msg['FeedData'])=str, type(dic_msg['FeedData'][0])=type(res)=list\\n\",\n",
        "    new_dic=res[0]#type(new_dic)=dic\\n\",\n",
        "    name_list=new_dic['NAMES']#type(new_dic['NAMES'])=list\\n\",\n",
        "    value_list=new_dic['VALUES'][0]#type(new_dic['Values'])=list of list\\n\",\n",
        "  \n",
        "    #make one dic from one parsed msg => tag\n",
        "    plc_dic={}\n",
        "    for name,value in zip(name_list,value_list):\n",
        "        #print(name,':',value)\n",
        "        plc_dic[key_conversion[name]]=value\n",
        "    \n",
        "    #print(plc_dic)\n",
        "    print('tag_name: ',plc_dic['tag_name'])\n",
        "    print('tag_value: ',plc_dic['tag_value'])\n",
        "  \n",
        "    if msg_count==15:\n",
        "        break\n",
        "    #break"
      ],
      "execution_count": null,
      "outputs": [
        {
          "output_type": "error",
          "ename": "ModuleNotFoundError",
          "evalue": "ignored",
          "traceback": [
            "\u001b[0;31m---------------------------------------------------------------------------\u001b[0m",
            "\u001b[0;31mModuleNotFoundError\u001b[0m                       Traceback (most recent call last)",
            "\u001b[0;32m<ipython-input-15-51d82474eacb>\u001b[0m in \u001b[0;36m<module>\u001b[0;34m()\u001b[0m\n\u001b[1;32m      1\u001b[0m \u001b[0;32mimport\u001b[0m \u001b[0mjson\u001b[0m\u001b[0;34m\u001b[0m\u001b[0;34m\u001b[0m\u001b[0m\n\u001b[0;32m----> 2\u001b[0;31m \u001b[0;32mfrom\u001b[0m \u001b[0mkafka\u001b[0m \u001b[0;32mimport\u001b[0m \u001b[0mKafkaConsumer\u001b[0m\u001b[0;34m\u001b[0m\u001b[0;34m\u001b[0m\u001b[0m\n\u001b[0m\u001b[1;32m      3\u001b[0m \u001b[0;32mimport\u001b[0m \u001b[0mredis\u001b[0m\u001b[0;34m\u001b[0m\u001b[0;34m\u001b[0m\u001b[0m\n\u001b[1;32m      4\u001b[0m \u001b[0;32mimport\u001b[0m \u001b[0mtime\u001b[0m\u001b[0;34m\u001b[0m\u001b[0;34m\u001b[0m\u001b[0m\n\u001b[1;32m      5\u001b[0m \u001b[0;32mimport\u001b[0m \u001b[0msys\u001b[0m\u001b[0;34m\u001b[0m\u001b[0;34m\u001b[0m\u001b[0m\n",
            "\u001b[0;31mModuleNotFoundError\u001b[0m: No module named 'kafka'",
            "",
            "\u001b[0;31m---------------------------------------------------------------------------\u001b[0;32m\nNOTE: If your import is failing due to a missing package, you can\nmanually install dependencies using either !pip or !apt.\n\nTo view examples of installing some common dependencies, click the\n\"Open Examples\" button below.\n\u001b[0;31m---------------------------------------------------------------------------\u001b[0m\n"
          ]
        }
      ]
    },
    {
      "cell_type": "code",
      "metadata": {
        "id": "RMIz_c87tUIL",
        "colab_type": "code",
        "colab": {
          "base_uri": "https://localhost:8080/",
          "height": 129
        },
        "outputId": "8d8745f8-815e-4ddf-fee9-41824850c3c7"
      },
      "source": [
        "import json\n",
        "from kafka import KafkaConsumer\n",
        "import redis\n",
        "import time\n",
        "import sys\n",
        "    \n",
        "# kafka host (broker)\n",
        "topic_name = 'magnaPlcTagData'\n",
        "b_server=['10.0.1.96:9092']\n",
        "\n",
        "#redis host\n",
        "redis_host=\"192.168.2.11\"\n",
        "redis_port = 6379\n",
        "redis_password = \"\"\n",
        "redis.Redis(host=\"192.168.2.11\", port=6379, db=0)\n",
        "\n",
        "#key conversion: {'line': 'rw43', 'zone': 'zone01', 'station': '-1', 'asset': '-1', 'tag_name': 'Zone01_Shift_1', \n",
        "#                   'tag_value': '1', 'tag_datetime':'2020-05-28T11:31:05.89'} \n",
        "key_conversion={'root.LaneID':'line','root.ZoneID':'zone','root.TagID':'tag_name','root.StationID':'station',\n",
        "                        'root.EquipmentID':'asset','root.TagValue':'tag_value','root.TagDateTime':'tag_datetime'}\n",
        "\n",
        "msg_count=0\n",
        "consumer = KafkaConsumer(topic_name, bootstrap_servers=b_server,auto_offset_reset='earliest',\n",
        "                           enable_auto_commit=True, value_deserializer=lambda x: loads(x.decode('utf-8')))\n",
        "    \n",
        "for msg in consumer:\n",
        "  msg = msg.value\n",
        "  msg_count=msg_count+1\n",
        "  sys.stdout.write('\\\\r%d'%msg_count) \n",
        "  print('{}'.format(msg))\n",
        "  \n",
        "  #parse tag from msg\n",
        "  dic_msg=msg[0]#type(msg)=list, type(msg[0])=dic\\n\",\n",
        "  res=json.loads(dic_msg['FeedData'])#type(dic_msg['FeedData'])=str, type(dic_msg['FeedData'][0])=type(res)=list\\n\",\n",
        "  new_dic=res[0]#type(new_dic)=dic\\n\",\n",
        "  name_list=new_dic['NAMES']#type(new_dic['NAMES'])=list\\n\",\n",
        "  value_list=new_dic['VALUES'][0]#type(new_dic['Values'])=list of list\\n\",\n",
        "  \n",
        "  #make one dic from one parsed msg => tag\n",
        "  plc_dic={}\n",
        "  for name,value in zip(name_list,value_list):\n",
        "      #print(name,':',value)\\n\",\n",
        "      plc_dic[key_conversion[name]]=value\n",
        "      #print(plc_dic)\\n\",\n",
        "      print(plc_dic['tag_name'])\n",
        "    \n",
        "      if msg_count==1:\n",
        "        first_tag=plc_dic['tag_name']\n",
        "        if plc_dic['tag_name']==first_tag:\n",
        "          print ('tag repeats')\n",
        "          print('this_tag',plc_dic['tag_name'])\n",
        "          print('msg_count',msg_count)\n",
        "          break\n",
        "          sys.stdout.flush()\n",
        "        time.sleep(0.2)\n",
        "        if msg_count==15:\n",
        "            break\\n\",\n",
        "        #break\\n\",\n",
        "    "
      ],
      "execution_count": null,
      "outputs": [
        {
          "output_type": "error",
          "ename": "SyntaxError",
          "evalue": "ignored",
          "traceback": [
            "\u001b[0;36m  File \u001b[0;32m\"<ipython-input-14-f4b4481266c0>\"\u001b[0;36m, line \u001b[0;32m57\u001b[0m\n\u001b[0;31m    break\\n\",\u001b[0m\n\u001b[0m             ^\u001b[0m\n\u001b[0;31mSyntaxError\u001b[0m\u001b[0;31m:\u001b[0m unexpected character after line continuation character\n"
          ]
        }
      ]
    },
    {
      "cell_type": "code",
      "metadata": {
        "id": "65WG9eR8sfgN",
        "colab_type": "code",
        "colab": {
          "base_uri": "https://localhost:8080/",
          "height": 379
        },
        "outputId": "45709bff-90a6-4996-ca5a-fb820a1fee1b"
      },
      "source": [
        "from json import loads\n",
        "from kafka import KafkaConsumer\n",
        "\n",
        "topic_name = 'magnaPlcTagData'\n",
        "b_server=['10.0.1.96:9092']\n",
        "\n",
        "consumer = KafkaConsumer(topic_name, bootstrap_servers=b_server,\n",
        "                          enable_auto_commit=True, value_deserializer=lambda x: loads(x.decode('utf-8')))\n",
        "for message in consumer:\n",
        "  message = message.value\n",
        "  print('{}'.format(message))\n",
        "  break"
      ],
      "execution_count": null,
      "outputs": [
        {
          "output_type": "error",
          "ename": "ModuleNotFoundError",
          "evalue": "ignored",
          "traceback": [
            "\u001b[0;31m---------------------------------------------------------------------------\u001b[0m",
            "\u001b[0;31mModuleNotFoundError\u001b[0m                       Traceback (most recent call last)",
            "\u001b[0;32m<ipython-input-1-814dc74bed5e>\u001b[0m in \u001b[0;36m<module>\u001b[0;34m()\u001b[0m\n\u001b[1;32m      1\u001b[0m \u001b[0;32mfrom\u001b[0m \u001b[0mjson\u001b[0m \u001b[0;32mimport\u001b[0m \u001b[0mloads\u001b[0m\u001b[0;34m\u001b[0m\u001b[0;34m\u001b[0m\u001b[0m\n\u001b[0;32m----> 2\u001b[0;31m \u001b[0;32mfrom\u001b[0m \u001b[0mkafka\u001b[0m \u001b[0;32mimport\u001b[0m \u001b[0mKafkaConsumer\u001b[0m\u001b[0;34m\u001b[0m\u001b[0;34m\u001b[0m\u001b[0m\n\u001b[0m\u001b[1;32m      3\u001b[0m \u001b[0;34m\u001b[0m\u001b[0m\n\u001b[1;32m      4\u001b[0m \u001b[0mtopic_name\u001b[0m \u001b[0;34m=\u001b[0m \u001b[0;34m'magnaPlcTagData'\u001b[0m\u001b[0;34m\u001b[0m\u001b[0;34m\u001b[0m\u001b[0m\n\u001b[1;32m      5\u001b[0m \u001b[0mb_server\u001b[0m\u001b[0;34m=\u001b[0m\u001b[0;34m[\u001b[0m\u001b[0;34m'10.0.1.96:9092'\u001b[0m\u001b[0;34m]\u001b[0m\u001b[0;34m\u001b[0m\u001b[0;34m\u001b[0m\u001b[0m\n",
            "\u001b[0;31mModuleNotFoundError\u001b[0m: No module named 'kafka'",
            "",
            "\u001b[0;31m---------------------------------------------------------------------------\u001b[0;32m\nNOTE: If your import is failing due to a missing package, you can\nmanually install dependencies using either !pip or !apt.\n\nTo view examples of installing some common dependencies, click the\n\"Open Examples\" button below.\n\u001b[0;31m---------------------------------------------------------------------------\u001b[0m\n"
          ]
        }
      ]
    },
    {
      "cell_type": "code",
      "metadata": {
        "id": "i8eyNqds1tUA",
        "colab_type": "code",
        "colab": {
          "base_uri": "https://localhost:8080/",
          "height": 34
        },
        "outputId": "a5e517b6-33d0-4ebc-d862-7478fc194e24"
      },
      "source": [
        "!pip install kafka-python\n",
        "from time import sleep\n",
        "from json import dumps\n",
        "from kafka import KafkaProducer\n",
        "from kafka import KafkaConsumer"
      ],
      "execution_count": null,
      "outputs": [
        {
          "output_type": "stream",
          "text": [
            "Requirement already satisfied: kafka-python in /usr/local/lib/python3.6/dist-packages (2.0.1)\n"
          ],
          "name": "stdout"
        }
      ]
    },
    {
      "cell_type": "code",
      "metadata": {
        "id": "x_vVrWdimTI6",
        "colab_type": "code",
        "colab": {
          "base_uri": "https://localhost:8080/",
          "height": 374
        },
        "outputId": "35e7d33f-846c-4ce6-b1d5-299215388808"
      },
      "source": [
        "from json import loads\n",
        "consumer = KafkaConsumer(\n",
        "    'spring_test',\n",
        "     bootstrap_servers=['localhost:9092'],\n",
        "     auto_offset_reset='earliest',\n",
        "     enable_auto_commit=True,\n",
        "     group_id='my-group',\n",
        "     value_deserializer=lambda x: loads(x.decode('utf-8')));\n",
        "\n",
        "for message in consumer:\n",
        "  message = message.value;\n",
        "  print('{}'.format(message))"
      ],
      "execution_count": null,
      "outputs": [
        {
          "output_type": "error",
          "ename": "NoBrokersAvailable",
          "evalue": "ignored",
          "traceback": [
            "\u001b[0;31m---------------------------------------------------------------------------\u001b[0m",
            "\u001b[0;31mNoBrokersAvailable\u001b[0m                        Traceback (most recent call last)",
            "\u001b[0;32m<ipython-input-21-3d9a86a8147d>\u001b[0m in \u001b[0;36m<module>\u001b[0;34m()\u001b[0m\n\u001b[1;32m      6\u001b[0m      \u001b[0menable_auto_commit\u001b[0m\u001b[0;34m=\u001b[0m\u001b[0;32mTrue\u001b[0m\u001b[0;34m,\u001b[0m\u001b[0;34m\u001b[0m\u001b[0;34m\u001b[0m\u001b[0m\n\u001b[1;32m      7\u001b[0m      \u001b[0mgroup_id\u001b[0m\u001b[0;34m=\u001b[0m\u001b[0;34m'my-group'\u001b[0m\u001b[0;34m,\u001b[0m\u001b[0;34m\u001b[0m\u001b[0;34m\u001b[0m\u001b[0m\n\u001b[0;32m----> 8\u001b[0;31m      value_deserializer=lambda x: loads(x.decode('utf-8')));\n\u001b[0m\u001b[1;32m      9\u001b[0m \u001b[0;34m\u001b[0m\u001b[0m\n\u001b[1;32m     10\u001b[0m \u001b[0;32mfor\u001b[0m \u001b[0mmessage\u001b[0m \u001b[0;32min\u001b[0m \u001b[0mconsumer\u001b[0m\u001b[0;34m:\u001b[0m\u001b[0;34m\u001b[0m\u001b[0;34m\u001b[0m\u001b[0m\n",
            "\u001b[0;32m/usr/local/lib/python3.6/dist-packages/kafka/consumer/group.py\u001b[0m in \u001b[0;36m__init__\u001b[0;34m(self, *topics, **configs)\u001b[0m\n\u001b[1;32m    353\u001b[0m                         str(self.config['api_version']), str_version)\n\u001b[1;32m    354\u001b[0m \u001b[0;34m\u001b[0m\u001b[0m\n\u001b[0;32m--> 355\u001b[0;31m         \u001b[0mself\u001b[0m\u001b[0;34m.\u001b[0m\u001b[0m_client\u001b[0m \u001b[0;34m=\u001b[0m \u001b[0mKafkaClient\u001b[0m\u001b[0;34m(\u001b[0m\u001b[0mmetrics\u001b[0m\u001b[0;34m=\u001b[0m\u001b[0mself\u001b[0m\u001b[0;34m.\u001b[0m\u001b[0m_metrics\u001b[0m\u001b[0;34m,\u001b[0m \u001b[0;34m**\u001b[0m\u001b[0mself\u001b[0m\u001b[0;34m.\u001b[0m\u001b[0mconfig\u001b[0m\u001b[0;34m)\u001b[0m\u001b[0;34m\u001b[0m\u001b[0;34m\u001b[0m\u001b[0m\n\u001b[0m\u001b[1;32m    356\u001b[0m \u001b[0;34m\u001b[0m\u001b[0m\n\u001b[1;32m    357\u001b[0m         \u001b[0;31m# Get auto-discovered version from client if necessary\u001b[0m\u001b[0;34m\u001b[0m\u001b[0;34m\u001b[0m\u001b[0;34m\u001b[0m\u001b[0m\n",
            "\u001b[0;32m/usr/local/lib/python3.6/dist-packages/kafka/client_async.py\u001b[0m in \u001b[0;36m__init__\u001b[0;34m(self, **configs)\u001b[0m\n\u001b[1;32m    240\u001b[0m         \u001b[0;32mif\u001b[0m \u001b[0mself\u001b[0m\u001b[0;34m.\u001b[0m\u001b[0mconfig\u001b[0m\u001b[0;34m[\u001b[0m\u001b[0;34m'api_version'\u001b[0m\u001b[0;34m]\u001b[0m \u001b[0;32mis\u001b[0m \u001b[0;32mNone\u001b[0m\u001b[0;34m:\u001b[0m\u001b[0;34m\u001b[0m\u001b[0;34m\u001b[0m\u001b[0m\n\u001b[1;32m    241\u001b[0m             \u001b[0mcheck_timeout\u001b[0m \u001b[0;34m=\u001b[0m \u001b[0mself\u001b[0m\u001b[0;34m.\u001b[0m\u001b[0mconfig\u001b[0m\u001b[0;34m[\u001b[0m\u001b[0;34m'api_version_auto_timeout_ms'\u001b[0m\u001b[0;34m]\u001b[0m \u001b[0;34m/\u001b[0m \u001b[0;36m1000\u001b[0m\u001b[0;34m\u001b[0m\u001b[0;34m\u001b[0m\u001b[0m\n\u001b[0;32m--> 242\u001b[0;31m             \u001b[0mself\u001b[0m\u001b[0;34m.\u001b[0m\u001b[0mconfig\u001b[0m\u001b[0;34m[\u001b[0m\u001b[0;34m'api_version'\u001b[0m\u001b[0;34m]\u001b[0m \u001b[0;34m=\u001b[0m \u001b[0mself\u001b[0m\u001b[0;34m.\u001b[0m\u001b[0mcheck_version\u001b[0m\u001b[0;34m(\u001b[0m\u001b[0mtimeout\u001b[0m\u001b[0;34m=\u001b[0m\u001b[0mcheck_timeout\u001b[0m\u001b[0;34m)\u001b[0m\u001b[0;34m\u001b[0m\u001b[0;34m\u001b[0m\u001b[0m\n\u001b[0m\u001b[1;32m    243\u001b[0m \u001b[0;34m\u001b[0m\u001b[0m\n\u001b[1;32m    244\u001b[0m     \u001b[0;32mdef\u001b[0m \u001b[0m_can_bootstrap\u001b[0m\u001b[0;34m(\u001b[0m\u001b[0mself\u001b[0m\u001b[0;34m)\u001b[0m\u001b[0;34m:\u001b[0m\u001b[0;34m\u001b[0m\u001b[0;34m\u001b[0m\u001b[0m\n",
            "\u001b[0;32m/usr/local/lib/python3.6/dist-packages/kafka/client_async.py\u001b[0m in \u001b[0;36mcheck_version\u001b[0;34m(self, node_id, timeout, strict)\u001b[0m\n\u001b[1;32m    896\u001b[0m             \u001b[0;32mif\u001b[0m \u001b[0mtry_node\u001b[0m \u001b[0;32mis\u001b[0m \u001b[0;32mNone\u001b[0m\u001b[0;34m:\u001b[0m\u001b[0;34m\u001b[0m\u001b[0;34m\u001b[0m\u001b[0m\n\u001b[1;32m    897\u001b[0m                 \u001b[0mself\u001b[0m\u001b[0;34m.\u001b[0m\u001b[0m_lock\u001b[0m\u001b[0;34m.\u001b[0m\u001b[0mrelease\u001b[0m\u001b[0;34m(\u001b[0m\u001b[0;34m)\u001b[0m\u001b[0;34m\u001b[0m\u001b[0;34m\u001b[0m\u001b[0m\n\u001b[0;32m--> 898\u001b[0;31m                 \u001b[0;32mraise\u001b[0m \u001b[0mErrors\u001b[0m\u001b[0;34m.\u001b[0m\u001b[0mNoBrokersAvailable\u001b[0m\u001b[0;34m(\u001b[0m\u001b[0;34m)\u001b[0m\u001b[0;34m\u001b[0m\u001b[0;34m\u001b[0m\u001b[0m\n\u001b[0m\u001b[1;32m    899\u001b[0m             \u001b[0mself\u001b[0m\u001b[0;34m.\u001b[0m\u001b[0m_maybe_connect\u001b[0m\u001b[0;34m(\u001b[0m\u001b[0mtry_node\u001b[0m\u001b[0;34m)\u001b[0m\u001b[0;34m\u001b[0m\u001b[0;34m\u001b[0m\u001b[0m\n\u001b[1;32m    900\u001b[0m             \u001b[0mconn\u001b[0m \u001b[0;34m=\u001b[0m \u001b[0mself\u001b[0m\u001b[0;34m.\u001b[0m\u001b[0m_conns\u001b[0m\u001b[0;34m[\u001b[0m\u001b[0mtry_node\u001b[0m\u001b[0;34m]\u001b[0m\u001b[0;34m\u001b[0m\u001b[0;34m\u001b[0m\u001b[0m\n",
            "\u001b[0;31mNoBrokersAvailable\u001b[0m: NoBrokersAvailable"
          ]
        }
      ]
    },
    {
      "cell_type": "code",
      "metadata": {
        "id": "bvjQZiHv8w4k",
        "colab_type": "code",
        "colab": {}
      },
      "source": [
        "topic_name = 'magnaPlcTagData'\n",
        "consumer = KafkaConsumer(topic_name, auto_offset_reset='earliest', \n",
        "                         bootstrap_servers=['10.0.1.96:9092'], api_version=(0, 10), consumer_timeout_ms=1000000)\n",
        "for msg in consumer:\n",
        "  print(msg)"
      ],
      "execution_count": null,
      "outputs": []
    },
    {
      "cell_type": "code",
      "metadata": {
        "id": "h01yCZRri4jq",
        "colab_type": "code",
        "colab": {
          "base_uri": "https://localhost:8080/",
          "height": 374
        },
        "outputId": "571295e9-bcfa-45bf-c7fa-04cb72d1d4ba"
      },
      "source": [
        "from kafka import KafkaProducer\n",
        "producer = KafkaProducer(bootstrap_servers='10.0.1.96:9092')\n",
        "producer.send('sample', b'Hello, World!')\n",
        "producer.send('sample', key=b'message-two', value=b'This is Kafka-Python')\n",
        "\n",
        "from kafka import KafkaConsumer\n",
        "consumer = KafkaConsumer('sample')\n",
        "for message in consumer:\n",
        "    print (message)"
      ],
      "execution_count": null,
      "outputs": [
        {
          "output_type": "error",
          "ename": "NoBrokersAvailable",
          "evalue": "ignored",
          "traceback": [
            "\u001b[0;31m---------------------------------------------------------------------------\u001b[0m",
            "\u001b[0;31mNoBrokersAvailable\u001b[0m                        Traceback (most recent call last)",
            "\u001b[0;32m<ipython-input-16-4f4004ab5fd7>\u001b[0m in \u001b[0;36m<module>\u001b[0;34m()\u001b[0m\n\u001b[1;32m      1\u001b[0m \u001b[0;32mfrom\u001b[0m \u001b[0mkafka\u001b[0m \u001b[0;32mimport\u001b[0m \u001b[0mKafkaProducer\u001b[0m\u001b[0;34m\u001b[0m\u001b[0;34m\u001b[0m\u001b[0m\n\u001b[0;32m----> 2\u001b[0;31m \u001b[0mproducer\u001b[0m \u001b[0;34m=\u001b[0m \u001b[0mKafkaProducer\u001b[0m\u001b[0;34m(\u001b[0m\u001b[0mbootstrap_servers\u001b[0m\u001b[0;34m=\u001b[0m\u001b[0;34m'10.0.1.96:9092'\u001b[0m\u001b[0;34m)\u001b[0m\u001b[0;34m\u001b[0m\u001b[0;34m\u001b[0m\u001b[0m\n\u001b[0m\u001b[1;32m      3\u001b[0m \u001b[0mproducer\u001b[0m\u001b[0;34m.\u001b[0m\u001b[0msend\u001b[0m\u001b[0;34m(\u001b[0m\u001b[0;34m'sample'\u001b[0m\u001b[0;34m,\u001b[0m \u001b[0;34mb'Hello, World!'\u001b[0m\u001b[0;34m)\u001b[0m\u001b[0;34m\u001b[0m\u001b[0;34m\u001b[0m\u001b[0m\n\u001b[1;32m      4\u001b[0m \u001b[0mproducer\u001b[0m\u001b[0;34m.\u001b[0m\u001b[0msend\u001b[0m\u001b[0;34m(\u001b[0m\u001b[0;34m'sample'\u001b[0m\u001b[0;34m,\u001b[0m \u001b[0mkey\u001b[0m\u001b[0;34m=\u001b[0m\u001b[0;34mb'message-two'\u001b[0m\u001b[0;34m,\u001b[0m \u001b[0mvalue\u001b[0m\u001b[0;34m=\u001b[0m\u001b[0;34mb'This is Kafka-Python'\u001b[0m\u001b[0;34m)\u001b[0m\u001b[0;34m\u001b[0m\u001b[0;34m\u001b[0m\u001b[0m\n\u001b[1;32m      5\u001b[0m \u001b[0;34m\u001b[0m\u001b[0m\n",
            "\u001b[0;32m/usr/local/lib/python3.6/dist-packages/kafka/producer/kafka.py\u001b[0m in \u001b[0;36m__init__\u001b[0;34m(self, **configs)\u001b[0m\n\u001b[1;32m    380\u001b[0m         client = KafkaClient(metrics=self._metrics, metric_group_prefix='producer',\n\u001b[1;32m    381\u001b[0m                              \u001b[0mwakeup_timeout_ms\u001b[0m\u001b[0;34m=\u001b[0m\u001b[0mself\u001b[0m\u001b[0;34m.\u001b[0m\u001b[0mconfig\u001b[0m\u001b[0;34m[\u001b[0m\u001b[0;34m'max_block_ms'\u001b[0m\u001b[0;34m]\u001b[0m\u001b[0;34m,\u001b[0m\u001b[0;34m\u001b[0m\u001b[0;34m\u001b[0m\u001b[0m\n\u001b[0;32m--> 382\u001b[0;31m                              **self.config)\n\u001b[0m\u001b[1;32m    383\u001b[0m \u001b[0;34m\u001b[0m\u001b[0m\n\u001b[1;32m    384\u001b[0m         \u001b[0;31m# Get auto-discovered version from client if necessary\u001b[0m\u001b[0;34m\u001b[0m\u001b[0;34m\u001b[0m\u001b[0;34m\u001b[0m\u001b[0m\n",
            "\u001b[0;32m/usr/local/lib/python3.6/dist-packages/kafka/client_async.py\u001b[0m in \u001b[0;36m__init__\u001b[0;34m(self, **configs)\u001b[0m\n\u001b[1;32m    240\u001b[0m         \u001b[0;32mif\u001b[0m \u001b[0mself\u001b[0m\u001b[0;34m.\u001b[0m\u001b[0mconfig\u001b[0m\u001b[0;34m[\u001b[0m\u001b[0;34m'api_version'\u001b[0m\u001b[0;34m]\u001b[0m \u001b[0;32mis\u001b[0m \u001b[0;32mNone\u001b[0m\u001b[0;34m:\u001b[0m\u001b[0;34m\u001b[0m\u001b[0;34m\u001b[0m\u001b[0m\n\u001b[1;32m    241\u001b[0m             \u001b[0mcheck_timeout\u001b[0m \u001b[0;34m=\u001b[0m \u001b[0mself\u001b[0m\u001b[0;34m.\u001b[0m\u001b[0mconfig\u001b[0m\u001b[0;34m[\u001b[0m\u001b[0;34m'api_version_auto_timeout_ms'\u001b[0m\u001b[0;34m]\u001b[0m \u001b[0;34m/\u001b[0m \u001b[0;36m1000\u001b[0m\u001b[0;34m\u001b[0m\u001b[0;34m\u001b[0m\u001b[0m\n\u001b[0;32m--> 242\u001b[0;31m             \u001b[0mself\u001b[0m\u001b[0;34m.\u001b[0m\u001b[0mconfig\u001b[0m\u001b[0;34m[\u001b[0m\u001b[0;34m'api_version'\u001b[0m\u001b[0;34m]\u001b[0m \u001b[0;34m=\u001b[0m \u001b[0mself\u001b[0m\u001b[0;34m.\u001b[0m\u001b[0mcheck_version\u001b[0m\u001b[0;34m(\u001b[0m\u001b[0mtimeout\u001b[0m\u001b[0;34m=\u001b[0m\u001b[0mcheck_timeout\u001b[0m\u001b[0;34m)\u001b[0m\u001b[0;34m\u001b[0m\u001b[0;34m\u001b[0m\u001b[0m\n\u001b[0m\u001b[1;32m    243\u001b[0m \u001b[0;34m\u001b[0m\u001b[0m\n\u001b[1;32m    244\u001b[0m     \u001b[0;32mdef\u001b[0m \u001b[0m_can_bootstrap\u001b[0m\u001b[0;34m(\u001b[0m\u001b[0mself\u001b[0m\u001b[0;34m)\u001b[0m\u001b[0;34m:\u001b[0m\u001b[0;34m\u001b[0m\u001b[0;34m\u001b[0m\u001b[0m\n",
            "\u001b[0;32m/usr/local/lib/python3.6/dist-packages/kafka/client_async.py\u001b[0m in \u001b[0;36mcheck_version\u001b[0;34m(self, node_id, timeout, strict)\u001b[0m\n\u001b[1;32m    923\u001b[0m         \u001b[0;32melse\u001b[0m\u001b[0;34m:\u001b[0m\u001b[0;34m\u001b[0m\u001b[0;34m\u001b[0m\u001b[0m\n\u001b[1;32m    924\u001b[0m             \u001b[0mself\u001b[0m\u001b[0;34m.\u001b[0m\u001b[0m_lock\u001b[0m\u001b[0;34m.\u001b[0m\u001b[0mrelease\u001b[0m\u001b[0;34m(\u001b[0m\u001b[0;34m)\u001b[0m\u001b[0;34m\u001b[0m\u001b[0;34m\u001b[0m\u001b[0m\n\u001b[0;32m--> 925\u001b[0;31m             \u001b[0;32mraise\u001b[0m \u001b[0mErrors\u001b[0m\u001b[0;34m.\u001b[0m\u001b[0mNoBrokersAvailable\u001b[0m\u001b[0;34m(\u001b[0m\u001b[0;34m)\u001b[0m\u001b[0;34m\u001b[0m\u001b[0;34m\u001b[0m\u001b[0m\n\u001b[0m\u001b[1;32m    926\u001b[0m \u001b[0;34m\u001b[0m\u001b[0m\n\u001b[1;32m    927\u001b[0m     \u001b[0;32mdef\u001b[0m \u001b[0mwakeup\u001b[0m\u001b[0;34m(\u001b[0m\u001b[0mself\u001b[0m\u001b[0;34m)\u001b[0m\u001b[0;34m:\u001b[0m\u001b[0;34m\u001b[0m\u001b[0;34m\u001b[0m\u001b[0m\n",
            "\u001b[0;31mNoBrokersAvailable\u001b[0m: NoBrokersAvailable"
          ]
        }
      ]
    },
    {
      "cell_type": "code",
      "metadata": {
        "id": "Ux3DycvzU_ok",
        "colab_type": "code",
        "colab": {
          "base_uri": "https://localhost:8080/",
          "height": 35
        },
        "outputId": "3ea3a924-738f-4e50-e919-12d292be603b"
      },
      "source": [
        "if __name__ == '__main__':\n",
        "    print('Running Consumer..')\n",
        "    parsed_records = []\n",
        "    topic_name = 'raw_recipes'\n",
        "    parsed_topic_name = 'parsed_recipes'\n",
        "\n",
        "    consumer = KafkaConsumer(topic_name, auto_offset_reset='earliest',\n",
        "                             bootstrap_servers=['localhost:9092'], api_version=(0, 10), consumer_timeout_ms=1000)\n",
        "    for msg in consumer:\n",
        "        html = msg.value\n",
        "        result = parse(html)\n",
        "        parsed_records.append(result)\n",
        "    consumer.close()\n",
        "    sleep(5)\n",
        "\n",
        "    if len(parsed_records) > 0:\n",
        "        print('Publishing records..')\n",
        "        producer = connect_kafka_producer()\n",
        "        for rec in parsed_records:\n",
        "            publish_message(producer, parsed_topic_name, 'parsed', rec)"
      ],
      "execution_count": null,
      "outputs": [
        {
          "output_type": "stream",
          "text": [
            "Running Consumer..\n"
          ],
          "name": "stdout"
        }
      ]
    },
    {
      "cell_type": "code",
      "metadata": {
        "id": "C73eUXVeVekp",
        "colab_type": "code",
        "colab": {
          "base_uri": "https://localhost:8080/",
          "height": 35
        },
        "outputId": "d88d969f-14b1-4d9a-ea65-12eebedd02e8"
      },
      "source": [
        "#IP: 10.0.1.96\n",
        "#Port: 9092\n",
        "#Topic name: magnaPlcTagData\n",
        "from time import sleep\n",
        "from json import dumps\n",
        "from kafka import KafkaProducer\n",
        "from kafka import KafkaConsumer\n",
        "\n",
        "\n",
        "if __name__ == '__main__':\n",
        "    print('Running Consumer..')\n",
        "    parsed_records = []\n",
        "    topic_name = 'magnaPlcTagData'\n",
        "    parsed_topic_name = 'parsed_recipes'\n",
        "\n",
        "    #consumer = KafkaConsumer(topic_name, auto_offset_reset='earliest', bootstrap_servers=['localhost:9092'], api_version=(0, 10), consumer_timeout_ms=1000)\n",
        "    consumer = KafkaConsumer(topic_name, auto_offset_reset='earliest', bootstrap_servers=['10.0.1.96:9092'], api_version=(0, 10), consumer_timeout_ms=1000)\n",
        "    for msg in consumer:\n",
        "        html = msg.value\n",
        "        result = parse(html)\n",
        "        parsed_records.append(result)\n",
        "    consumer.close()\n",
        "    sleep(5)\n",
        "\n",
        "    if len(parsed_records) > 0:\n",
        "        print('Publishing records..')\n",
        "        producer = connect_kafka_producer()\n",
        "        for rec in parsed_records:\n",
        "            publish_message(producer, parsed_topic_name, 'parsed', rec)"
      ],
      "execution_count": null,
      "outputs": [
        {
          "output_type": "stream",
          "text": [
            "Running Consumer..\n"
          ],
          "name": "stdout"
        }
      ]
    },
    {
      "cell_type": "code",
      "metadata": {
        "id": "fj54oYn_4dk9",
        "colab_type": "code",
        "colab": {}
      },
      "source": [
        "topic_name = 'magnaPlcTagData'\n",
        "consumer = KafkaConsumer(topic_name, auto_offset_reset='earliest', \n",
        "                         bootstrap_servers=['10.0.1.96:9092'], api_version=(0, 10), consumer_timeout_ms=1000)\n",
        "for msg in consumer:\n",
        "  print(msg.key)"
      ],
      "execution_count": null,
      "outputs": []
    },
    {
      "cell_type": "code",
      "metadata": {
        "id": "PAwn8aOSH4Yo",
        "colab_type": "code",
        "colab": {
          "base_uri": "https://localhost:8080/",
          "height": 374
        },
        "outputId": "d913f158-33a4-43ea-ea12-f3a6ed25dd78"
      },
      "source": [
        "from kafka import KafkaConsumer\n",
        "\n",
        "# To consume latest messages and auto-commit offsets\n",
        "consumer = KafkaConsumer('magnaPlcTagData', bootstrap_servers=['10.0.1.96:9092'],api_version=(0, 10, 1))\n",
        "for message in consumer:\n",
        "    # message value and key are raw bytes -- decode if necessary!\n",
        "    # e.g., for unicode: `message.value.decode('utf-8')`\n",
        "    #print (\"%s:%d:%d: key=%s value=%s\" % (message.topic, message.partition,\n",
        "    #                                     message.offset, message.key,\n",
        "    #                                      message.value))\n",
        "    print(msg.key)"
      ],
      "execution_count": null,
      "outputs": [
        {
          "output_type": "error",
          "ename": "KeyboardInterrupt",
          "evalue": "ignored",
          "traceback": [
            "\u001b[0;31m---------------------------------------------------------------------------\u001b[0m",
            "\u001b[0;31mKeyboardInterrupt\u001b[0m                         Traceback (most recent call last)",
            "\u001b[0;32m<ipython-input-17-c84be04f0b17>\u001b[0m in \u001b[0;36m<module>\u001b[0;34m()\u001b[0m\n\u001b[1;32m      3\u001b[0m \u001b[0;31m# To consume latest messages and auto-commit offsets\u001b[0m\u001b[0;34m\u001b[0m\u001b[0;34m\u001b[0m\u001b[0;34m\u001b[0m\u001b[0m\n\u001b[1;32m      4\u001b[0m \u001b[0mconsumer\u001b[0m \u001b[0;34m=\u001b[0m \u001b[0mKafkaConsumer\u001b[0m\u001b[0;34m(\u001b[0m\u001b[0;34m'magnaPlcTagData'\u001b[0m\u001b[0;34m,\u001b[0m \u001b[0mbootstrap_servers\u001b[0m\u001b[0;34m=\u001b[0m\u001b[0;34m[\u001b[0m\u001b[0;34m'10.0.1.96:9092'\u001b[0m\u001b[0;34m]\u001b[0m\u001b[0;34m,\u001b[0m\u001b[0mapi_version\u001b[0m\u001b[0;34m=\u001b[0m\u001b[0;34m(\u001b[0m\u001b[0;36m0\u001b[0m\u001b[0;34m,\u001b[0m \u001b[0;36m10\u001b[0m\u001b[0;34m,\u001b[0m \u001b[0;36m1\u001b[0m\u001b[0;34m)\u001b[0m\u001b[0;34m)\u001b[0m\u001b[0;34m\u001b[0m\u001b[0;34m\u001b[0m\u001b[0m\n\u001b[0;32m----> 5\u001b[0;31m \u001b[0;32mfor\u001b[0m \u001b[0mmessage\u001b[0m \u001b[0;32min\u001b[0m \u001b[0mconsumer\u001b[0m\u001b[0;34m:\u001b[0m\u001b[0;34m\u001b[0m\u001b[0;34m\u001b[0m\u001b[0m\n\u001b[0m\u001b[1;32m      6\u001b[0m     \u001b[0;31m# message value and key are raw bytes -- decode if necessary!\u001b[0m\u001b[0;34m\u001b[0m\u001b[0;34m\u001b[0m\u001b[0;34m\u001b[0m\u001b[0m\n\u001b[1;32m      7\u001b[0m     \u001b[0;31m# e.g., for unicode: `message.value.decode('utf-8')`\u001b[0m\u001b[0;34m\u001b[0m\u001b[0;34m\u001b[0m\u001b[0;34m\u001b[0m\u001b[0m\n",
            "\u001b[0;32m/usr/local/lib/python3.6/dist-packages/kafka/consumer/group.py\u001b[0m in \u001b[0;36m__next__\u001b[0;34m(self)\u001b[0m\n\u001b[1;32m   1190\u001b[0m             \u001b[0;32mreturn\u001b[0m \u001b[0mself\u001b[0m\u001b[0;34m.\u001b[0m\u001b[0mnext_v1\u001b[0m\u001b[0;34m(\u001b[0m\u001b[0;34m)\u001b[0m\u001b[0;34m\u001b[0m\u001b[0;34m\u001b[0m\u001b[0m\n\u001b[1;32m   1191\u001b[0m         \u001b[0;32melse\u001b[0m\u001b[0;34m:\u001b[0m\u001b[0;34m\u001b[0m\u001b[0;34m\u001b[0m\u001b[0m\n\u001b[0;32m-> 1192\u001b[0;31m             \u001b[0;32mreturn\u001b[0m \u001b[0mself\u001b[0m\u001b[0;34m.\u001b[0m\u001b[0mnext_v2\u001b[0m\u001b[0;34m(\u001b[0m\u001b[0;34m)\u001b[0m\u001b[0;34m\u001b[0m\u001b[0;34m\u001b[0m\u001b[0m\n\u001b[0m\u001b[1;32m   1193\u001b[0m \u001b[0;34m\u001b[0m\u001b[0m\n\u001b[1;32m   1194\u001b[0m     \u001b[0;32mdef\u001b[0m \u001b[0mnext_v2\u001b[0m\u001b[0;34m(\u001b[0m\u001b[0mself\u001b[0m\u001b[0;34m)\u001b[0m\u001b[0;34m:\u001b[0m\u001b[0;34m\u001b[0m\u001b[0;34m\u001b[0m\u001b[0m\n",
            "\u001b[0;32m/usr/local/lib/python3.6/dist-packages/kafka/consumer/group.py\u001b[0m in \u001b[0;36mnext_v2\u001b[0;34m(self)\u001b[0m\n\u001b[1;32m   1198\u001b[0m                 \u001b[0mself\u001b[0m\u001b[0;34m.\u001b[0m\u001b[0m_iterator\u001b[0m \u001b[0;34m=\u001b[0m \u001b[0mself\u001b[0m\u001b[0;34m.\u001b[0m\u001b[0m_message_generator_v2\u001b[0m\u001b[0;34m(\u001b[0m\u001b[0;34m)\u001b[0m\u001b[0;34m\u001b[0m\u001b[0;34m\u001b[0m\u001b[0m\n\u001b[1;32m   1199\u001b[0m             \u001b[0;32mtry\u001b[0m\u001b[0;34m:\u001b[0m\u001b[0;34m\u001b[0m\u001b[0;34m\u001b[0m\u001b[0m\n\u001b[0;32m-> 1200\u001b[0;31m                 \u001b[0;32mreturn\u001b[0m \u001b[0mnext\u001b[0m\u001b[0;34m(\u001b[0m\u001b[0mself\u001b[0m\u001b[0;34m.\u001b[0m\u001b[0m_iterator\u001b[0m\u001b[0;34m)\u001b[0m\u001b[0;34m\u001b[0m\u001b[0;34m\u001b[0m\u001b[0m\n\u001b[0m\u001b[1;32m   1201\u001b[0m             \u001b[0;32mexcept\u001b[0m \u001b[0mStopIteration\u001b[0m\u001b[0;34m:\u001b[0m\u001b[0;34m\u001b[0m\u001b[0;34m\u001b[0m\u001b[0m\n\u001b[1;32m   1202\u001b[0m                 \u001b[0mself\u001b[0m\u001b[0;34m.\u001b[0m\u001b[0m_iterator\u001b[0m \u001b[0;34m=\u001b[0m \u001b[0;32mNone\u001b[0m\u001b[0;34m\u001b[0m\u001b[0;34m\u001b[0m\u001b[0m\n",
            "\u001b[0;32m/usr/local/lib/python3.6/dist-packages/kafka/consumer/group.py\u001b[0m in \u001b[0;36m_message_generator_v2\u001b[0;34m(self)\u001b[0m\n\u001b[1;32m   1113\u001b[0m     \u001b[0;32mdef\u001b[0m \u001b[0m_message_generator_v2\u001b[0m\u001b[0;34m(\u001b[0m\u001b[0mself\u001b[0m\u001b[0;34m)\u001b[0m\u001b[0;34m:\u001b[0m\u001b[0;34m\u001b[0m\u001b[0;34m\u001b[0m\u001b[0m\n\u001b[1;32m   1114\u001b[0m         \u001b[0mtimeout_ms\u001b[0m \u001b[0;34m=\u001b[0m \u001b[0;36m1000\u001b[0m \u001b[0;34m*\u001b[0m \u001b[0;34m(\u001b[0m\u001b[0mself\u001b[0m\u001b[0;34m.\u001b[0m\u001b[0m_consumer_timeout\u001b[0m \u001b[0;34m-\u001b[0m \u001b[0mtime\u001b[0m\u001b[0;34m.\u001b[0m\u001b[0mtime\u001b[0m\u001b[0;34m(\u001b[0m\u001b[0;34m)\u001b[0m\u001b[0;34m)\u001b[0m\u001b[0;34m\u001b[0m\u001b[0;34m\u001b[0m\u001b[0m\n\u001b[0;32m-> 1115\u001b[0;31m         \u001b[0mrecord_map\u001b[0m \u001b[0;34m=\u001b[0m \u001b[0mself\u001b[0m\u001b[0;34m.\u001b[0m\u001b[0mpoll\u001b[0m\u001b[0;34m(\u001b[0m\u001b[0mtimeout_ms\u001b[0m\u001b[0;34m=\u001b[0m\u001b[0mtimeout_ms\u001b[0m\u001b[0;34m,\u001b[0m \u001b[0mupdate_offsets\u001b[0m\u001b[0;34m=\u001b[0m\u001b[0;32mFalse\u001b[0m\u001b[0;34m)\u001b[0m\u001b[0;34m\u001b[0m\u001b[0;34m\u001b[0m\u001b[0m\n\u001b[0m\u001b[1;32m   1116\u001b[0m         \u001b[0;32mfor\u001b[0m \u001b[0mtp\u001b[0m\u001b[0;34m,\u001b[0m \u001b[0mrecords\u001b[0m \u001b[0;32min\u001b[0m \u001b[0msix\u001b[0m\u001b[0;34m.\u001b[0m\u001b[0miteritems\u001b[0m\u001b[0;34m(\u001b[0m\u001b[0mrecord_map\u001b[0m\u001b[0;34m)\u001b[0m\u001b[0;34m:\u001b[0m\u001b[0;34m\u001b[0m\u001b[0;34m\u001b[0m\u001b[0m\n\u001b[1;32m   1117\u001b[0m             \u001b[0;31m# Generators are stateful, and it is possible that the tp / records\u001b[0m\u001b[0;34m\u001b[0m\u001b[0;34m\u001b[0m\u001b[0;34m\u001b[0m\u001b[0m\n",
            "\u001b[0;32m/usr/local/lib/python3.6/dist-packages/kafka/consumer/group.py\u001b[0m in \u001b[0;36mpoll\u001b[0;34m(self, timeout_ms, max_records, update_offsets)\u001b[0m\n\u001b[1;32m    652\u001b[0m         \u001b[0mremaining\u001b[0m \u001b[0;34m=\u001b[0m \u001b[0mtimeout_ms\u001b[0m\u001b[0;34m\u001b[0m\u001b[0;34m\u001b[0m\u001b[0m\n\u001b[1;32m    653\u001b[0m         \u001b[0;32mwhile\u001b[0m \u001b[0;32mTrue\u001b[0m\u001b[0;34m:\u001b[0m\u001b[0;34m\u001b[0m\u001b[0;34m\u001b[0m\u001b[0m\n\u001b[0;32m--> 654\u001b[0;31m             \u001b[0mrecords\u001b[0m \u001b[0;34m=\u001b[0m \u001b[0mself\u001b[0m\u001b[0;34m.\u001b[0m\u001b[0m_poll_once\u001b[0m\u001b[0;34m(\u001b[0m\u001b[0mremaining\u001b[0m\u001b[0;34m,\u001b[0m \u001b[0mmax_records\u001b[0m\u001b[0;34m,\u001b[0m \u001b[0mupdate_offsets\u001b[0m\u001b[0;34m=\u001b[0m\u001b[0mupdate_offsets\u001b[0m\u001b[0;34m)\u001b[0m\u001b[0;34m\u001b[0m\u001b[0;34m\u001b[0m\u001b[0m\n\u001b[0m\u001b[1;32m    655\u001b[0m             \u001b[0;32mif\u001b[0m \u001b[0mrecords\u001b[0m\u001b[0;34m:\u001b[0m\u001b[0;34m\u001b[0m\u001b[0;34m\u001b[0m\u001b[0m\n\u001b[1;32m    656\u001b[0m                 \u001b[0;32mreturn\u001b[0m \u001b[0mrecords\u001b[0m\u001b[0;34m\u001b[0m\u001b[0;34m\u001b[0m\u001b[0m\n",
            "\u001b[0;32m/usr/local/lib/python3.6/dist-packages/kafka/consumer/group.py\u001b[0m in \u001b[0;36m_poll_once\u001b[0;34m(self, timeout_ms, max_records, update_offsets)\u001b[0m\n\u001b[1;32m    699\u001b[0m \u001b[0;34m\u001b[0m\u001b[0m\n\u001b[1;32m    700\u001b[0m         \u001b[0mtimeout_ms\u001b[0m \u001b[0;34m=\u001b[0m \u001b[0mmin\u001b[0m\u001b[0;34m(\u001b[0m\u001b[0mtimeout_ms\u001b[0m\u001b[0;34m,\u001b[0m \u001b[0mself\u001b[0m\u001b[0;34m.\u001b[0m\u001b[0m_coordinator\u001b[0m\u001b[0;34m.\u001b[0m\u001b[0mtime_to_next_poll\u001b[0m\u001b[0;34m(\u001b[0m\u001b[0;34m)\u001b[0m \u001b[0;34m*\u001b[0m \u001b[0;36m1000\u001b[0m\u001b[0;34m)\u001b[0m\u001b[0;34m\u001b[0m\u001b[0;34m\u001b[0m\u001b[0m\n\u001b[0;32m--> 701\u001b[0;31m         \u001b[0mself\u001b[0m\u001b[0;34m.\u001b[0m\u001b[0m_client\u001b[0m\u001b[0;34m.\u001b[0m\u001b[0mpoll\u001b[0m\u001b[0;34m(\u001b[0m\u001b[0mtimeout_ms\u001b[0m\u001b[0;34m=\u001b[0m\u001b[0mtimeout_ms\u001b[0m\u001b[0;34m)\u001b[0m\u001b[0;34m\u001b[0m\u001b[0;34m\u001b[0m\u001b[0m\n\u001b[0m\u001b[1;32m    702\u001b[0m         \u001b[0;31m# after the long poll, we should check whether the group needs to rebalance\u001b[0m\u001b[0;34m\u001b[0m\u001b[0;34m\u001b[0m\u001b[0;34m\u001b[0m\u001b[0m\n\u001b[1;32m    703\u001b[0m         \u001b[0;31m# prior to returning data so that the group can stabilize faster\u001b[0m\u001b[0;34m\u001b[0m\u001b[0;34m\u001b[0m\u001b[0;34m\u001b[0m\u001b[0m\n",
            "\u001b[0;32m/usr/local/lib/python3.6/dist-packages/kafka/client_async.py\u001b[0m in \u001b[0;36mpoll\u001b[0;34m(self, timeout_ms, future)\u001b[0m\n\u001b[1;32m    598\u001b[0m                     \u001b[0mtimeout\u001b[0m \u001b[0;34m=\u001b[0m \u001b[0mmax\u001b[0m\u001b[0;34m(\u001b[0m\u001b[0;36m0\u001b[0m\u001b[0;34m,\u001b[0m \u001b[0mtimeout\u001b[0m\u001b[0;34m)\u001b[0m  \u001b[0;31m# avoid negative timeouts\u001b[0m\u001b[0;34m\u001b[0m\u001b[0;34m\u001b[0m\u001b[0m\n\u001b[1;32m    599\u001b[0m \u001b[0;34m\u001b[0m\u001b[0m\n\u001b[0;32m--> 600\u001b[0;31m                 \u001b[0mself\u001b[0m\u001b[0;34m.\u001b[0m\u001b[0m_poll\u001b[0m\u001b[0;34m(\u001b[0m\u001b[0mtimeout\u001b[0m \u001b[0;34m/\u001b[0m \u001b[0;36m1000\u001b[0m\u001b[0;34m)\u001b[0m\u001b[0;34m\u001b[0m\u001b[0;34m\u001b[0m\u001b[0m\n\u001b[0m\u001b[1;32m    601\u001b[0m \u001b[0;34m\u001b[0m\u001b[0m\n\u001b[1;32m    602\u001b[0m             \u001b[0;31m# called without the lock to avoid deadlock potential\u001b[0m\u001b[0;34m\u001b[0m\u001b[0;34m\u001b[0m\u001b[0;34m\u001b[0m\u001b[0m\n",
            "\u001b[0;32m/usr/local/lib/python3.6/dist-packages/kafka/client_async.py\u001b[0m in \u001b[0;36m_poll\u001b[0;34m(self, timeout)\u001b[0m\n\u001b[1;32m    630\u001b[0m \u001b[0;34m\u001b[0m\u001b[0m\n\u001b[1;32m    631\u001b[0m         \u001b[0mstart_select\u001b[0m \u001b[0;34m=\u001b[0m \u001b[0mtime\u001b[0m\u001b[0;34m.\u001b[0m\u001b[0mtime\u001b[0m\u001b[0;34m(\u001b[0m\u001b[0;34m)\u001b[0m\u001b[0;34m\u001b[0m\u001b[0;34m\u001b[0m\u001b[0m\n\u001b[0;32m--> 632\u001b[0;31m         \u001b[0mready\u001b[0m \u001b[0;34m=\u001b[0m \u001b[0mself\u001b[0m\u001b[0;34m.\u001b[0m\u001b[0m_selector\u001b[0m\u001b[0;34m.\u001b[0m\u001b[0mselect\u001b[0m\u001b[0;34m(\u001b[0m\u001b[0mtimeout\u001b[0m\u001b[0;34m)\u001b[0m\u001b[0;34m\u001b[0m\u001b[0;34m\u001b[0m\u001b[0m\n\u001b[0m\u001b[1;32m    633\u001b[0m         \u001b[0mend_select\u001b[0m \u001b[0;34m=\u001b[0m \u001b[0mtime\u001b[0m\u001b[0;34m.\u001b[0m\u001b[0mtime\u001b[0m\u001b[0;34m(\u001b[0m\u001b[0;34m)\u001b[0m\u001b[0;34m\u001b[0m\u001b[0;34m\u001b[0m\u001b[0m\n\u001b[1;32m    634\u001b[0m         \u001b[0;32mif\u001b[0m \u001b[0mself\u001b[0m\u001b[0;34m.\u001b[0m\u001b[0m_sensors\u001b[0m\u001b[0;34m:\u001b[0m\u001b[0;34m\u001b[0m\u001b[0;34m\u001b[0m\u001b[0m\n",
            "\u001b[0;32m/usr/lib/python3.6/selectors.py\u001b[0m in \u001b[0;36mselect\u001b[0;34m(self, timeout)\u001b[0m\n\u001b[1;32m    443\u001b[0m             \u001b[0mready\u001b[0m \u001b[0;34m=\u001b[0m \u001b[0;34m[\u001b[0m\u001b[0;34m]\u001b[0m\u001b[0;34m\u001b[0m\u001b[0;34m\u001b[0m\u001b[0m\n\u001b[1;32m    444\u001b[0m             \u001b[0;32mtry\u001b[0m\u001b[0;34m:\u001b[0m\u001b[0;34m\u001b[0m\u001b[0;34m\u001b[0m\u001b[0m\n\u001b[0;32m--> 445\u001b[0;31m                 \u001b[0mfd_event_list\u001b[0m \u001b[0;34m=\u001b[0m \u001b[0mself\u001b[0m\u001b[0;34m.\u001b[0m\u001b[0m_epoll\u001b[0m\u001b[0;34m.\u001b[0m\u001b[0mpoll\u001b[0m\u001b[0;34m(\u001b[0m\u001b[0mtimeout\u001b[0m\u001b[0;34m,\u001b[0m \u001b[0mmax_ev\u001b[0m\u001b[0;34m)\u001b[0m\u001b[0;34m\u001b[0m\u001b[0;34m\u001b[0m\u001b[0m\n\u001b[0m\u001b[1;32m    446\u001b[0m             \u001b[0;32mexcept\u001b[0m \u001b[0mInterruptedError\u001b[0m\u001b[0;34m:\u001b[0m\u001b[0;34m\u001b[0m\u001b[0;34m\u001b[0m\u001b[0m\n\u001b[1;32m    447\u001b[0m                 \u001b[0;32mreturn\u001b[0m \u001b[0mready\u001b[0m\u001b[0;34m\u001b[0m\u001b[0;34m\u001b[0m\u001b[0m\n",
            "\u001b[0;31mKeyboardInterrupt\u001b[0m: "
          ]
        }
      ]
    },
    {
      "cell_type": "code",
      "metadata": {
        "id": "bAs14lXEF4UR",
        "colab_type": "code",
        "colab": {}
      },
      "source": [
        "#pycharm code\n",
        "#import kafka\n",
        "from kafka import KafkaConsumer\n",
        "import pandas\n",
        "topic_name = 'magnaPlcTagData'\n",
        "consumer = KafkaConsumer(topic_name, auto_offset_reset='earliest',\n",
        "                         bootstrap_servers=['10.0.1.96:9092'], api_version=(0, 10), consumer_timeout_ms=10)\n",
        "\n",
        "#consumer = KafkaConsumer(topic_name, bootstrap_servers=['10.0.1.96:9092'])\n",
        "for msg in consumer:\n",
        "  print(msg)"
      ],
      "execution_count": null,
      "outputs": []
    },
    {
      "cell_type": "markdown",
      "metadata": {
        "id": "rtJvdkqEYwUZ",
        "colab_type": "text"
      },
      "source": [
        "# communication_module"
      ]
    },
    {
      "cell_type": "code",
      "metadata": {
        "id": "J4Y8-fWMTJSo",
        "colab_type": "code",
        "colab": {}
      },
      "source": [
        "#Mqtt pulls from redis keys\n",
        "\n",
        "#!pip3 install paho-mqtt\n",
        "import paho.mqtt.client as mqtt #import the client1\n",
        "broker_address=\"localhost\"#\"192.168.1.184\" \n",
        "#broker_address=\"iot.eclipse.org\" #use external broker\n",
        "client = mqtt.Client(\"P1\") #create new instance\n",
        "client.connect(broker_address) #connect to broker\n",
        "client.publish(\"house/main-light\",\"OFF\")#publish"
      ],
      "execution_count": null,
      "outputs": []
    },
    {
      "cell_type": "code",
      "metadata": {
        "id": "GXN8IWLdaakK",
        "colab_type": "code",
        "colab": {}
      },
      "source": [
        "import requests\n",
        "\n",
        "#url = \"https://plc-iot.c2m.net/api/v1/data/process\"\n",
        "#url = \"https://nam04.safelinks.protection.outlook.com/?url=https%3A%2F%2Fhelio-ent.c2m.net%2Flogin.aspx&data=02%7C01%7Cayeshas%40okstate.edu%7Ce33dcfb71016446bad6608d7f6b3bb95%7C2a69c91de8494e34a230cdf8b27e1964%7C0%7C1%7C637249124117860660&sdata=%2F6sf3qNRTsDbmWgWdUDKsS%2FrOy6vJ%2FiHgA1ocMWNMbo%3D&reserved=0\"\n",
        "#url = \"https://helio-ent-ice.c2m.net/Ice.svc/GetData?apikey=CSWQpToX4KLCwODDd3QCmBzak8/DYJ&feedID=XipmK93J5vGOb8hvZ/S8rge856C/TG6ovA7DCelU@/Y=&parameterType=LISTDATA\"\n",
        "url = \"https://helio-ent-ice.c2m.net/Ice.svc/GetData?apikey=CSWQpToX4KLCwODDd3QCmBzak8/DYJ&feedID=XipmK93J5vGOb8hvZ/S8rge856C/TG6ovA7DCelU@/Y=&parameterType=LISTDATA\"\n",
        "#headers = {\"Authorization\": \"CSWQpToX4KLCwODDd3QCmBzak8/DYJ\" }\n",
        "response = requests.get(url)#,headers=headers)\n",
        "print(response.text)\n"
      ],
      "execution_count": null,
      "outputs": []
    },
    {
      "cell_type": "markdown",
      "metadata": {
        "id": "FcBlVOwJpodq",
        "colab_type": "text"
      },
      "source": [
        "# Standard API format to request data from helio server"
      ]
    },
    {
      "cell_type": "code",
      "metadata": {
        "id": "Lfm23DWXpxJZ",
        "colab_type": "code",
        "colab": {}
      },
      "source": [
        "import requests\n",
        "token_string = \"\"\n",
        "url=\"\"\n",
        "headers= {\"Authorization\": token_string}\n",
        "response=requests.get(url,headers=headers)"
      ],
      "execution_count": null,
      "outputs": []
    },
    {
      "cell_type": "markdown",
      "metadata": {
        "id": "AamsxSGOdTUl",
        "colab_type": "text"
      },
      "source": [
        "# Requesting data from PLC feed of helio server\n",
        "\n",
        "feedID= XipmK93J5vGOb8hvZ/S8rge856C/TG6ovA7DCelU@/Y=<br>\n",
        "Given Feed ID: iGfXcckbZrSCd8G4xjek1TV9t@ZbzdAP4lU0/bUeyQQ= "
      ]
    },
    {
      "cell_type": "code",
      "metadata": {
        "id": "gw15xu97b4DE",
        "colab_type": "code",
        "colab": {}
      },
      "source": [
        "import requests\n",
        "url = \"https://helio-ent-ice.c2m.net/Ice.svc/GetData?apikey=CSWQpToX4KLCwODDd3QCmBzak8/DYJ&feedID=XipmK93J5vGOb8hvZ/S8rge856C/TG6ovA7DCelU@/Y=&parameterType=LISTDATA\"\n",
        "\n",
        "#url=\"https://helio-ent-ice.c2m.net/Ice.svc/GetData?apikey=CSWQpToX4KLCwODDd3QCmBzak8/DYJ&feedID=iGfXcckbZrSCd8G4xjek1TV9t@ZbzdAP4lU0/bUeyQQ=&parameterType=LISTDATA\"\n",
        "#headers = {\"Authorization\": \"CSWQpToX4KLCwODDd3QCmBzak8/DYJ\" }\n",
        "response = requests.get(url)#,headers=headers)\n",
        "print(response.text)\n"
      ],
      "execution_count": null,
      "outputs": []
    },
    {
      "cell_type": "markdown",
      "metadata": {
        "id": "7ywtfS5-dqTA",
        "colab_type": "text"
      },
      "source": [
        "# Print XML plc tags as string"
      ]
    },
    {
      "cell_type": "code",
      "metadata": {
        "id": "Wfa1XLJv0BmQ",
        "colab_type": "code",
        "colab": {}
      },
      "source": [
        "import xml.etree.ElementTree as ET\n",
        "\n",
        "response_text=ET.fromstring(response.text)#prints wordpad with xd \n",
        "response_xmlstr = ET.tostring(response_text, encoding='utf8', method='xml')#prints 1 line but has all the info\n",
        "xml_str = response_xmlstr.decode()#prints wordpad without xd\n",
        "\n",
        "#print(type(response_text))#<class 'xml.etree.ElementTree.Element'>\n",
        "#print(type(response_xmlstr))# <class 'bytes'>\n",
        "#print(type(xml_str))# <class 'str'>\n",
        "print(xml_str)# <class 'str'>\n"
      ],
      "execution_count": null,
      "outputs": []
    },
    {
      "cell_type": "markdown",
      "metadata": {
        "id": "2YHKShrhcquf",
        "colab_type": "text"
      },
      "source": [
        "# Traversing the xml tree of plc tags"
      ]
    },
    {
      "cell_type": "code",
      "metadata": {
        "id": "78dtXOppBVQL",
        "colab_type": "code",
        "colab": {
          "base_uri": "https://localhost:8080/",
          "height": 615
        },
        "outputId": "70aadf54-b8e6-4a70-ee46-db8c2497d0b3"
      },
      "source": [
        "for node in response_text.iter():\n",
        "  print (node.tag, node.attrib, node.text)\n",
        "  #print(node)#Elements, such as <Element 'root.EquipmentID' at 0x7f05be878868>, <Element 'root.TagDateTime' at 0x7f05be878598>,<Element 'Table1' at 0x7f05be8785e8>\n",
        "  #print(node.text)\n",
        "  #if node.text=='RW43.PLC01.Zone1.ST045.Equip018.CycleTime':\n",
        "    #print(node.tag)"
      ],
      "execution_count": null,
      "outputs": [
        {
          "output_type": "stream",
          "text": [
            "root {} None\n",
            "response {'status': 'SUCCESS', 'startrecord': '0', 'fetchedrecords': '3', 'totalrecords': '3'} None\n",
            "NewDataSet {} \r\n",
            "  \n",
            "Table1 {} \r\n",
            "    \n",
            "c2mdatetime {} 2020-06-17T20:14:10.658Z\n",
            "root.TagID {} RUD\n",
            "root.TagValue {} 151\n",
            "root.LaneID {} RW44\n",
            "root.ZoneID {} Zone09\n",
            "root.StationID {} None\n",
            "root.EquipmentID {} None\n",
            "root.TagDateTime {} 2020-06-17T19:41:59.188Z\n",
            "Table1 {} \r\n",
            "    \n",
            "c2mdatetime {} 2020-06-17T20:11:59.820Z\n",
            "root.TagID {} RUD\n",
            "root.TagValue {} 168451\n",
            "root.LaneID {} RW44\n",
            "root.ZoneID {} Zone09\n",
            "root.StationID {} None\n",
            "root.EquipmentID {} None\n",
            "root.TagDateTime {} 2020-06-17T19:41:59.188Z\n",
            "Table1 {} \r\n",
            "    \n",
            "c2mdatetime {} 2020-06-17T20:10:37.129Z\n",
            "root.TagID {} RUD\n",
            "root.TagValue {} 16831\n",
            "root.LaneID {} RW44\n",
            "root.ZoneID {} Zone09\n",
            "root.StationID {} None\n",
            "root.EquipmentID {} None\n",
            "root.TagDateTime {} 2020-06-17T19:41:59.188Z\n"
          ],
          "name": "stdout"
        }
      ]
    },
    {
      "cell_type": "code",
      "metadata": {
        "id": "xag_DDoc6DOH",
        "colab_type": "code",
        "colab": {
          "base_uri": "https://localhost:8080/",
          "height": 170
        },
        "outputId": "b7796a94-ff9b-47c7-e67e-4e5f094964fd"
      },
      "source": [
        "#install and import redis\n",
        "!pip install redis\n",
        "!pip install t_log\n",
        "import redis"
      ],
      "execution_count": null,
      "outputs": [
        {
          "output_type": "stream",
          "text": [
            "Collecting redis\n",
            "\u001b[?25l  Downloading https://files.pythonhosted.org/packages/a7/7c/24fb0511df653cf1a5d938d8f5d19802a88cef255706fdda242ff97e91b7/redis-3.5.3-py2.py3-none-any.whl (72kB)\n",
            "\r\u001b[K     |████▌                           | 10kB 18.9MB/s eta 0:00:01\r\u001b[K     |█████████                       | 20kB 1.6MB/s eta 0:00:01\r\u001b[K     |█████████████▋                  | 30kB 1.9MB/s eta 0:00:01\r\u001b[K     |██████████████████▏             | 40kB 2.1MB/s eta 0:00:01\r\u001b[K     |██████████████████████▊         | 51kB 2.0MB/s eta 0:00:01\r\u001b[K     |███████████████████████████▎    | 61kB 2.2MB/s eta 0:00:01\r\u001b[K     |███████████████████████████████▉| 71kB 2.4MB/s eta 0:00:01\r\u001b[K     |████████████████████████████████| 81kB 2.3MB/s \n",
            "\u001b[?25hInstalling collected packages: redis\n",
            "Successfully installed redis-3.5.3\n",
            "Collecting t_log\n",
            "  Downloading https://files.pythonhosted.org/packages/f1/fe/8012ead6de6c657ac75a6e354cafca45e57f76e852f3e2d98022ae9c0709/t_log-0.52-py3-none-any.whl\n",
            "Installing collected packages: t-log\n",
            "Successfully installed t-log-0.52\n"
          ],
          "name": "stdout"
        }
      ]
    },
    {
      "cell_type": "code",
      "metadata": {
        "id": "NNbLM7V96syw",
        "colab_type": "code",
        "colab": {}
      },
      "source": [
        "#how to setup connection with redis, where do I get password?\n",
        "# https://opensource.com/article/18/4/how-build-hello-redis-with-python\n",
        "#next task would be write to redis\n",
        "#then next task would be read back from redis by reconnecting\n",
        "import redis\n",
        "\n",
        "redis_host = \"localhost\"\n",
        "redis_port = 6379\n",
        "redis_password = \"\"\n",
        "'''\n",
        "r = pyredis.Redis(host='localhost', port=redis_port, password=redis_password)\n",
        "r.set(\"msg:hello\", \"Hello Redis!!!\")\n",
        "msg = r.get(\"msg:hello\")\n",
        "print(msg)\n",
        "#'''\n",
        "\n",
        "res = redis.Redis(host='47.99.94.49', port=6379, db=0)\n",
        "res.set(\"name\",\"Ayesha\")\n",
        "print(res.get('name'))\n"
      ],
      "execution_count": null,
      "outputs": []
    },
    {
      "cell_type": "code",
      "metadata": {
        "id": "m8ViK87qw26h",
        "colab_type": "code",
        "colab": {
          "base_uri": "https://localhost:8080/",
          "height": 119
        },
        "outputId": "ef69986a-7131-40c2-9e49-eb05197a572f"
      },
      "source": [
        "!pip install redis-server\n",
        "!redis-cli"
      ],
      "execution_count": null,
      "outputs": [
        {
          "output_type": "stream",
          "text": [
            "Collecting redis-server\n",
            "\u001b[?25l  Downloading https://files.pythonhosted.org/packages/b1/89/749c62d6e73a3f8fb688a9548db4e769445ba4060c76c7caca03a9d5024e/redis_server-5.0.7-202003071030-cp36-cp36m-manylinux2010_x86_64.whl (5.1MB)\n",
            "\u001b[K     |████████████████████████████████| 5.1MB 2.9MB/s \n",
            "\u001b[?25hInstalling collected packages: redis-server\n",
            "Successfully installed redis-server-5.0.7\n",
            "/bin/bash: redis-cli: command not found\n"
          ],
          "name": "stdout"
        }
      ]
    },
    {
      "cell_type": "code",
      "metadata": {
        "id": "I2asU99NheFV",
        "colab_type": "code",
        "colab": {
          "base_uri": "https://localhost:8080/",
          "height": 102
        },
        "outputId": "8c586a30-7d6d-4be2-923d-0f09ad04a559"
      },
      "source": [
        "!pip install redis"
      ],
      "execution_count": null,
      "outputs": [
        {
          "output_type": "stream",
          "text": [
            "Collecting redis\n",
            "\u001b[?25l  Downloading https://files.pythonhosted.org/packages/a7/7c/24fb0511df653cf1a5d938d8f5d19802a88cef255706fdda242ff97e91b7/redis-3.5.3-py2.py3-none-any.whl (72kB)\n",
            "\r\u001b[K     |████▌                           | 10kB 10.8MB/s eta 0:00:01\r\u001b[K     |█████████                       | 20kB 1.7MB/s eta 0:00:01\r\u001b[K     |█████████████▋                  | 30kB 2.2MB/s eta 0:00:01\r\u001b[K     |██████████████████▏             | 40kB 2.5MB/s eta 0:00:01\r\u001b[K     |██████████████████████▊         | 51kB 2.0MB/s eta 0:00:01\r\u001b[K     |███████████████████████████▎    | 61kB 2.3MB/s eta 0:00:01\r\u001b[K     |███████████████████████████████▉| 71kB 2.6MB/s eta 0:00:01\r\u001b[K     |████████████████████████████████| 81kB 2.3MB/s \n",
            "\u001b[?25hInstalling collected packages: redis\n",
            "Successfully installed redis-3.5.3\n"
          ],
          "name": "stdout"
        }
      ]
    },
    {
      "cell_type": "code",
      "metadata": {
        "id": "IY3JXX3GJ4Ca",
        "colab_type": "code",
        "colab": {
          "base_uri": "https://localhost:8080/",
          "height": 34
        },
        "outputId": "2dbeac74-3ce5-4c12-bc27-21280c8474f0"
      },
      "source": [
        "import redis\n",
        "\n",
        "# step 2: define our connection information for Redis\n",
        "# Replaces with your configuration information\n",
        "redis_host = \"192.168.2.11\"#\"localhost\"\n",
        "redis_port = 6379\n",
        "redis_password = \"\"\n",
        "\n",
        "\n",
        "def hello_redis():\n",
        "    \"\"\"Example Hello Redis Program\"\"\"\n",
        "   \n",
        "    # step 3: create the Redis Connection object\n",
        "    try:\n",
        "   \n",
        "        # The decode_repsonses flag here directs the client to convert the responses from Redis into Python strings\n",
        "        # using the default encoding utf-8.  This is client specific.\n",
        "        r = redis.StrictRedis(host=redis_host, port=redis_port, password=redis_password, decode_responses=True)\n",
        "   \n",
        "        # step 4: Set the hello message in Redis\n",
        "        r.set(\"msg:hello\", \"Hello Redis!!!\")\n",
        "\n",
        "        # step 5: Retrieve the hello message from Redis\n",
        "        msg = r.get(\"msg:hello\")\n",
        "        print(msg)        \n",
        "   \n",
        "    except Exception as e:\n",
        "        print(e)\n",
        "\n",
        "\n",
        "\n",
        "hello_redis()"
      ],
      "execution_count": null,
      "outputs": [
        {
          "output_type": "stream",
          "text": [
            "Error 110 connecting to 192.168.2.11:6379. Connection timed out.\n"
          ],
          "name": "stdout"
        }
      ]
    },
    {
      "cell_type": "code",
      "metadata": {
        "id": "EPHwuUeui67X",
        "colab_type": "code",
        "colab": {}
      },
      "source": [
        "import redis\n",
        "\n",
        "\n",
        "#res = redis.Redis(host='192.168.2.11', port=6379, db=0)\n",
        "#res = redis.Redis(host=\"localhost\", port=6379,db=0)#password=\"\")\n",
        "#r = redis.Redis(host='localhost', port=6379, decode_responses=True)\n",
        "#r = redis.Redis(host='192.168.2.11', port=6379, decode_responses=True)\n",
        "rC = redis.Redis(host='192.168.2.11', port=6379, db=0)\n",
        "#rC = redis.StrictRedis(host='localhost',port=6379,db=0)\n",
        "rC.set(\"name\",\"Ayesha\")\n",
        "print(rC.get('name'))\n"
      ],
      "execution_count": null,
      "outputs": []
    },
    {
      "cell_type": "code",
      "metadata": {
        "id": "9pMvxwWWu8sU",
        "colab_type": "code",
        "colab": {}
      },
      "source": [
        "import the Redis client\n",
        "import redis\n",
        "\n",
        "\n",
        "# Create a redis client\n",
        "redisClient = redis.StrictRedis(host='localhost', port=6379, db=0)\n",
        "\n",
        "# Add key value pairs to the Redis hash\n",
        "hashName = \"Dessert\"\n",
        "redisClient.hset(hashName, 'line', \"Cheesecake\")\n",
        "redisClient.hset(hashName, 'zone', \"zone01\")\n",
        "redisClient.hset(hashName, 'station', \"-1\")\n",
        "redisClient.hset(hashName, 'asset', \"-1\")\n",
        "redisClient.hset(hashName, 'tag_name', \"Zone01_Shift_1\")\n",
        "redisClient.hset(hashName, 'tag_value', \"1\")\n",
        "\n",
        "# Print the hash\n",
        "print(redisClient.hgetall(hashName))\n",
        "\n",
        "# Remove a key\n",
        "redisClient.hdel(hashName, 1)\n",
        " \n",
        "\n",
        "# Print the hash after removing a key\n",
        "print(redisClient.hgetall(hashName))\n",
        "\n",
        "{'line': 'rw43',\n",
        " 'zone': 'zone01',\n",
        " 'station': '-1',\n",
        " 'asset': '-1',\n",
        " 'tag_name': 'Zone01_Shift_1',\n",
        " 'tag_value': '1'\n",
        "} \n",
        "\n"
      ],
      "execution_count": null,
      "outputs": []
    },
    {
      "cell_type": "code",
      "metadata": {
        "id": "XqqGJhObOzzf",
        "colab_type": "code",
        "colab": {}
      },
      "source": [
        "import pickle\n",
        "import redis\n",
        "\n",
        "r = redis.StrictRedis('localhost')\n",
        "mydict = {1:2,2:3,3:4}\n",
        "p_mydict = pickle.dumps(mydict)\n",
        "r.set('mydict',p_mydict)\n",
        "\n",
        "read_dict = r.get('mydict')\n",
        "yourdict = pickle.loads(read_dict)"
      ],
      "execution_count": null,
      "outputs": []
    },
    {
      "cell_type": "code",
      "metadata": {
        "id": "yQc7XEgYpjPo",
        "colab_type": "code",
        "colab": {
          "base_uri": "https://localhost:8080/",
          "height": 125
        },
        "outputId": "bce3c924-a605-49d7-eea4-13d7a5a44481"
      },
      "source": [
        "!pip install redis"
      ],
      "execution_count": null,
      "outputs": [
        {
          "output_type": "stream",
          "text": [
            "Collecting redis\n",
            "\u001b[?25l  Downloading https://files.pythonhosted.org/packages/a7/7c/24fb0511df653cf1a5d938d8f5d19802a88cef255706fdda242ff97e91b7/redis-3.5.3-py2.py3-none-any.whl (72kB)\n",
            "\r\u001b[K     |████▌                           | 10kB 18.3MB/s eta 0:00:01\r\u001b[K     |█████████                       | 20kB 1.8MB/s eta 0:00:01\r\u001b[K     |█████████████▋                  | 30kB 2.2MB/s eta 0:00:01\r\u001b[K     |██████████████████▏             | 40kB 2.5MB/s eta 0:00:01\r\u001b[K     |██████████████████████▊         | 51kB 2.1MB/s eta 0:00:01\r\u001b[K     |███████████████████████████▎    | 61kB 2.3MB/s eta 0:00:01\r\u001b[K     |███████████████████████████████▉| 71kB 2.5MB/s eta 0:00:01\r\u001b[K     |████████████████████████████████| 81kB 2.3MB/s \n",
            "\u001b[?25hInstalling collected packages: redis\n",
            "Successfully installed redis-3.5.3\n"
          ],
          "name": "stdout"
        }
      ]
    },
    {
      "cell_type": "code",
      "metadata": {
        "id": "gpyXCKSOpXLJ",
        "colab_type": "code",
        "colab": {
          "base_uri": "https://localhost:8080/",
          "height": 438
        },
        "outputId": "c6fd82d6-fa50-436b-af4d-70effea9123b"
      },
      "source": [
        "import redis\n",
        "r = redis.Redis(host=\"192.168.2.11\", port=6379, db=0)\n",
        "x = r.get(\"analytics_results\")\n",
        "print(x)"
      ],
      "execution_count": null,
      "outputs": [
        {
          "output_type": "error",
          "ename": "ConnectionError",
          "evalue": "ignored",
          "traceback": [
            "\u001b[0;31m---------------------------------------------------------------------------\u001b[0m",
            "\u001b[0;31mTimeoutError\u001b[0m                              Traceback (most recent call last)",
            "\u001b[0;32m/usr/local/lib/python3.6/dist-packages/redis/connection.py\u001b[0m in \u001b[0;36mconnect\u001b[0;34m(self)\u001b[0m\n\u001b[1;32m    558\u001b[0m         \u001b[0;32mtry\u001b[0m\u001b[0;34m:\u001b[0m\u001b[0;34m\u001b[0m\u001b[0;34m\u001b[0m\u001b[0m\n\u001b[0;32m--> 559\u001b[0;31m             \u001b[0msock\u001b[0m \u001b[0;34m=\u001b[0m \u001b[0mself\u001b[0m\u001b[0;34m.\u001b[0m\u001b[0m_connect\u001b[0m\u001b[0;34m(\u001b[0m\u001b[0;34m)\u001b[0m\u001b[0;34m\u001b[0m\u001b[0;34m\u001b[0m\u001b[0m\n\u001b[0m\u001b[1;32m    560\u001b[0m         \u001b[0;32mexcept\u001b[0m \u001b[0msocket\u001b[0m\u001b[0;34m.\u001b[0m\u001b[0mtimeout\u001b[0m\u001b[0;34m:\u001b[0m\u001b[0;34m\u001b[0m\u001b[0;34m\u001b[0m\u001b[0m\n",
            "\u001b[0;32m/usr/local/lib/python3.6/dist-packages/redis/connection.py\u001b[0m in \u001b[0;36m_connect\u001b[0;34m(self)\u001b[0m\n\u001b[1;32m    614\u001b[0m         \u001b[0;32mif\u001b[0m \u001b[0merr\u001b[0m \u001b[0;32mis\u001b[0m \u001b[0;32mnot\u001b[0m \u001b[0;32mNone\u001b[0m\u001b[0;34m:\u001b[0m\u001b[0;34m\u001b[0m\u001b[0;34m\u001b[0m\u001b[0m\n\u001b[0;32m--> 615\u001b[0;31m             \u001b[0;32mraise\u001b[0m \u001b[0merr\u001b[0m\u001b[0;34m\u001b[0m\u001b[0;34m\u001b[0m\u001b[0m\n\u001b[0m\u001b[1;32m    616\u001b[0m         \u001b[0;32mraise\u001b[0m \u001b[0msocket\u001b[0m\u001b[0;34m.\u001b[0m\u001b[0merror\u001b[0m\u001b[0;34m(\u001b[0m\u001b[0;34m\"socket.getaddrinfo returned an empty list\"\u001b[0m\u001b[0;34m)\u001b[0m\u001b[0;34m\u001b[0m\u001b[0;34m\u001b[0m\u001b[0m\n",
            "\u001b[0;32m/usr/local/lib/python3.6/dist-packages/redis/connection.py\u001b[0m in \u001b[0;36m_connect\u001b[0;34m(self)\u001b[0m\n\u001b[1;32m    602\u001b[0m                 \u001b[0;31m# connect\u001b[0m\u001b[0;34m\u001b[0m\u001b[0;34m\u001b[0m\u001b[0;34m\u001b[0m\u001b[0m\n\u001b[0;32m--> 603\u001b[0;31m                 \u001b[0msock\u001b[0m\u001b[0;34m.\u001b[0m\u001b[0mconnect\u001b[0m\u001b[0;34m(\u001b[0m\u001b[0msocket_address\u001b[0m\u001b[0;34m)\u001b[0m\u001b[0;34m\u001b[0m\u001b[0;34m\u001b[0m\u001b[0m\n\u001b[0m\u001b[1;32m    604\u001b[0m \u001b[0;34m\u001b[0m\u001b[0m\n",
            "\u001b[0;31mTimeoutError\u001b[0m: [Errno 110] Connection timed out",
            "\nDuring handling of the above exception, another exception occurred:\n",
            "\u001b[0;31mConnectionError\u001b[0m                           Traceback (most recent call last)",
            "\u001b[0;32m<ipython-input-3-e33b925a31e1>\u001b[0m in \u001b[0;36m<module>\u001b[0;34m()\u001b[0m\n\u001b[1;32m      1\u001b[0m \u001b[0;32mimport\u001b[0m \u001b[0mredis\u001b[0m\u001b[0;34m\u001b[0m\u001b[0;34m\u001b[0m\u001b[0m\n\u001b[1;32m      2\u001b[0m \u001b[0mr\u001b[0m \u001b[0;34m=\u001b[0m \u001b[0mredis\u001b[0m\u001b[0;34m.\u001b[0m\u001b[0mRedis\u001b[0m\u001b[0;34m(\u001b[0m\u001b[0mhost\u001b[0m\u001b[0;34m=\u001b[0m\u001b[0;34m\"192.168.2.11\"\u001b[0m\u001b[0;34m,\u001b[0m \u001b[0mport\u001b[0m\u001b[0;34m=\u001b[0m\u001b[0;36m6379\u001b[0m\u001b[0;34m,\u001b[0m \u001b[0mdb\u001b[0m\u001b[0;34m=\u001b[0m\u001b[0;36m0\u001b[0m\u001b[0;34m)\u001b[0m\u001b[0;34m\u001b[0m\u001b[0;34m\u001b[0m\u001b[0m\n\u001b[0;32m----> 3\u001b[0;31m \u001b[0mx\u001b[0m \u001b[0;34m=\u001b[0m \u001b[0mr\u001b[0m\u001b[0;34m.\u001b[0m\u001b[0mget\u001b[0m\u001b[0;34m(\u001b[0m\u001b[0;34m\"analytics_results\"\u001b[0m\u001b[0;34m)\u001b[0m\u001b[0;34m\u001b[0m\u001b[0;34m\u001b[0m\u001b[0m\n\u001b[0m\u001b[1;32m      4\u001b[0m \u001b[0mprint\u001b[0m\u001b[0;34m(\u001b[0m\u001b[0mx\u001b[0m\u001b[0;34m)\u001b[0m\u001b[0;34m\u001b[0m\u001b[0;34m\u001b[0m\u001b[0m\n",
            "\u001b[0;32m/usr/local/lib/python3.6/dist-packages/redis/client.py\u001b[0m in \u001b[0;36mget\u001b[0;34m(self, name)\u001b[0m\n\u001b[1;32m   1604\u001b[0m         \u001b[0mReturn\u001b[0m \u001b[0mthe\u001b[0m \u001b[0mvalue\u001b[0m \u001b[0mat\u001b[0m \u001b[0mkey\u001b[0m\u001b[0;31m \u001b[0m\u001b[0;31m`\u001b[0m\u001b[0;31m`\u001b[0m\u001b[0mname\u001b[0m\u001b[0;31m`\u001b[0m\u001b[0;31m`\u001b[0m\u001b[0;34m,\u001b[0m \u001b[0;32mor\u001b[0m \u001b[0;32mNone\u001b[0m \u001b[0;32mif\u001b[0m \u001b[0mthe\u001b[0m \u001b[0mkey\u001b[0m \u001b[0mdoesn\u001b[0m\u001b[0;31m'\u001b[0m\u001b[0mt\u001b[0m \u001b[0mexist\u001b[0m\u001b[0;34m\u001b[0m\u001b[0;34m\u001b[0m\u001b[0m\n\u001b[1;32m   1605\u001b[0m         \"\"\"\n\u001b[0;32m-> 1606\u001b[0;31m         \u001b[0;32mreturn\u001b[0m \u001b[0mself\u001b[0m\u001b[0;34m.\u001b[0m\u001b[0mexecute_command\u001b[0m\u001b[0;34m(\u001b[0m\u001b[0;34m'GET'\u001b[0m\u001b[0;34m,\u001b[0m \u001b[0mname\u001b[0m\u001b[0;34m)\u001b[0m\u001b[0;34m\u001b[0m\u001b[0;34m\u001b[0m\u001b[0m\n\u001b[0m\u001b[1;32m   1607\u001b[0m \u001b[0;34m\u001b[0m\u001b[0m\n\u001b[1;32m   1608\u001b[0m     \u001b[0;32mdef\u001b[0m \u001b[0m__getitem__\u001b[0m\u001b[0;34m(\u001b[0m\u001b[0mself\u001b[0m\u001b[0;34m,\u001b[0m \u001b[0mname\u001b[0m\u001b[0;34m)\u001b[0m\u001b[0;34m:\u001b[0m\u001b[0;34m\u001b[0m\u001b[0;34m\u001b[0m\u001b[0m\n",
            "\u001b[0;32m/usr/local/lib/python3.6/dist-packages/redis/client.py\u001b[0m in \u001b[0;36mexecute_command\u001b[0;34m(self, *args, **options)\u001b[0m\n\u001b[1;32m    896\u001b[0m         \u001b[0mpool\u001b[0m \u001b[0;34m=\u001b[0m \u001b[0mself\u001b[0m\u001b[0;34m.\u001b[0m\u001b[0mconnection_pool\u001b[0m\u001b[0;34m\u001b[0m\u001b[0;34m\u001b[0m\u001b[0m\n\u001b[1;32m    897\u001b[0m         \u001b[0mcommand_name\u001b[0m \u001b[0;34m=\u001b[0m \u001b[0margs\u001b[0m\u001b[0;34m[\u001b[0m\u001b[0;36m0\u001b[0m\u001b[0;34m]\u001b[0m\u001b[0;34m\u001b[0m\u001b[0;34m\u001b[0m\u001b[0m\n\u001b[0;32m--> 898\u001b[0;31m         \u001b[0mconn\u001b[0m \u001b[0;34m=\u001b[0m \u001b[0mself\u001b[0m\u001b[0;34m.\u001b[0m\u001b[0mconnection\u001b[0m \u001b[0;32mor\u001b[0m \u001b[0mpool\u001b[0m\u001b[0;34m.\u001b[0m\u001b[0mget_connection\u001b[0m\u001b[0;34m(\u001b[0m\u001b[0mcommand_name\u001b[0m\u001b[0;34m,\u001b[0m \u001b[0;34m**\u001b[0m\u001b[0moptions\u001b[0m\u001b[0;34m)\u001b[0m\u001b[0;34m\u001b[0m\u001b[0;34m\u001b[0m\u001b[0m\n\u001b[0m\u001b[1;32m    899\u001b[0m         \u001b[0;32mtry\u001b[0m\u001b[0;34m:\u001b[0m\u001b[0;34m\u001b[0m\u001b[0;34m\u001b[0m\u001b[0m\n\u001b[1;32m    900\u001b[0m             \u001b[0mconn\u001b[0m\u001b[0;34m.\u001b[0m\u001b[0msend_command\u001b[0m\u001b[0;34m(\u001b[0m\u001b[0;34m*\u001b[0m\u001b[0margs\u001b[0m\u001b[0;34m)\u001b[0m\u001b[0;34m\u001b[0m\u001b[0;34m\u001b[0m\u001b[0m\n",
            "\u001b[0;32m/usr/local/lib/python3.6/dist-packages/redis/connection.py\u001b[0m in \u001b[0;36mget_connection\u001b[0;34m(self, command_name, *keys, **options)\u001b[0m\n\u001b[1;32m   1190\u001b[0m         \u001b[0;32mtry\u001b[0m\u001b[0;34m:\u001b[0m\u001b[0;34m\u001b[0m\u001b[0;34m\u001b[0m\u001b[0m\n\u001b[1;32m   1191\u001b[0m             \u001b[0;31m# ensure this connection is connected to Redis\u001b[0m\u001b[0;34m\u001b[0m\u001b[0;34m\u001b[0m\u001b[0;34m\u001b[0m\u001b[0m\n\u001b[0;32m-> 1192\u001b[0;31m             \u001b[0mconnection\u001b[0m\u001b[0;34m.\u001b[0m\u001b[0mconnect\u001b[0m\u001b[0;34m(\u001b[0m\u001b[0;34m)\u001b[0m\u001b[0;34m\u001b[0m\u001b[0;34m\u001b[0m\u001b[0m\n\u001b[0m\u001b[1;32m   1193\u001b[0m             \u001b[0;31m# connections that the pool provides should be ready to send\u001b[0m\u001b[0;34m\u001b[0m\u001b[0;34m\u001b[0m\u001b[0;34m\u001b[0m\u001b[0m\n\u001b[1;32m   1194\u001b[0m             \u001b[0;31m# a command. if not, the connection was either returned to the\u001b[0m\u001b[0;34m\u001b[0m\u001b[0;34m\u001b[0m\u001b[0;34m\u001b[0m\u001b[0m\n",
            "\u001b[0;32m/usr/local/lib/python3.6/dist-packages/redis/connection.py\u001b[0m in \u001b[0;36mconnect\u001b[0;34m(self)\u001b[0m\n\u001b[1;32m    561\u001b[0m             \u001b[0;32mraise\u001b[0m \u001b[0mTimeoutError\u001b[0m\u001b[0;34m(\u001b[0m\u001b[0;34m\"Timeout connecting to server\"\u001b[0m\u001b[0;34m)\u001b[0m\u001b[0;34m\u001b[0m\u001b[0;34m\u001b[0m\u001b[0m\n\u001b[1;32m    562\u001b[0m         \u001b[0;32mexcept\u001b[0m \u001b[0msocket\u001b[0m\u001b[0;34m.\u001b[0m\u001b[0merror\u001b[0m \u001b[0;32mas\u001b[0m \u001b[0me\u001b[0m\u001b[0;34m:\u001b[0m\u001b[0;34m\u001b[0m\u001b[0;34m\u001b[0m\u001b[0m\n\u001b[0;32m--> 563\u001b[0;31m             \u001b[0;32mraise\u001b[0m \u001b[0mConnectionError\u001b[0m\u001b[0;34m(\u001b[0m\u001b[0mself\u001b[0m\u001b[0;34m.\u001b[0m\u001b[0m_error_message\u001b[0m\u001b[0;34m(\u001b[0m\u001b[0me\u001b[0m\u001b[0;34m)\u001b[0m\u001b[0;34m)\u001b[0m\u001b[0;34m\u001b[0m\u001b[0;34m\u001b[0m\u001b[0m\n\u001b[0m\u001b[1;32m    564\u001b[0m \u001b[0;34m\u001b[0m\u001b[0m\n\u001b[1;32m    565\u001b[0m         \u001b[0mself\u001b[0m\u001b[0;34m.\u001b[0m\u001b[0m_sock\u001b[0m \u001b[0;34m=\u001b[0m \u001b[0msock\u001b[0m\u001b[0;34m\u001b[0m\u001b[0;34m\u001b[0m\u001b[0m\n",
            "\u001b[0;31mConnectionError\u001b[0m: Error 110 connecting to 192.168.2.11:6379. Connection timed out."
          ]
        }
      ]
    }
  ]
}